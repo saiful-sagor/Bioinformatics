{
  "nbformat": 4,
  "nbformat_minor": 0,
  "metadata": {
    "colab": {
      "provenance": []
    },
    "kernelspec": {
      "name": "python3",
      "display_name": "Python 3"
    },
    "language_info": {
      "name": "python"
    }
  },
  "cells": [
    {
      "cell_type": "markdown",
      "source": [
        "**BA1A: Compute the Number of Times a Pattern Appears in a Text**"
      ],
      "metadata": {
        "id": "DV2qCnGUVQW-"
      }
    },
    {
      "cell_type": "code",
      "execution_count": null,
      "metadata": {
        "colab": {
          "base_uri": "https://localhost:8080/"
        },
        "id": "3b3XF6FIVLeL",
        "outputId": "83753e6d-872f-40e9-b3ec-d8c0891311bc"
      },
      "outputs": [
        {
          "output_type": "stream",
          "name": "stdout",
          "text": [
            "4\n"
          ]
        }
      ],
      "source": [
        "def patternCount(Text,pattern):\n",
        "  cnt = 0\n",
        "  i = 0\n",
        "  j = len(pattern)\n",
        "  while j <= len(Text):\n",
        "    # print('i = ',i,'j = ',j,'cnt = ',cnt)\n",
        "    if Text[i:j] == pattern:\n",
        "      cnt += 1\n",
        "    i += 1 \n",
        "    j += 1 \n",
        "  return cnt    \n",
        "\n",
        "ans = patternCount(\"AAAGAGTGTCTGATAGCAGCTTCTGAACTGGTTACCTGCCGTGAGTAAATTAAATTTTATTGACTTAGGTCACTAAATACTTTAACCAATATAGGCATAGCGCACAGACAGATAATAATTACAGAGTACACAACATCCAT\",'AAA')\n",
        "print(ans)"
      ]
    },
    {
      "cell_type": "markdown",
      "source": [
        "**BA1B: Find the Most Frequent Words in a String**"
      ],
      "metadata": {
        "id": "gzgJPvyKbZVr"
      }
    },
    {
      "cell_type": "code",
      "source": [
        "def mostFrequentKmer(dna,k):\n",
        "  d = dict()\n",
        "  for i in range(len(dna) - k + 1):\n",
        "    if dna[i:i+k] in d:\n",
        "      d[dna[i:i+k]] += 1\n",
        "    else:\n",
        "      d[dna[i:i+k]] = 1\n",
        "  m = max(d.values())\n",
        "  for k,val in d.items():\n",
        "    if val ==  m:\n",
        "      print(k,end = ' ')  \n",
        "mostFrequentKmer(\"ACGTTGCATGTCGCATGATGCATGAGAGCT\",4)\n"
      ],
      "metadata": {
        "colab": {
          "base_uri": "https://localhost:8080/"
        },
        "id": "CZajuX7Obi1t",
        "outputId": "ecdcae80-6641-4d21-acca-d6c1221c557d"
      },
      "execution_count": null,
      "outputs": [
        {
          "output_type": "stream",
          "name": "stdout",
          "text": [
            "GCAT CATG "
          ]
        }
      ]
    },
    {
      "cell_type": "markdown",
      "source": [
        "**BA1C: Find the Reverse Complement of a String**"
      ],
      "metadata": {
        "id": "R8PsW3SaaqzY"
      }
    },
    {
      "cell_type": "code",
      "source": [
        "!pip install Bio"
      ],
      "metadata": {
        "colab": {
          "base_uri": "https://localhost:8080/"
        },
        "id": "W6DSP1UxfucC",
        "outputId": "a952c123-10b9-4a83-9eef-9c172a22792c"
      },
      "execution_count": null,
      "outputs": [
        {
          "output_type": "stream",
          "name": "stdout",
          "text": [
            "Looking in indexes: https://pypi.org/simple, https://us-python.pkg.dev/colab-wheels/public/simple/\n",
            "Collecting Bio\n",
            "  Downloading bio-1.5.2-py3-none-any.whl (273 kB)\n",
            "\u001b[?25l\r\u001b[K     |█▏                              | 10 kB 19.3 MB/s eta 0:00:01\r\u001b[K     |██▍                             | 20 kB 5.9 MB/s eta 0:00:01\r\u001b[K     |███▋                            | 30 kB 8.3 MB/s eta 0:00:01\r\u001b[K     |████▉                           | 40 kB 3.7 MB/s eta 0:00:01\r\u001b[K     |██████                          | 51 kB 3.9 MB/s eta 0:00:01\r\u001b[K     |███████▏                        | 61 kB 4.5 MB/s eta 0:00:01\r\u001b[K     |████████▍                       | 71 kB 4.7 MB/s eta 0:00:01\r\u001b[K     |█████████▋                      | 81 kB 5.1 MB/s eta 0:00:01\r\u001b[K     |██████████▉                     | 92 kB 5.5 MB/s eta 0:00:01\r\u001b[K     |████████████                    | 102 kB 4.4 MB/s eta 0:00:01\r\u001b[K     |█████████████▏                  | 112 kB 4.4 MB/s eta 0:00:01\r\u001b[K     |██████████████▍                 | 122 kB 4.4 MB/s eta 0:00:01\r\u001b[K     |███████████████▋                | 133 kB 4.4 MB/s eta 0:00:01\r\u001b[K     |████████████████▉               | 143 kB 4.4 MB/s eta 0:00:01\r\u001b[K     |██████████████████              | 153 kB 4.4 MB/s eta 0:00:01\r\u001b[K     |███████████████████▏            | 163 kB 4.4 MB/s eta 0:00:01\r\u001b[K     |████████████████████▍           | 174 kB 4.4 MB/s eta 0:00:01\r\u001b[K     |█████████████████████▋          | 184 kB 4.4 MB/s eta 0:00:01\r\u001b[K     |██████████████████████▉         | 194 kB 4.4 MB/s eta 0:00:01\r\u001b[K     |████████████████████████        | 204 kB 4.4 MB/s eta 0:00:01\r\u001b[K     |█████████████████████████▏      | 215 kB 4.4 MB/s eta 0:00:01\r\u001b[K     |██████████████████████████▍     | 225 kB 4.4 MB/s eta 0:00:01\r\u001b[K     |███████████████████████████▋    | 235 kB 4.4 MB/s eta 0:00:01\r\u001b[K     |████████████████████████████▉   | 245 kB 4.4 MB/s eta 0:00:01\r\u001b[K     |██████████████████████████████  | 256 kB 4.4 MB/s eta 0:00:01\r\u001b[K     |███████████████████████████████▏| 266 kB 4.4 MB/s eta 0:00:01\r\u001b[K     |████████████████████████████████| 273 kB 4.4 MB/s \n",
            "\u001b[?25hRequirement already satisfied: tqdm in /usr/local/lib/python3.8/dist-packages (from Bio) (4.64.1)\n",
            "Collecting biopython==1.79\n",
            "  Downloading biopython-1.79-cp38-cp38-manylinux_2_17_x86_64.manylinux2014_x86_64.whl (2.7 MB)\n",
            "\u001b[K     |████████████████████████████████| 2.7 MB 54.2 MB/s \n",
            "\u001b[?25hRequirement already satisfied: requests in /usr/local/lib/python3.8/dist-packages (from Bio) (2.23.0)\n",
            "Collecting mygene\n",
            "  Downloading mygene-3.2.2-py2.py3-none-any.whl (5.4 kB)\n",
            "Requirement already satisfied: numpy in /usr/local/lib/python3.8/dist-packages (from biopython==1.79->Bio) (1.21.6)\n",
            "Collecting biothings-client>=0.2.6\n",
            "  Downloading biothings_client-0.2.6-py2.py3-none-any.whl (37 kB)\n",
            "Requirement already satisfied: chardet<4,>=3.0.2 in /usr/local/lib/python3.8/dist-packages (from requests->Bio) (3.0.4)\n",
            "Requirement already satisfied: idna<3,>=2.5 in /usr/local/lib/python3.8/dist-packages (from requests->Bio) (2.10)\n",
            "Requirement already satisfied: urllib3!=1.25.0,!=1.25.1,<1.26,>=1.21.1 in /usr/local/lib/python3.8/dist-packages (from requests->Bio) (1.24.3)\n",
            "Requirement already satisfied: certifi>=2017.4.17 in /usr/local/lib/python3.8/dist-packages (from requests->Bio) (2022.9.24)\n",
            "Installing collected packages: biothings-client, mygene, biopython, Bio\n",
            "Successfully installed Bio-1.5.2 biopython-1.79 biothings-client-0.2.6 mygene-3.2.2\n"
          ]
        }
      ]
    },
    {
      "cell_type": "code",
      "source": [
        "def reverseComplement(dna):\n",
        "  s =''\n",
        "  for i in dna:\n",
        "    if i == 'A':\n",
        "      s += 'T'\n",
        "    if i == 'T':\n",
        "      s += 'A'  \n",
        "    if i == 'C':\n",
        "      s += 'G'\n",
        "    if i == 'G':\n",
        "      s += 'C'  \n",
        "  return s[::-1]    \n",
        "\n",
        "# dna = \"AAAACCCGGT\"\n",
        "# print(reverseComplement(dna))\n",
        "\n",
        "# or \n",
        "from Bio import Seq\n",
        "def reverseComplement1(dna):\n",
        "  return Seq.reverse_complement(dna)\n",
        "\n",
        "dna = \"AAAACCCGGT\"\n",
        "print(reverseComplement1(dna))\n",
        "\n"
      ],
      "metadata": {
        "colab": {
          "base_uri": "https://localhost:8080/"
        },
        "id": "XdHTbNMpa0lu",
        "outputId": "b8991bc9-56e3-484c-9037-1a040308caf2"
      },
      "execution_count": null,
      "outputs": [
        {
          "output_type": "stream",
          "name": "stdout",
          "text": [
            "ACCGGGTTTT\n"
          ]
        }
      ]
    },
    {
      "cell_type": "markdown",
      "source": [
        "**BA1D: Find All Occurrences of a Pattern in a String**"
      ],
      "metadata": {
        "id": "POezwVtSgEtS"
      }
    },
    {
      "cell_type": "code",
      "source": [
        "def findAllLoc(pattern,dna):\n",
        "  i = 0\n",
        "  ld = len(dna)\n",
        "  lp = len(pattern)\n",
        "  ans = []\n",
        "  for i in range(ld-lp+1):\n",
        "    # print(dna[i:i+lp])\n",
        "    if dna[i:i+lp] == pattern:\n",
        "      ans.append(i)\n",
        "  return ans    \n",
        "\n",
        "pattern = \"ATAT\"\n",
        "dna = \"GATATATGCATATACTT\" \n",
        "l = findAllLoc(pattern,dna)\n",
        "\n",
        "for i in l:\n",
        "  print(i,end = ' ')"
      ],
      "metadata": {
        "colab": {
          "base_uri": "https://localhost:8080/"
        },
        "id": "YFZzNBoxgw3t",
        "outputId": "e60be6cd-21c6-4558-fe6e-01436b1edad8"
      },
      "execution_count": null,
      "outputs": [
        {
          "output_type": "stream",
          "name": "stdout",
          "text": [
            "1 3 9 "
          ]
        }
      ]
    },
    {
      "cell_type": "markdown",
      "source": [
        "**BA1E: Find Patterns Forming Clumps in a String**"
      ],
      "metadata": {
        "id": "OMV5CElKxAQE"
      }
    },
    {
      "cell_type": "code",
      "source": [
        "def frequencyTable(seq,k):\n",
        "  freq = {}\n",
        "  ls = len(seq)\n",
        "  for i in range(ls-k+1):\n",
        "    if seq[i:i+k] in freq:\n",
        "      freq[seq[i:i+k]] += 1\n",
        "    else:\n",
        "      freq[seq[i:i+k]] = 1\n",
        "  return freq    \n",
        "\n",
        "\n",
        "def find_clumping_kmers(seq,k,l,t):\n",
        "  ls = len(seq)\n",
        "  kmers = set()\n",
        "  for i in range(ls-l+1):\n",
        "    freq_table = frequencyTable(seq[i:i+l],k)\n",
        "    # print(freq_table)\n",
        "    # print(len(seq[i:i+l]))\n",
        "    for key,val in freq_table.items():\n",
        "      if val>=t:\n",
        "        kmers.add(key)\n",
        "  return kmers   \n",
        "\n",
        "seq = 'CGGACTCGACAGATGTGAAGAAATGTGAAGACTGAGTGAAGAGAAGAGGAAACACGACACGACATTGCGACATAATGTACGAATGTAATGTGCCTATGGC'\n",
        "print(find_clumping_kmers(seq,5,75,4))\n",
        "\n",
        "\n"
      ],
      "metadata": {
        "colab": {
          "base_uri": "https://localhost:8080/"
        },
        "id": "5GFaY35PhhJ0",
        "outputId": "1e0679f0-81b2-4d5f-8b10-ff8cbebc62a6"
      },
      "execution_count": null,
      "outputs": [
        {
          "output_type": "stream",
          "name": "stdout",
          "text": [
            "{'CGACA', 'AATGT', 'GAAGA'}\n"
          ]
        }
      ]
    },
    {
      "cell_type": "markdown",
      "source": [
        "**BA1F: Find a Position in a Genome Minimizing the Skew**"
      ],
      "metadata": {
        "id": "1zdtXkpAznCE"
      }
    },
    {
      "cell_type": "code",
      "source": [
        "def minimumSkew(seq):\n",
        "  l = [0]\n",
        "  gc = 0\n",
        "\n",
        "  for i in range(len(seq)):\n",
        "    if seq[i] == 'G':\n",
        "      gc += 1\n",
        "    elif seq[i] == 'C':\n",
        "      gc -= 1\n",
        "    else:\n",
        "      gc += 0\n",
        "    l.append(gc)  \n",
        "  mingc = min(l)  \n",
        "  for i in range(len(l)):\n",
        "    if l[i] == mingc:\n",
        "      print(i,end =' ')  \n",
        "\n",
        "minimumSkew('CCTATCGGTGGATTAGCATGTCCCTGTACGTTTCGCCGCGAACTAGTTCACACGGCTTGATGGCAAATGGTTTTTCCGGCGACCGTAATCGTCCACCGAG')\n",
        "  \n",
        "\n"
      ],
      "metadata": {
        "colab": {
          "base_uri": "https://localhost:8080/"
        },
        "id": "WvPQy6lTzmSp",
        "outputId": "ae873978-cee1-4450-e9b7-ff9e5a4bfb0e"
      },
      "execution_count": null,
      "outputs": [
        {
          "output_type": "stream",
          "name": "stdout",
          "text": [
            "53 97 "
          ]
        }
      ]
    },
    {
      "cell_type": "markdown",
      "source": [
        "**BA1G: Compute the Hamming Distance Between Two Strings**"
      ],
      "metadata": {
        "id": "HNaD84fQeo4p"
      }
    },
    {
      "cell_type": "code",
      "source": [
        "def hammingDistance(text1,text2):\n",
        "  d = 0\n",
        "  for i in range(len(text1)):\n",
        "    if text1[i] != text2[i]:\n",
        "      d += 1\n",
        "  return d    \n",
        "\n",
        "\n",
        "print(hammingDistance(\"GGGCCGTTGGT\",\"GGACCGTTGAC\"))"
      ],
      "metadata": {
        "colab": {
          "base_uri": "https://localhost:8080/"
        },
        "id": "96Mb6X7wesYb",
        "outputId": "e58e6605-057f-401c-84de-7911a44bf131"
      },
      "execution_count": null,
      "outputs": [
        {
          "output_type": "stream",
          "name": "stdout",
          "text": [
            "3\n"
          ]
        }
      ]
    },
    {
      "cell_type": "markdown",
      "source": [
        "**BA1H: Find All Approximate Occurrences of a Pattern in a String**"
      ],
      "metadata": {
        "id": "UdJluqWRhm1y"
      }
    },
    {
      "cell_type": "code",
      "source": [
        "def hammingDistance(text1,text2):\n",
        "  d = 0\n",
        "  for i in range(len(text1)):\n",
        "    if text1[i] != text2[i]:\n",
        "      d += 1\n",
        "  return d   \n",
        "\n",
        "def findAllApproxLoc(pattern,Text,d):\n",
        "  loc = []\n",
        "  for i in range(len(Text) - len(pattern) + 1):\n",
        "    if hammingDistance(Text[i:i+len(pattern)],pattern) <= d:\n",
        "      loc.append(i)\n",
        "  return loc    \n",
        "\n",
        "\n",
        "print(findAllApproxLoc('ATTCTGGA','CGCCCGAATCCAGAACGCATTCCCATATTTCGGGACCACTGGCCTCCACGGTACGGACGTCAATCAAATGCCTAGCGGCTTGTGGTTTCTCCTACGCTCC',3)) \n"
      ],
      "metadata": {
        "colab": {
          "base_uri": "https://localhost:8080/"
        },
        "id": "wYAqRY71hptM",
        "outputId": "6fba9475-59be-4005-9a5a-e8166922d709"
      },
      "execution_count": null,
      "outputs": [
        {
          "output_type": "stream",
          "name": "stdout",
          "text": [
            "[6, 7, 26, 27, 78]\n"
          ]
        }
      ]
    },
    {
      "cell_type": "markdown",
      "source": [
        "**BA1I: Find the Most Frequent Words with Mismatches in a String**"
      ],
      "metadata": {
        "id": "XE0jLP3vlX4z"
      }
    },
    {
      "cell_type": "code",
      "source": [
        "import itertools\n",
        "def hamming_distance(seq1,seq2):\n",
        "  s = 0\n",
        "  for i,j in zip(seq1,seq2):\n",
        "    if i != j:\n",
        "      s += 1\n",
        "  return s  \n",
        "\n",
        "def frequentWord(seq,k,d):\n",
        "  kmerList = [''.join(kmer) for kmer in itertools.product('ATCG', repeat= k)] #making all possible k-mer with ATCG\n",
        "  kmerSeq = []\n",
        "  for i in range(len(seq)-k+1):  #making all possible substring(k-mer) of given sequence\n",
        "    kmerSeq.append(seq[i:i+k])\n",
        "  dic =dict()\n",
        "  for i in kmerList: #first loop for all kmer from KmerList\n",
        "    for j in kmerSeq: #for all substring of given seq\n",
        "      if hamming_distance(i,j)<=d:\n",
        "        if i in dic:\n",
        "          dic[i] += 1\n",
        "        else:\n",
        "          dic[i] = 1  \n",
        "  maxval = max(dic.values())  # getting maximum frequency \n",
        "       \n",
        "  return [kmer for kmer in dic.keys() if dic[kmer] == maxval] #return all possible kmer that have max frequency  \n",
        "\n",
        "print(frequentWord(\"GATCGCGGCAATCATTGGGCCACACCAATCATTGGGCCACACCAATCATTTCAGGCTGGGCAATTTGAGGGCCACACCAATCATTGATCGCGGGGCAATTTGAGATCGCGGCAATCATTTCAGGCTGGGCAATTTGACAATCATTTCAGGCTGGGCAATTTGAGATCGCGGCAATCATTGATCGCGGCAATCATTGGCAATTTGAGATCGCGGGGCAATTTGAGGGCCACACGGCAATTTGAGGGCCACACGGGCCACACTCAGGCTGGATCGCGGGATCGCGGTCAGGCTGGATCGCGGGATCGCGGGGGCCACACGGGCCACACCAATCATTGATCGCGGGATCGCGGCAATCATTCAATCATTGATCGCGGGGCAATTTGAGGGCCACACGATCGCGGGATCGCGGGGCAATTTGATCAGGCTGGATCGCGGTCAGGCTGGGCAATTTGAGGGCCACACGATCGCGGGGGCCACACGGGCCACACTCAGGCTGGGCAATTTGACAATCATTGGGCCACACGATCGCGGTCAGGCTGGGGCCACACCAATCATTGGGCCACACGGCAATTTGAGGCAATTTGATCAGGCTGGGGCCACACGGGCCACACGGGCCACACCAATCATTTCAGGCTGGGCAATTTGATCAGGCTGGATCGCGGGGCAATTTGACAATCATTGGCAATTTGACAATCATTCAATCATTTCAGGCTGTCAGGCTGGGCAATTTGAGGCAATTTGAGATCGCGGGATCGCGGCAATCATTGGGCCACACGGGCCACACTCAGGCTGGGGCCACACTCAGGCTGGGGCCACACGGGCCACACGGCAATTTGACAATCATTTCAGGCTGCAATCATTTCAGGCTGTCAGGCTGGGGCCACACGGCAATTTGAGATCGCGGGGCAATTTGATCAGGCTGGGGCCACAC\",5, 3))"
      ],
      "metadata": {
        "colab": {
          "base_uri": "https://localhost:8080/"
        },
        "id": "7dNPP7D0MDbS",
        "outputId": "90494529-5de3-4f12-d9f9-755412a6dcd3"
      },
      "execution_count": null,
      "outputs": [
        {
          "output_type": "stream",
          "name": "stdout",
          "text": [
            "['GGGAG']\n"
          ]
        }
      ]
    },
    {
      "cell_type": "markdown",
      "source": [
        "**BA1J:Find Frequent Words with Mismatches and Reverse Complements**"
      ],
      "metadata": {
        "id": "Tr758WesMC-6"
      }
    },
    {
      "cell_type": "code",
      "source": [
        "!pip install Bio"
      ],
      "metadata": {
        "colab": {
          "base_uri": "https://localhost:8080/"
        },
        "id": "_njO6nkaxRig",
        "outputId": "2072799f-fde0-448e-96fc-8f03a06e928e"
      },
      "execution_count": null,
      "outputs": [
        {
          "output_type": "stream",
          "name": "stdout",
          "text": [
            "Looking in indexes: https://pypi.org/simple, https://us-python.pkg.dev/colab-wheels/public/simple/\n",
            "Requirement already satisfied: Bio in /usr/local/lib/python3.8/dist-packages (1.5.2)\n",
            "Requirement already satisfied: tqdm in /usr/local/lib/python3.8/dist-packages (from Bio) (4.64.1)\n",
            "Requirement already satisfied: mygene in /usr/local/lib/python3.8/dist-packages (from Bio) (3.2.2)\n",
            "Requirement already satisfied: biopython==1.79 in /usr/local/lib/python3.8/dist-packages (from Bio) (1.79)\n",
            "Requirement already satisfied: requests in /usr/local/lib/python3.8/dist-packages (from Bio) (2.23.0)\n",
            "Requirement already satisfied: numpy in /usr/local/lib/python3.8/dist-packages (from biopython==1.79->Bio) (1.21.6)\n",
            "Requirement already satisfied: biothings-client>=0.2.6 in /usr/local/lib/python3.8/dist-packages (from mygene->Bio) (0.2.6)\n",
            "Requirement already satisfied: chardet<4,>=3.0.2 in /usr/local/lib/python3.8/dist-packages (from requests->Bio) (3.0.4)\n",
            "Requirement already satisfied: urllib3!=1.25.0,!=1.25.1,<1.26,>=1.21.1 in /usr/local/lib/python3.8/dist-packages (from requests->Bio) (1.24.3)\n",
            "Requirement already satisfied: certifi>=2017.4.17 in /usr/local/lib/python3.8/dist-packages (from requests->Bio) (2022.9.24)\n",
            "Requirement already satisfied: idna<3,>=2.5 in /usr/local/lib/python3.8/dist-packages (from requests->Bio) (2.10)\n"
          ]
        }
      ]
    },
    {
      "cell_type": "code",
      "source": [
        "import itertools\n",
        "from Bio import Seq\n",
        "def hamming_distance(seq1,seq2):\n",
        "  s = 0\n",
        "  for i,j in zip(seq1,seq2):\n",
        "    if i != j:\n",
        "      s += 1\n",
        "  return s  \n",
        "\n",
        "def frequentWord(seq,k,d):\n",
        "  kmerList = [''.join(kmer) for kmer in itertools.product('ATCG', repeat= k)] #making all possible k-mer with ATCG\n",
        "  kmerSeq = []\n",
        "  for i in range(len(seq)-k+1):  #making all possible substring(k-mer) of given sequence\n",
        "    kmerSeq.append(seq[i:i+k])\n",
        "  dic =dict()\n",
        "  for i in kmerList: #first loop for all kmer from KmerList\n",
        "    for j in kmerSeq: #for all substring of given seq\n",
        "      if hamming_distance(i,j)<=d:\n",
        "        if i in dic:\n",
        "          dic[i] += 1\n",
        "        else:\n",
        "          dic[i] = 1\n",
        "      if hamming_distance(Seq.reverse_complement(i),j)<=d:\n",
        "        if i in dic:\n",
        "          dic[i] += 1\n",
        "        else:\n",
        "          dic[i] = 1              \n",
        "  maxval = max(dic.values())  # getting maximum frequency \n",
        "       \n",
        "  return [kmer for kmer in dic.keys() if dic[kmer] == maxval] #return all possible kmer that have max frequency  \n",
        "\n",
        "print(frequentWord('TTTCCGGGTGGATCATTTCGCCTGATTTCCGGGTCGCCTGACGCCTGATTTCCGGGTCGCCTGAGGATCATTTCGCCTGATTTCCGGGTTAACCCCACCCTCCGGATCATTTTAACCCCGGATCATTTCGCCTGATAACCCCTAACCCCTTTCCGGGTGGATCATTTACCCTCCGGATCATTTCGCCTGAGGATCATTTGGATCATTTTAACCCCGGATCATTTTAACCCCCGCCTGAGGATCATTTTAACCCCACCCTCCGGATCATTTTTTCCGGGTCGCCTGAGGATCATTTCGCCTGAGGATCATTTGGATCATTTTAACCCCTAACCCCTTTCCGGGTTTTCCGGGTACCCTCCTAACCCCGGATCATTTTTTCCGGGTCGCCTGATAACCCCTAACCCCACCCTCCACCCTCCCGCCTGATAACCCCACCCTCCGGATCATTTTTTCCGGGTTAACCCCTAACCCCACCCTCCTTTCCGGGTACCCTCCTAACCCCCGCCTGACGCCTGATAACCCCTTTCCGGGTTAACCCCTAACCCCTAACCCCTAACCCCTAACCCCTAACCCCTTTCCGGGTTTTCCGGGTTTTCCGGGTTTTCCGGGTACCCTCCGGATCATTTGGATCATTTCGCCTGACGCCTGATAACCCCTTTCCGGGTTTTCCGGGTCGCCTGACGCCTGACGCCTGAGGATCATTTCGCCTGACGCCTGATAACCCCACCCTCCACCCTCCTAACCCCGGATCATTTCGCCTGAGGATCATTTGGATCATTTTTTCCGGGTACCCTCCTTTCCGGGTCGCCTGACGCCTGAACCCTCCACCCTCCACCCTCCACCCTCCCGCCTGACGCCTGA',6,3))"
      ],
      "metadata": {
        "colab": {
          "base_uri": "https://localhost:8080/"
        },
        "id": "DFaQRNmIMC0c",
        "outputId": "ebab1fc9-4730-4fb2-96fb-b2aabaf455c5"
      },
      "execution_count": null,
      "outputs": [
        {
          "output_type": "stream",
          "name": "stdout",
          "text": [
            "['TCCCCC', 'GGGGGA']\n"
          ]
        }
      ]
    },
    {
      "cell_type": "code",
      "source": [
        "!pip install itertools"
      ],
      "metadata": {
        "colab": {
          "base_uri": "https://localhost:8080/"
        },
        "id": "g-54MoD4xBP3",
        "outputId": "4a71961d-6e03-4a30-e957-7d6102060792"
      },
      "execution_count": null,
      "outputs": [
        {
          "output_type": "stream",
          "name": "stdout",
          "text": [
            "Looking in indexes: https://pypi.org/simple, https://us-python.pkg.dev/colab-wheels/public/simple/\n",
            "\u001b[31mERROR: Could not find a version that satisfies the requirement itertools (from versions: none)\u001b[0m\n",
            "\u001b[31mERROR: No matching distribution found for itertools\u001b[0m\n"
          ]
        }
      ]
    },
    {
      "cell_type": "code",
      "source": [
        "import itertools\n",
        "# kmerList = [''.join(kmer) for kmer in itertools.product('ATCG', repeat= 4)]\n",
        "kmerList = list(''.join(k) for k in itertools.product('AT',repeat = 2))\n",
        "print(kmerList)"
      ],
      "metadata": {
        "colab": {
          "base_uri": "https://localhost:8080/"
        },
        "id": "BMcxS-XYww1C",
        "outputId": "9061db3b-9c96-4fe3-d794-df96277d6275"
      },
      "execution_count": null,
      "outputs": [
        {
          "output_type": "stream",
          "name": "stdout",
          "text": [
            "['AA', 'AT', 'TA', 'TT']\n"
          ]
        }
      ]
    },
    {
      "cell_type": "markdown",
      "source": [
        "**BA1k: Generate the Frequency Array of a String**"
      ],
      "metadata": {
        "id": "atEMu6xNMCmR"
      }
    },
    {
      "cell_type": "code",
      "source": [
        "import itertools\n",
        "from Bio import Seq\n",
        "def freqArray(Text,k):\n",
        "  kmerList = [''.join(kmer) for kmer in itertools.product('ATCG',repeat= k)]\n",
        "  kmerList.sort()\n",
        "  kmers = [Text[i:i+k] for i in range(len(Text)-k+1)]\n",
        "  print(kmers)\n",
        "  for i in kmerList:\n",
        "    cnt = 0 \n",
        "    for j in kmers:\n",
        "      if i == j :\n",
        "        cnt+=1\n",
        "\n",
        "    print(cnt,end = \" \")\n",
        "freqArray('ACGCGGCTCTGAAA',2)  \n"
      ],
      "metadata": {
        "id": "CUchazOWMCHa",
        "colab": {
          "base_uri": "https://localhost:8080/"
        },
        "outputId": "90254974-6b3c-48ee-a90c-d6576b7fbaab"
      },
      "execution_count": null,
      "outputs": [
        {
          "output_type": "stream",
          "name": "stdout",
          "text": [
            "['AC', 'CG', 'GC', 'CG', 'GG', 'GC', 'CT', 'TC', 'CT', 'TG', 'GA', 'AA', 'AA']\n",
            "2 1 0 0 0 0 2 2 1 2 1 0 0 1 1 0 "
          ]
        }
      ]
    },
    {
      "cell_type": "markdown",
      "source": [
        "**BA1L:Implement PatternToNumber**"
      ],
      "metadata": {
        "id": "-6bHDWLjJjQ0"
      }
    },
    {
      "cell_type": "code",
      "source": [
        "def patternToNumber(dna):\n",
        "  dic = {'A':0,'C':1,'G':2,'T':3}\n",
        "  number = 0\n",
        "  l = len(dna)-1\n",
        "  for i in dna:\n",
        "    number += dic[i]*pow(4,l)\n",
        "    l-=1\n",
        "  return number\n",
        "patternToNumber('AGT')    \n"
      ],
      "metadata": {
        "colab": {
          "base_uri": "https://localhost:8080/"
        },
        "id": "yXsZIsrBJo5C",
        "outputId": "9799ad86-a458-4205-b8be-3e0b50bd11d3"
      },
      "execution_count": null,
      "outputs": [
        {
          "output_type": "execute_result",
          "data": {
            "text/plain": [
              "11"
            ]
          },
          "metadata": {},
          "execution_count": 38
        }
      ]
    },
    {
      "cell_type": "markdown",
      "source": [
        "**BA1M:Implement NumberToPattern**"
      ],
      "metadata": {
        "id": "Q5fZ4O7oMTNQ"
      }
    },
    {
      "cell_type": "code",
      "source": [
        "def numberToPattern(index,k):\n",
        "  dic = {'A':0,'C':1,'G':2,'T':3}\n",
        "  l = []\n",
        "  for i in range(k):\n",
        "    l.append(index%4)\n",
        "    index = index//4\n",
        "  l.reverse()\n",
        "  s =''\n",
        "  for i in l:\n",
        "    for key,v in dic.items():\n",
        "      if i ==v:\n",
        "        s += key\n",
        "    \n",
        "  return s\n",
        "\n",
        "numberToPattern(45,4)"
      ],
      "metadata": {
        "colab": {
          "base_uri": "https://localhost:8080/",
          "height": 36
        },
        "id": "BTarrPsBMXPY",
        "outputId": "7fb718f2-cfb5-4285-c479-ae90d1db9e7f"
      },
      "execution_count": null,
      "outputs": [
        {
          "output_type": "execute_result",
          "data": {
            "text/plain": [
              "'AGTC'"
            ],
            "application/vnd.google.colaboratory.intrinsic+json": {
              "type": "string"
            }
          },
          "metadata": {},
          "execution_count": 46
        }
      ]
    },
    {
      "cell_type": "markdown",
      "source": [
        "**BA1N:Generate the d-Neighborhood of a String**"
      ],
      "metadata": {
        "id": "HG4s5b_0UmgJ"
      }
    },
    {
      "cell_type": "code",
      "source": [
        "def hamming_dist(T1,T2):\n",
        "  d = 0\n",
        "  for i in range(len(T1)):\n",
        "    if T1[i]!=T2[i]:\n",
        "      d += 1\n",
        "  return d   \n",
        "\n",
        "def dNeighbour(pattern,d):\n",
        "  k = len(pattern)\n",
        "  kmerlist = [''.join(kmer) for kmer in itertools.product('ATCG',repeat = k)]\n",
        "\n",
        "  for i in kmerlist:\n",
        "    if hamming_dist(pattern,i)<=d:\n",
        "      print(i)\n",
        "dNeighbour('TTATGCTAC',2)\n"
      ],
      "metadata": {
        "id": "XE7QzLyCUqoy"
      },
      "execution_count": null,
      "outputs": []
    },
    {
      "cell_type": "markdown",
      "source": [
        "**BA2A:Implement MotifEnumeration**"
      ],
      "metadata": {
        "id": "CW3yrbR3YAF0"
      }
    },
    {
      "cell_type": "code",
      "source": [
        "import itertools\n",
        "def HammingDistance(T1,T2):\n",
        "  return sum(i!=j for i,j in zip(T1,T2))\n",
        "\n",
        "def isAppears(dnaList,kmer,d):\n",
        "  dic = {}\n",
        "  for i in dnaList:\n",
        "    for j in range(len(i)-len(kmer)+1):\n",
        "      if HammingDistance(i[j:j+len(kmer)],kmer)<=d:\n",
        "        if kmer not in dic:\n",
        "          dic[kmer] = 1\n",
        "          break\n",
        "        else:\n",
        "          dic[kmer]+=1\n",
        "          break  \n",
        "  return True if (kmer in dic and dic[kmer] == len(dnaList)) else False\n",
        "\n",
        "def motifEnumeration(DnaList, k, d):\n",
        "  ans = []\n",
        "  kmerList = [''.join(kmer) for kmer in itertools.product('ATCG',repeat = k)] #making all possible kmer from dnaList\n",
        "  for i in kmerList:\n",
        "    if isAppears(DnaList,i,d):\n",
        "      ans.append(i)\n",
        "  return ans   \n",
        "\n",
        "dna = '''\n",
        "CTTATAGTCGGGCCCGGCGACTCTC\n",
        "ACCCTACTCGACCCAAGGGTGGTCC\n",
        "CTGTTCCTCCAATCGTCGAGGCTCC\n",
        "GGACCACCGAGATCAGATCTACCGA\n",
        "AAGGTAAAGGTATCTGAACCAACGT\n",
        "GCCCCCGCTTTCTCAAAGCAGCCGA\n",
        "GATTGGGGCCAAGCTGTCCATGACG\n",
        "GTTCCACTTCCGTGGAAGTCCCCCT\n",
        "GTCTTGTTCCTTTGTTTCGTTTTGG\n",
        "CACGAGCACCACCATGACGACCAGA\n",
        "'''.split()  \n",
        "res = motifEnumeration(dna,5,2)  \n",
        "\n",
        "for i in res:\n",
        "  print(i,end = ' ')\n",
        "     \n"
      ],
      "metadata": {
        "colab": {
          "base_uri": "https://localhost:8080/"
        },
        "id": "L2gorWPjYHWT",
        "outputId": "e22101fb-66aa-4c80-d1af-28ecef850dfe"
      },
      "execution_count": null,
      "outputs": [
        {
          "output_type": "stream",
          "name": "stdout",
          "text": [
            "AATGT AACTT AACCT AACGT ATACC ATACG ATCTT ATCTC ATCCT ATCCC ATCCG ATCGA ATCGC ATCGG ATGTC ATGCG ACTAT ACTAG ACTCT ACTGT ACCAT ACCTT ACCTC ACCTG ACCCT ACCGT ACGGT AGTAC AGTTC AGCTC AGCGT TAACT TAACG TAAGG TATCG TACCC TACCG TACGA TACGC TAGCG TTAAG TTACA TTACT TTACC TTACG TTAGA TTTAC TTTCG TTTGA TTCAC TTCCA TTCGA TTGAT TTGAC TCAAG TCATC TCATG TCACT TCACG TCAGG TCTAT TCTAC TCTAG TCTTG TCTCC TCTCG TCCAC TCCAG TCCTG TCCCA TCCCT TCCGA TCCGT TCCGC TCGAA TCGAC TCGAG TCGGA TCGGC TGATA TGACT TGACG TGTAG TGTCA TGTCT TGTCC TGTCG TGTGA TGCAC TGCTC TGCCA TGCCT TGCCC TGCGA TGGCC CAATT CAAGT CATAT CATAG CATTG CATCT CATCG CATGG CACTG CACCT CACGT CAGTG CAGGT CTAAG CTATT CTATC CTATG CTACC CTACG CTAGA CTAGC CTAGG CTTAC CTTTA CTTCA CTTGA CTCAT CTCAG CTCTA CTCTG CTCCA CTCCG CTCGA CTCGG CTGAG CTGTC CTGTG CTGCC CTGGA CTGGC CCAAT CCATA CCATT CCATC CCATG CCACT CCAGT CCTAT CCTAC CCTAG CCTTC CCTCA CCTCT CCTCC CCTCG CCTGA CCTGC CCTGG CCCAT CCCTA CCCTC CCCTG CCCGT CCGAT CCGTA CCGTC CCGGT CGAAT CGATG CGACT CGTAA CGTAC CGTCA CGTCT CGTCG CGTGT CGCAT CGCTA CGCTG CGGTC CGGTG CGGGT GAATC GAACC GATCT GATCC GATGC GACTA GACTT GACTC GACCT GACCC GACGT GAGTT GAGTC GAGCC GTACT GTACC GTAGC GTTAC GTTCC GTTGA GTCAA GTCAT GTCAC GTCTA GTCCA GTCCC GTCCG GTCGA GTCGG GTGCA GTGCC GCACC GCTAC GCTAG GCTTC GCTCA GCTCT GCTCC GCTGC GCCAT GCCTC GCCCC GCCGT GCGCC GGATC GGACC GGTCA GGTCC GGTCG GGTGC GGCTC GGCCT GGCCC GGGCC "
          ]
        }
      ]
    },
    {
      "cell_type": "markdown",
      "source": [
        "**BA2B: Find a Median String**"
      ],
      "metadata": {
        "id": "b9wQwmzqSrq3"
      }
    },
    {
      "cell_type": "code",
      "source": [
        "import itertools\n",
        "def hammingDist(T1,T2):\n",
        "  return sum(i!=j for i,j in zip(T1,T2))\n",
        "\n",
        "def minHammingDist(pattern,Text):\n",
        "  kmerList = [Text[i:i+len(pattern)] for i in range(len(Text)-len(pattern)+1)]\n",
        "  mind = len(pattern)\n",
        "  for i in kmerList:\n",
        "    mind = min(mind,hammingDist(i,pattern))\n",
        "  return mind \n",
        "\n",
        "def MedianString(dnaList,k):\n",
        "  kmerList = [''.join(kmer) for kmer in itertools.product('ATCG',repeat= k)]\n",
        "  dic = {}\n",
        "  for kmer in kmerList:\n",
        "    s = 0\n",
        "    for i in dnaList:\n",
        "      s += minHammingDist(kmer,i)\n",
        "    dic[kmer] = s  \n",
        "  minval = min(dic.values())\n",
        "  for k,v in dic.items():\n",
        "    if v == minval:\n",
        "      return k\n",
        "\n",
        "dnaList = '''\n",
        "TGCGCTCTTAATTGACCAATGATTTGATACGCCGTGGACGCA\n",
        "ATCTATTCGAATTCTTTCGGGGCCTTCGCTAATACATGATAC\n",
        "ATTACCTTAGGCTGAAACGCAGAAACCATCACCTAAGTTCCT\n",
        "TGATACGGTCACTCTCAGTGTGGTCAGCCGACATTCACTTTC\n",
        "CAGCTAGCCACCCTCAGGTGATACAGATATCAGCCAGAATAC\n",
        "TGATACAGAGAGAAGGCCTAGACGCCGGTAAGCGCTATCGGA\n",
        "TGACACCCTAGGGGATTACCGCTACTTTGCAGTAGCGACAAG\n",
        "GTGGATTGAAACAGAGGAGCTGATTAGAACATATAGAGCTTA\n",
        "TTACGCAGATCTTGAAACAATCGCTCGTTAAGTCTCGCGTAC\n",
        "GTAGCCCGGCTCCCGGCTGTCCCCTGCCGATGAGACGCCTGA\n",
        "'''.split()\n",
        "\n",
        "print(MedianString(dnaList,6))"
      ],
      "metadata": {
        "colab": {
          "base_uri": "https://localhost:8080/"
        },
        "id": "-MSENVhsS2YE",
        "outputId": "40f4eb7a-c1c7-4c96-b3bd-d1cfe26fe12a"
      },
      "execution_count": null,
      "outputs": [
        {
          "output_type": "stream",
          "name": "stdout",
          "text": [
            "TGATAC\n"
          ]
        }
      ]
    },
    {
      "cell_type": "markdown",
      "source": [
        "**BA2C:Find a Profile-most Probable k-mer in a String**"
      ],
      "metadata": {
        "id": "d0_PzyBsam8g"
      }
    },
    {
      "cell_type": "code",
      "source": [
        "def profileMostProbable(text,k,profile):\n",
        "  kmerList = [text[i:i+k] for i in range(len(text)-k+1)]\n",
        "  dic = {}\n",
        "  for i in kmerList:\n",
        "    pr = 1\n",
        "    for j in range(len(i)):\n",
        "      if i[j] == 'A':\n",
        "        pr = pr*float(profile[0][j])\n",
        "      if i[j] == 'C':\n",
        "        pr = pr*float(profile[1][j])\n",
        "      if i[j] == 'G':\n",
        "        pr = pr*float(profile[2][j])\n",
        "      if i[j] == 'T':\n",
        "        pr = pr*float(profile[3][j])   \n",
        "    dic[i] = pr\n",
        "  mx = max(dic.values())\n",
        "  print(dic)\n",
        "  for k,v in dic.items():\n",
        "    if mx == v:\n",
        "      return k      \n",
        "\n",
        "text = 'CCCGGATTGGGCTGATAGTTAAACGTTCATCTTGTTATGTAAGGGGGACCTAAATCGTGAGCAAGGACACCACAAACGCATAAAGATTTTCCAACTCGCACATTACAAGTACATTCGAGAGATTTTTGAGCTTAGCCGGGCCCCGCCACATCGCGCCCCGAAACCGAAACAAACCTTTGGCCTGGACTAGGTTCGGTGCC'\n",
        "profile ='''0.321 0.393 0.286 0.25 0.286 0.25 0.286\n",
        "0.143 0.286 0.321 0.179 0.25 0.214 0.321\n",
        "0.179 0.214 0.143 0.179 0.179 0.179 0.214\n",
        "0.357 0.107 0.25 0.393 0.286 0.357 0.179\n",
        "'''.splitlines()\n",
        "profileMatrix = []\n",
        "for i in profile:\n",
        "  profileMatrix.append(i.split())\n",
        "print(profileMostProbable(text,7,profileMatrix))\n",
        " \n"
      ],
      "metadata": {
        "colab": {
          "base_uri": "https://localhost:8080/"
        },
        "id": "6HpgLIrcYXAP",
        "outputId": "0448ff38-f19a-4b6d-d553-cf4c6cdcb91f"
      },
      "execution_count": null,
      "outputs": [
        {
          "output_type": "stream",
          "name": "stdout",
          "text": [
            "{'CCCGGAT': 1.8823752527365494e-05, 'CCGGATT': 1.913279504471134e-05, 'CGGATTG': 2.390418160330199e-05, 'GGATTGG': 4.716916901471859e-05, 'GATTGGG': 4.73912294667885e-05, 'ATTGGGC': 1.580858301279825e-05, 'TTGGGCT': 6.704415130935519e-06, 'TGGGCTG': 3.7350210694796984e-05, 'GGGCTGA': 1.435624859420408e-05, 'GGCTGAT': 3.8708866816384495e-05, 'GCTGATA': 6.689788477171797e-05, 'CTGATAG': 8.369811485749998e-06, 'TGATAGT': 7.868875391707728e-05, 'GATAGTT': 5.0292112314937494e-05, 'ATAGTTA': 5.134618208389268e-05, 'TAGTTAA': 0.00016123578235865095, 'AGTTAAA': 0.0001380140942895, 'GTTAAAC': 2.7474379968749998e-05, 'TTAAACG': 3.577269135039598e-05, 'TAAACGT': 8.035499509537498e-05, 'AAACGTT': 7.387388261096243e-05, 'AACGTTC': 0.00023757182166961644, 'ACGTTCA': 9.031200685203151e-05, 'CGTTCAT': 3.3636857718749996e-05, 'GTTCATC': 2.809112485028849e-05, 'TTCATCT': 3.3583802893641e-05, 'TCATCTT': 0.00018333867506654697, 'CATCTTG': 5.4950247148796993e-05, 'ATCTTGT': 3.970621482620107e-05, 'TCTTGTT': 0.00011474693299619547, 'CTTGTTA': 1.9994619191546993e-05, 'TTGTTAT': 2.7475123574398493e-05, 'TGTTATG': 0.00016400707042519796, 'GTTATGT': 1.0969552754874996e-05, 'TTATGTA': 7.846895292848209e-05, 'TATGTAA': 0.00012838842791774999, 'ATGTAAG': 2.9535016177953e-05, 'TGTAAGG': 5.231121946049998e-05, 'GTAAGGG': 9.389937158172997e-06, 'TAAGGGG': 4.924925507397494e-05, 'AAGGGGG': 2.2141471818971934e-05, 'AGGGGGA': 1.6113132163424864e-05, 'GGGGGAC': 1.4084905737259495e-05, 'GGGGACC': 1.926374459761408e-05, 'GGGACCT': 1.3114437371749996e-05, 'GGACCTA': 5.005645923478198e-05, 'GACCTAA': 8.2656254114577e-05, 'ACCTAAA': 0.00023683218580078198, 'CCTAAAT': 3.271456581249999e-05, 'CTAAATC': 3.585627240495299e-05, 'TAAATCG': 0.000131389417763604, 'AAATCGT': 0.00011358009743716351, 'AATCGTG': 7.720148298016351e-05, 'ATCGTGA': 2.8895616896421126e-05, 'TCGTGAG': 5.495024714879698e-05, 'CGTGAGC': 2.2504374529922995e-05, 'GTGAGCA': 7.501458176640997e-06, 'TGAGCAA': 6.991125591449996e-05, 'GAGCAAG': 2.7552084704858995e-05, 'AGCAAGG': 6.0394401842346e-05, 'GCAAGGA': 3.354263690234599e-05, 'CAAGGAC': 4.132812705728849e-05, 'AAGGACA': 5.6523948344453294e-05, 'AGGACAC': 4.926969815625e-05, 'GGACACC': 3.852748919522816e-05, 'GACACCA': 8.637945062174999e-05, 'ACACCAC': 9.429207205275e-05, 'CACCACA': 5.6523948344453294e-05, 'ACCACAA': 0.0001316928380625, 'CCACAAA': 4.281473000318798e-05, 'CACAAAC': 0.000103510570717125, 'ACAAACG': 8.597470358162398e-05, 'CAAACGC': 5.772084784537499e-05, 'AAACGCA': 7.075375352207791e-05, 'AACGCAT': 8.109399472706251e-05, 'ACGCATA': 6.862153306538928e-05, 'CGCATAA': 5.021886891449999e-05, 'GCATAAA': 0.00011766565658218796, 'CATAAAG': 5.374380618749999e-05, 'ATAAAGA': 3.5956710142781994e-05, 'TAAAGAT': 8.035499509537498e-05, 'AAAGATT': 0.00011803313087561594, 'AAGATTT': 8.24253707231955e-05, 'AGATTTT': 0.0001411122346781107, 'GATTTTC': 0.00022652566919032047, 'ATTTTCC': 6.6298882469391e-05, 'TTTTCCA': 5.742544482674999e-05, 'TTTCCAA': 3.0555618843749995e-05, 'TTCCAAC': 5.03757043404615e-05, 'TCCAACT': 8.976605259421797e-05, 'CCAACTC': 8.377633739474996e-05, 'CAACTCG': 3.768263222963553e-05, 'AACTCGC': 0.00022860895456543276, 'ACTCGCA': 4.500874905984599e-05, 'CTCGCAC': 1.76385519399375e-05, 'TCGCACA': 4.5747688710259525e-05, 'CGCACAT': 2.7474379968749998e-05, 'GCACATT': 4.789888549655007e-05, 'CACATTA': 0.00013169640238454698, 'ACATTAC': 0.00023683218580078198, 'CATTACA': 9.665114124580198e-05, 'ATTACAA': 3.83720390625e-05, 'TTACAAG': 2.9922017531405983e-05, 'TACAAGT': 0.00010317581370246149, 'ACAAGTA': 0.00011996771514928197, 'CAAGTAC': 6.603264993510898e-05, 'AAGTACA': 0.00012410006535960977, 'AGTACAT': 4.80321328125e-05, 'GTACATT': 1.792021240605195e-05, 'TACATTC': 0.0003690159084566955, 'ACATTCG': 0.0001351522340303129, 'CATTCGA': 7.066758007237499e-05, 'ATTCGAG': 1.4719351036125e-05, 'TTCGAGA': 3.213624682873004e-05, 'TCGAGAG': 3.4955627957249994e-05, 'CGAGAGA': 2.2937916748281387e-05, 'GAGAGAT': 2.0145019778812497e-05, 'AGAGATT': 6.427249365746007e-05, 'GAGATTT': 4.596305719455449e-05, 'GATTTTT': 0.00012631805228992946, 'ATTTTTG': 7.3734271157547e-05, 'TTTTTGA': 5.495024714879698e-05, 'TTTTGAG': 3.5941100083875e-05, 'TTTGAGC': 2.8091124850288496e-05, 'TTGAGCT': 9.363708283429496e-06, 'TGAGCTT': 6.248306275110897e-05, 'GAGCTTA': 5.258173743057033e-05, 'AGCTTAG': 0.000132597764938782, 'GCTTAGC': 8.265625411457699e-05, 'CTTAGCC': 1.1759034626624998e-05, 'TTAGCCG': 2.238920192909399e-05, 'TAGCCGG': 3.439193790082049e-05, 'AGCCGGG': 2.70642941179106e-05, 'GCCGGGC': 3.0254377523633403e-05, 'CCGGGCC': 1.2872502231115951e-05, 'CGGGCCC': 1.3452335612858997e-05, 'GGGCCCC': 1.6838937585326997e-05, 'GGCCCCG': 2.5199528973846002e-05, 'GCCCCGC': 4.22547172117785e-05, 'CCCCGCC': 2.8895616896421123e-05, 'CCCGCCA': 3.595671014278199e-05, 'CCGCCAC': 2.1002751251624992e-05, 'CGCCACA': 3.077894388222138e-05, 'GCCACAT': 4.596181321874999e-05, 'CCACATC': 6.862153306538928e-05, 'CACATCG': 5.9070032355906e-05, 'ACATCGC': 0.000148227137266923, 'CATCGCG': 2.0615895548391e-05, 'ATCGCGC': 2.834947009557675e-05, 'TCGCGCC': 3.2136246828730034e-05, 'CGCGCCC': 3.0197200921172995e-05, 'GCGCCCC': 2.2504374529922995e-05, 'CGCCCCG': 2.0131467280781998e-05, 'GCCCCGA': 3.7647505054730995e-05, 'CCCCGAA': 3.007593979232699e-05, 'CCCGAAA': 4.805429486371798e-05, 'CCGAAAC': 3.3557468480249986e-05, 'CGAAACC': 4.298735179081199e-05, 'GAAACCG': 5.758630041449999e-05, 'AAACCGA': 8.2656254114577e-05, 'AACCGAA': 9.27715299677595e-05, 'ACCGAAA': 0.00010787013042834599, 'CGAAACA': 3.830025735879199e-05, 'GAAACAA': 8.990786268749999e-05, 'AAACAAA': 0.000132065299870218, 'AACAAAC': 0.00023235589650487504, 'ACAAACC': 0.00012896205537243598, 'CAAACCT': 3.848056523024999e-05, 'AAACCTT': 0.0001031758137024615, 'AACCTTT': 0.00013247774479396057, 'ACCTTTG': 0.00025305601861270126, 'CCTTTGG': 4.402176662340599e-05, 'CTTTGGC': 1.5461921661293248e-05, 'TTTGGCC': 2.1019233279586498e-05, 'TTGGCCT': 9.363708283429496e-06, 'TGGCCTG': 3.7350210694796984e-05, 'GGCCTGG': 2.4113358622188262e-05, 'GCCTGGA': 5.918187794603711e-05, 'CCTGGAC': 2.6290157161124996e-05, 'CTGGACT': 4.290834077038651e-06, 'TGGACTA': 6.971597307674997e-05, 'GGACTAG': 3.0005832706563986e-05, 'GACTAGG': 9.722456340621196e-05, 'ACTAGGT': 3.2908658264624996e-05, 'CTAGGTT': 8.960106203025975e-06, 'TAGGTTC': 0.00011770342939272315, 'AGGTTCG': 5.0563947696655536e-05, 'GGTTCGG': 3.6041775434249997e-05, 'GTTCGGT': 4.915740417048249e-06, 'TTCGGTG': 3.0015465123249523e-05, 'TCGGTGC': 4.294844202344295e-05, 'CGGTGCC': 2.1147071583414346e-05}\n",
            "TACATTC\n"
          ]
        }
      ]
    },
    {
      "cell_type": "markdown",
      "source": [
        "**BA2F:Implement RandomizedMotifSearch**"
      ],
      "metadata": {
        "id": "f_KXlWaltOr2"
      }
    },
    {
      "cell_type": "code",
      "source": [],
      "metadata": {
        "id": "KCzgDj_btQ30"
      },
      "execution_count": null,
      "outputs": []
    },
    {
      "cell_type": "markdown",
      "source": [
        "**BA2G:Implement GibbsSampler**"
      ],
      "metadata": {
        "id": "_GRP8OZx19nC"
      }
    },
    {
      "cell_type": "code",
      "source": [],
      "metadata": {
        "id": "gXrvOEcO2D45"
      },
      "execution_count": null,
      "outputs": []
    },
    {
      "cell_type": "markdown",
      "source": [
        "**BA2H:Implement DistanceBetweenPatternAndStrings**"
      ],
      "metadata": {
        "id": "P9RDfRJu2EJD"
      }
    },
    {
      "cell_type": "code",
      "source": [
        "def hammingDist(T1,T2):\n",
        "  return sum(i!=j for i,j in zip(T1,T2))\n",
        "def Dist_pattern_string(pattern,dna):\n",
        "  s = 0\n",
        "  for i in dna:\n",
        "    d = len(pattern)\n",
        "    for j in range(len(i)-len(pattern)+1):\n",
        "      d = min(d,hammingDist(pattern,i[j:j+len(pattern)]))\n",
        "    s += d\n",
        "  return s\n",
        "\n",
        "dna = '''CCCCCGGGCCATTTCAGGGTGAGCTGGCTCCGAACAAGCCGTGGCTTTCAACACCGTTTATGCTTGACGTTGGACGCCACCTGAGCAGTAA CGCTGGCGCCAAACCCACGCGTGTCTCTTCGCGCTGCATCGCTTATTCACGGAGTGGTTTTTTGCATAAAAACTGTGAGCATGTCCAGATA TCAGCCCTATTACATTGCTGGGAAGATGTCAACACCGCTTTTCGACCACTACTTCGGAATTGACAAATGACCGCGTCCGGAACATGGGGGG CGGCACATGTGAAGCTCCAGGGGCTGAGTCTGGAGGCCTCAGACAGCCATGACAGGTTAGATATGTATTATGTGGGGCGGCACCGGTGTGC CACGTCCTATAACCGCATTCTCCTCGTTGATCTGCGGTACTCGGCGTATAGGTACGCTTATATCAATGAGACACCTATCGCTCTCAGGTCC CTTCGGATAGGGGATTATGGCAGACCTACAGCCAAACCTTATACTCTAGGTGCTCGCTCGCGCACGGTGGGATCCCTCAACCCCTGATTGG CCATTGCATATCGTCCGCGGGACTGGTGTTAGGCGGCGCAACGGAACTAACGACGGATTCATGAAGAATACACCCGAGTCTACGCCCAGAA GAAACTCGAATCAACTAACACAACCTTCTTACGACAAGAATTAATAATAGACGCCTCGTATACTGCACACTCAAGTCACCTACTAGAAATT CATAGCTTCCTTGCGTTGCGATTCCTCAAGTGCCCTCCGTTGAGGGTAATCGTTGTCTAAGGCTAGATGTCGAAGCTTTAGACCCTCTGCC TTTACTTGGGGTACGCGGTTGTGTCGCCACACTGCTGTCACTGAGCGCGACACGAGGGGCGCGTTAATTACCGTTTTCTTCACTCTCTCTT ATAAGTGAGAGATTAGTGCATACCACACGCCTGCTTACGGGCAGATGGTGCTACAACAAAATGTCCCCGCGTAGGAACCCAACTGAATTTT CATCCAGTCTACACTACACTCGTGATCATTCGTCCTAACCAAGATGCGCATGGCGAGATCTCTAGGAGTTCTAAGTACCATACTTTACTCA AGTTAGTCTATGAGCTTAATCACCCAGGCTCACATCGCGTCGTCCAGTTAGTCCCAGTTGTTGTGACACGTAGAGGACGGTTCTAAAAGCC CATAATCGAAACGGGTACACACTGCATCAGCAAATAGAATAATCTGCCTGGTAAATCTCTTTCATTCCCATACTTATGGGTAACCTGAAAC AACCTGTGCTACCATCAGGCGGTATATCTTAAGAAGAACCACCGTCTGAGTCGAGATTGGCAAGCTGACGGAATCACAATTTCGGGTTCCC TGGGTCAAACGGAGATCATGGTTCACTGTTTATGCTTCCATATTTCCAGGCTGGGGTGTTATGATTTGCAAAAAGGCTATATATTGGAGGG ACTGCGTATGCACACCTCATACTTCCACACATGTTATGATCCGGCAGGATCTACCGCTAAGGCCAACTCAAATACCGACCGGGGCGTACGT TAGGCTGATTCTCTCTTAGGATCCGTCAGGATAGCGCACAACCGCCACGTAATCGCTCCTATACTGGTAAGACGCGGACCCGTGCGGCTAT CTGTTGTAGTGGGTCTGCGTCCTACAGACAACGTGTCTAGCCAGCACACCCCTGTGTTGTTTCAGTCAACTAGGGTCAACACCGCAGAACA ACGACTAATTATTCTCCAACGGTAGACCCAATATAGTATTCGACAACTTCGTCGAGAAATAGCACGGGACTCACGCAAACATGGCCCGTAT CTCTAATGAAGGTACTTAGCATTCACGTGGGGAGTTTTATAGGTGTGCGAGTCTGTTAGCTGACGTTCCAAGCCCCCTCACTTGGCATACT CACAGGTAGTGTAAACCAGCGCCCGTCTACTTGTTCCGCGTGCTAATGGACCAGGAGGGGGCAAACAATAATATGTTGGTAGCGAGCCCTG TAGGGCATTTAGTAGCATACGTTATCTAGGTTTGCCCCCTTCCCGCAGGAATCTAGGGGGCAAAGCTTCATTGCTATGCGTGCGTTGTGTA GGACAGGCACTGATTAATAAGCTGGCTTGCTCTGGACGATTGTCTAGCGCTGGGACGCCTACACTACGCTGACCAGGATTACAACGGAGAG TCTTCCTAGTCTGACCATAGTGGCGTCCACTGTGGCCGTGTTCGACTGCTCTCCGCATAGCGTATACGATGTCTGAAAAGTATGTTTCACC AGGAATGTTCGGGCGAGAGAATCTTTCAGGGCCCTTCCCCATTCCGTTACGTGTCGCATCTGTCGATGACCCAGCTGACCGCGACTGATAA TTATCTGGTCTCATCCGTCTACGTGCAACTTGGCTTACGTCGATAGACGTCAAGAGTCGGGCTAGGAGTCGCTTGTCCTTGGAATATATAT TTGCTGTCCCCAACCGCAAGGGCCACTGAATCGCTCAGCCCACATAGGACTCCCTGTGTACTGGGTGCGATGTGGCTGCGTCACGTGCTCG CCACCATATGCTATTTGGATAAGCTTGGTCAGTAATCGACATACCAGCGCGGATTCAGCTCCCCCCGCCTTGTGCCGCCAAATAGACATCA GAGTGTCATATCCAGGTTACGCCTTTAAACTACCAGGTTGTCCTGGATCGTAGCCAAAATGACTCCGGGGGCGTGTGTGGTAAGAAACCCT'''.split()\n",
        "print(Dist_pattern_string('ATCATGC',dna))\n"
      ],
      "metadata": {
        "colab": {
          "base_uri": "https://localhost:8080/"
        },
        "id": "6mzU250n2IhJ",
        "outputId": "de8e9f04-9396-4c06-ecf3-9a8cf1fdf0b6"
      },
      "execution_count": null,
      "outputs": [
        {
          "output_type": "stream",
          "name": "stdout",
          "text": [
            "68\n"
          ]
        }
      ]
    },
    {
      "cell_type": "markdown",
      "source": [
        "**BA3A:Generate the k-mer Composition of a String**"
      ],
      "metadata": {
        "id": "iG59dWVR4vQy"
      }
    },
    {
      "cell_type": "code",
      "source": [
        "def kmerComposition(k,Text):\n",
        "  return sorted([Text[i:i+k] for i in range(len(Text)-k+1)])\n",
        "\n",
        "kmers = kmerComposition(50,'ATCCACTAACCTTTAGAAAATACCTCGGAAGTTATTCGGTAGGCAACCTTAGAATTAGACATGGCACGTCTTCGATATTCAATGCTCAGTACAACTGGATAGGCAATTCAACTGACTCTCAGGACCTGCGTTCCCTCATTCACACATGCACAGTGCTTTCAGAACAACGTACAAAGTTTCCGGTCAGATTATGACCAGAGTTTGGGACCAACCGTACTAACCAGGCTATAGGCCGGTAAGCGTCGGTTCTATACTTTAAGCTTGGTGAATCGTCCTGATTTAACATTGTTCAGTAAGGTTACAATAGATTCACCCAGCGTATGGGTAACCATTTGTTTGAGACGGATAATGAAAAGTTGGCTTTCACTGACTCGGGGGATGTACTAACAGTTGCAATGTCACACTTCTGCACACGGGACGCACGTAAAAGGACCCTATCCCGTTCGATACAGTTACCATAATTGGGCCATGAAGACGAAATAGACGTTAATAAGAGGTCTTTCTTCAGCGTCGTGTGGTGAGAAACTCTCTGTTCATAATACGGTGGGCTGGTATCAACGTAGCCGAGCGCGCCCGTGCAGTATTCTACTTATCCGGTATAATACAAGGGATAGGATCCGTCCTAAGGCCGACCTTTCGAGCGCTAAAACTGGTAGGGAGGAATCTGGGGGGTATCTCCCTCGGAATATGGCCTGTAATCCCTAACGTGAGCGTAGAGCATCGAGTGACGGGATGATGCGACTAGCTCTCACCTTTGGAGGCTATGCTCTCTAAAGCAAATGTTACGCCAGCTGGGCAGTGCCCTTCCCCATACTCCAAAGTCGCCGCTATGCTTCAACACCCTCCCAGCATCTCAGAGATCAGATTCGGTTATGCGGAGCAGAATGGATTATCCTCCTTTTGCTGTCCTACTGCGAAAGAGACCTAGCACTACGTATACGACCCCGGGCAAGGTAATGTGTACGCAAAGCTTATGATAATAGACAGACGCCATCCTACG')\n",
        "for i in kmers:\n",
        "  print(i)  \n",
        " "
      ],
      "metadata": {
        "id": "AiA-SxpA40TM"
      },
      "execution_count": null,
      "outputs": []
    },
    {
      "cell_type": "markdown",
      "source": [
        "**BA3B: Reconstruct a String from its Genome Path**"
      ],
      "metadata": {
        "id": "-uSQUQbm6yTy"
      }
    },
    {
      "cell_type": "code",
      "source": [
        "def stringFromGenome(kmers):\n",
        "  genome = ''\n",
        "  for i in kmers:\n",
        "    genome += i[0]\n",
        "  genome += kmers[-1][1:]  \n",
        "  return genome\n",
        "\n",
        "kmers = '''\n",
        "ACCGA\n",
        "CCGAA\n",
        "CGAAG\n",
        "GAAGC\n",
        "AAGCT\n",
        "'''.split()\n",
        "\n",
        "print(stringFromGenome(kmers))"
      ],
      "metadata": {
        "colab": {
          "base_uri": "https://localhost:8080/"
        },
        "id": "LyM3m1hJ61r5",
        "outputId": "34d36b3f-e6e4-4430-d891-8d205d45fa92"
      },
      "execution_count": null,
      "outputs": [
        {
          "output_type": "stream",
          "name": "stdout",
          "text": [
            "ACCGAAGCT\n"
          ]
        }
      ]
    },
    {
      "cell_type": "markdown",
      "source": [
        "**BA3C:Construct the Overlap Graph of a Collection of k-mers**"
      ],
      "metadata": {
        "id": "awN_RIvj_81a"
      }
    },
    {
      "cell_type": "code",
      "source": [
        "def overlapGraph(kmers):\n",
        "  dic = {}\n",
        "  for i in kmers:\n",
        "    for j in kmers:\n",
        "      if i[1:] == j[:-1]:\n",
        "        dic[i] = j\n",
        "  return dic\n",
        "kmers = '''\n",
        "ATGCG\n",
        "GCATG\n",
        "CATGC\n",
        "AGGCA\n",
        "GGCAT\n",
        "'''.split()\n",
        "ans = overlapGraph(kmers)\n",
        "\n",
        "for k,v in ans.items():\n",
        "  print(k,'->',v)\n",
        "\n"
      ],
      "metadata": {
        "colab": {
          "base_uri": "https://localhost:8080/"
        },
        "id": "WdqDCp1N__Z1",
        "outputId": "e076b4dd-937d-4662-b195-e58c7bc74ea0"
      },
      "execution_count": null,
      "outputs": [
        {
          "output_type": "stream",
          "name": "stdout",
          "text": [
            "GCATG -> CATGC\n",
            "CATGC -> ATGCG\n",
            "AGGCA -> GGCAT\n",
            "GGCAT -> GCATG\n"
          ]
        }
      ]
    },
    {
      "cell_type": "markdown",
      "source": [
        "**BA3D:Construct the De Bruijn Graph of a String**"
      ],
      "metadata": {
        "id": "Ww0ALo_Hp5Z5"
      }
    },
    {
      "cell_type": "code",
      "source": [
        "from collections import defaultdict\n",
        "\n",
        "def de_Bruijn(k,text):\n",
        "  dic = defaultdict(list)\n",
        "  kmers = [text[i:i+k] for i in range(len(text)-k+1)] \n",
        "  for kmer in kmers:\n",
        "    dic[kmer[:-1]].append(kmer[1:])\n",
        "\n",
        "  for k,v in sorted(dic.items()):\n",
        "     print(k,'->',end = ' ')\n",
        "     v.sort()\n",
        "     for i in v:\n",
        "       print(i,end ='')\n",
        "       if i != v[-1]:\n",
        "         print(',',end ='')   \n",
        "       else:\n",
        "         print(end ='\\n')   \n",
        "       \n",
        "de_Bruijn(4,'AAGATTCTCTAC')  \n"
      ],
      "metadata": {
        "colab": {
          "base_uri": "https://localhost:8080/"
        },
        "id": "ox4ji8Wop7Xm",
        "outputId": "b41641a9-3448-4d50-cbaa-01689d66df9a"
      },
      "execution_count": null,
      "outputs": [
        {
          "output_type": "stream",
          "name": "stdout",
          "text": [
            "AAG -> AGA\n",
            "AGA -> GAT\n",
            "ATT -> TTC\n",
            "CTA -> TAC\n",
            "CTC -> TCT\n",
            "GAT -> ATT\n",
            "TCT -> CTA,CTC\n",
            "TTC -> TCT\n"
          ]
        }
      ]
    },
    {
      "cell_type": "markdown",
      "source": [
        "**BA3E:Construct the De Bruijn Graph of a Collection of k-mers**"
      ],
      "metadata": {
        "id": "gw6Q090o78Tf"
      }
    },
    {
      "cell_type": "code",
      "source": [
        "from collections import defaultdict\n",
        "\n",
        "def de_Bruijn(k,kmers):\n",
        "  dic = defaultdict(list)\n",
        "  for kmer in kmers:\n",
        "    dic[kmer[:-1]].append(kmer[1:])\n",
        "\n",
        "  for k,v in sorted(dic.items()):\n",
        "    print(k,\"->\",end=' ')\n",
        "    v.sort()\n",
        "    for i in range(len(v)):\n",
        "      print(v[i],end='')\n",
        "      if i!=len(v)-1:\n",
        "        print(\",\",end='')\n",
        "      else:\n",
        "        print(end='\\n')\n",
        "\n",
        "kmers ='''\n",
        "GAGG\n",
        "CAGG\n",
        "GGGG\n",
        "GGGA\n",
        "CAGG\n",
        "AGGG\n",
        "GGAG\n",
        "'''.split()    \n",
        "  \n",
        "de_Bruijn(4,kmers)  "
      ],
      "metadata": {
        "colab": {
          "base_uri": "https://localhost:8080/"
        },
        "id": "gSoCMD337-to",
        "outputId": "c08c38d3-4099-47fa-c0d8-67a89ffe686c"
      },
      "execution_count": null,
      "outputs": [
        {
          "output_type": "stream",
          "name": "stdout",
          "text": [
            "AGG -> GGG\n",
            "CAG -> AGG,AGG\n",
            "GAG -> AGG\n",
            "GGA -> GAG\n",
            "GGG -> GGA,GGG\n"
          ]
        }
      ]
    },
    {
      "cell_type": "markdown",
      "source": [
        "**BA3F:Find an Eulerian Cycle in a Graph**"
      ],
      "metadata": {
        "id": "F2k8uwTnEByK"
      }
    },
    {
      "cell_type": "code",
      "source": [],
      "metadata": {
        "id": "Gbo8rcpBESZg"
      },
      "execution_count": null,
      "outputs": []
    },
    {
      "cell_type": "markdown",
      "source": [
        "**BA4A:Translate an RNA String into an Amino Acid String**"
      ],
      "metadata": {
        "id": "m3R3_1AvDuBW"
      }
    },
    {
      "cell_type": "code",
      "source": [
        "def RnaToAminoAcid(rna,codon):\n",
        "  acid = ''\n",
        "  code = [rna[i:i+3] for i in range(0,len(rna)-3+1,3) ]\n",
        "  for i in code:\n",
        "    if codon[i] != 'Stop':\n",
        "      acid += codon[i]\n",
        "  return acid     \n",
        "\n",
        "codonTable ='''\n",
        "UUU F      CUU L      AUU I      GUU V\n",
        "UUC F      CUC L      AUC I      GUC V\n",
        "UUA L      CUA L      AUA I      GUA V\n",
        "UUG L      CUG L      AUG M      GUG V\n",
        "UCU S      CCU P      ACU T      GCU A\n",
        "UCC S      CCC P      ACC T      GCC A\n",
        "UCA S      CCA P      ACA T      GCA A\n",
        "UCG S      CCG P      ACG T      GCG A\n",
        "UAU Y      CAU H      AAU N      GAU D\n",
        "UAC Y      CAC H      AAC N      GAC D\n",
        "UAA Stop   CAA Q      AAA K      GAA E\n",
        "UAG Stop   CAG Q      AAG K      GAG E\n",
        "UGU C      CGU R      AGU S      GGU G\n",
        "UGC C      CGC R      AGC S      GGC G\n",
        "UGA Stop   CGA R      AGA R      GGA G\n",
        "UGG W      CGG R      AGG R      GGG G \n",
        "'''.split()\n",
        "\n",
        "key = [i for i in codonTable if codonTable.index(i)%2 == 0]\n",
        "val = [i for i in codonTable if codonTable.index(i)%2 != 0]\n",
        "\n",
        "codon = dict(zip(key,val))\n",
        "\n",
        "RnaToAminoAcid('AUGGCCAUGGCGCCCAGAACUGAGAUCAAUAGUACCCGUAUUAACGGGUGA',codon)\n"
      ],
      "metadata": {
        "colab": {
          "base_uri": "https://localhost:8080/",
          "height": 36
        },
        "id": "bkEFyoZpD2mU",
        "outputId": "02cb3bb1-6285-4383-ae8f-3828f9fc480f"
      },
      "execution_count": null,
      "outputs": [
        {
          "output_type": "execute_result",
          "data": {
            "text/plain": [
              "'MAMAPRTEINSTRING'"
            ],
            "application/vnd.google.colaboratory.intrinsic+json": {
              "type": "string"
            }
          },
          "metadata": {},
          "execution_count": 19
        }
      ]
    },
    {
      "cell_type": "markdown",
      "source": [
        "**BA4B:Find Substrings of a Genome Encoding a Given Amino Acid String**"
      ],
      "metadata": {
        "id": "BaDptd7WJgKw"
      }
    },
    {
      "cell_type": "code",
      "source": [
        "!pip install Bio"
      ],
      "metadata": {
        "id": "pkVBV0IwMm6L",
        "colab": {
          "base_uri": "https://localhost:8080/"
        },
        "outputId": "faeabb37-0826-4458-beed-db183ac7a92f"
      },
      "execution_count": null,
      "outputs": [
        {
          "output_type": "stream",
          "name": "stdout",
          "text": [
            "Looking in indexes: https://pypi.org/simple, https://us-python.pkg.dev/colab-wheels/public/simple/\n",
            "Collecting Bio\n",
            "  Downloading bio-1.5.2-py3-none-any.whl (273 kB)\n",
            "\u001b[K     |████████████████████████████████| 273 kB 5.0 MB/s \n",
            "\u001b[?25hCollecting mygene\n",
            "  Downloading mygene-3.2.2-py2.py3-none-any.whl (5.4 kB)\n",
            "Collecting biopython==1.79\n",
            "  Downloading biopython-1.79-cp38-cp38-manylinux_2_17_x86_64.manylinux2014_x86_64.whl (2.7 MB)\n",
            "\u001b[K     |████████████████████████████████| 2.7 MB 62.3 MB/s \n",
            "\u001b[?25hRequirement already satisfied: tqdm in /usr/local/lib/python3.8/dist-packages (from Bio) (4.64.1)\n",
            "Requirement already satisfied: requests in /usr/local/lib/python3.8/dist-packages (from Bio) (2.23.0)\n",
            "Requirement already satisfied: numpy in /usr/local/lib/python3.8/dist-packages (from biopython==1.79->Bio) (1.21.6)\n",
            "Collecting biothings-client>=0.2.6\n",
            "  Downloading biothings_client-0.2.6-py2.py3-none-any.whl (37 kB)\n",
            "Requirement already satisfied: certifi>=2017.4.17 in /usr/local/lib/python3.8/dist-packages (from requests->Bio) (2022.9.24)\n",
            "Requirement already satisfied: idna<3,>=2.5 in /usr/local/lib/python3.8/dist-packages (from requests->Bio) (2.10)\n",
            "Requirement already satisfied: chardet<4,>=3.0.2 in /usr/local/lib/python3.8/dist-packages (from requests->Bio) (3.0.4)\n",
            "Requirement already satisfied: urllib3!=1.25.0,!=1.25.1,<1.26,>=1.21.1 in /usr/local/lib/python3.8/dist-packages (from requests->Bio) (1.24.3)\n",
            "Installing collected packages: biothings-client, mygene, biopython, Bio\n",
            "Successfully installed Bio-1.5.2 biopython-1.79 biothings-client-0.2.6 mygene-3.2.2\n"
          ]
        }
      ]
    },
    {
      "cell_type": "code",
      "source": [
        "from ctypes import resize\n",
        "from Bio import Seq\n",
        "def dnaToRna(dna):\n",
        "  return dna.replace(\"T\", \"U\")\n",
        "\n",
        "def rnaToDna(dna):\n",
        "  return dna.replace(\"U\", \"T\")\n",
        "\n",
        "def RnaToAcid(rna,codon):\n",
        "  acid = ''\n",
        "  code = [rna[i:i+3] for i in range(0,len(rna),3)] \n",
        "  # print(code)\n",
        "  for i in code:\n",
        "    if codon[i] != 'Stop':\n",
        "      acid += codon[i] \n",
        "  return acid     \n",
        "\n",
        "def PeptideEncoding(dna,peptide,codon):\n",
        "  rna = dnaToRna(dna)\n",
        "  rna2 = dnaToRna(Seq.reverse_complement(dna))\n",
        "  k = len(peptide)*3\n",
        "  substr = [rna[i:i+k] for i in range(0,len(rna)-k+1,k)] \n",
        "  substr2 = [rna2[i:i+k] for i in range(0,len(rna)-k+1,k)]\n",
        "  # print(substr2)\n",
        "  ans = []\n",
        "  for i in substr:\n",
        "    if RnaToAcid(i,codon) == peptide:\n",
        "      ans.append(rnaToDna(i))\n",
        "\n",
        "    if RnaToAcid(dnaToRna(Seq.reverse_complement(i)),codon) == peptide:\n",
        "      ans.append(rnaToDna(Seq.reverse_complement(i)))\n",
        "  # for i in substr2:\n",
        "  #   if RnaToAcid(i,codon) == peptide:\n",
        "  #     ans.append(Seq.reverse_complement(rnaToDna(i)))  \n",
        "         \n",
        "  return ans\n",
        "\n",
        "codonTable ='''\n",
        "UUU F      CUU L      AUU I      GUU V\n",
        "UUC F      CUC L      AUC I      GUC V\n",
        "UUA L      CUA L      AUA I      GUA V\n",
        "UUG L      CUG L      AUG M      GUG V\n",
        "UCU S      CCU P      ACU T      GCU A\n",
        "UCC S      CCC P      ACC T      GCC A\n",
        "UCA S      CCA P      ACA T      GCA A\n",
        "UCG S      CCG P      ACG T      GCG A\n",
        "UAU Y      CAU H      AAU N      GAU D\n",
        "UAC Y      CAC H      AAC N      GAC D\n",
        "UAA Stop   CAA Q      AAA K      GAA E\n",
        "UAG Stop   CAG Q      AAG K      GAG E\n",
        "UGU C      CGU R      AGU S      GGU G\n",
        "UGC C      CGC R      AGC S      GGC G\n",
        "UGA Stop   CGA R      AGA R      GGA G\n",
        "UGG W      CGG R      AGG R      GGG G \n",
        "'''.split()\n",
        "k = [i for i in codonTable if codonTable.index(i) %2 == 0]\n",
        "v = [i for i in codonTable if codonTable.index(i) %2 != 0]\n",
        "codon = dict(zip(k,v))\n",
        "# print(codon)\n",
        "PeptideEncoding('ATGGCCATGGCCCCCAGAACTGAGATCAATAGTACCCGTATTAACGGGTGA','MA',codon)\n",
        "# RnaToAcid('AUGGCCAUGGCCCCCAGAACUGAGAUCAAUAGUACCCGUAUUAACGGGUGA',codon)\n"
      ],
      "metadata": {
        "colab": {
          "base_uri": "https://localhost:8080/"
        },
        "id": "4yaF2vh-JmZX",
        "outputId": "a1262d81-cb96-4d66-a114-b6dbbb3a5cd7"
      },
      "execution_count": null,
      "outputs": [
        {
          "output_type": "execute_result",
          "data": {
            "text/plain": [
              "['ATGGCC', 'ATGGCC']"
            ]
          },
          "metadata": {},
          "execution_count": 6
        }
      ]
    },
    {
      "cell_type": "markdown",
      "source": [
        "**BA4C: Generate the Theoretical Spectrum of a Cyclic Peptide**"
      ],
      "metadata": {
        "id": "4eCgMKnWzzoB"
      }
    },
    {
      "cell_type": "code",
      "source": [
        "from itertools import combinations\n",
        "\n",
        "def massTable():\n",
        "  mass = '''A   71\n",
        "C   103\n",
        "D   115\n",
        "E   129\n",
        "F   147\n",
        "G   57\n",
        "H   137\n",
        "I   113\n",
        "K   128\n",
        "L   113\n",
        "M   131\n",
        "N   114\n",
        "P   97\n",
        "Q   128\n",
        "R   156\n",
        "S   87\n",
        "T   101\n",
        "V   99\n",
        "W   186\n",
        "Y   163\n",
        "  '''.split()\n",
        "  k = [i for i in mass if mass.index(i)%2 == 0]\n",
        "  v = [int(i) for i in mass if mass.index(i)%2 != 0]\n",
        "  # print(sorted(v))\n",
        "  return dict(zip(k,v))\n",
        "\n",
        "# print(massTable())\n",
        "\n",
        "def powerSet(peptide):\n",
        "  l = []\n",
        "  for i in range(0,len(peptide)+1):\n",
        "    l += (''.join(x) for x in combinations(peptide,i))\n",
        "  return l  \n",
        "\n",
        "def theoreticalSpec(peptide):\n",
        "  spectrum = powerSet(peptide) \n",
        "  Table = massTable()\n",
        "  res = []\n",
        "  for i in spectrum:\n",
        "    s = 0\n",
        "    for j in i:\n",
        "      s += Table[j] \n",
        "    res.append(s)  \n",
        "  res.sort()  \n",
        "  return  res \n",
        "\n",
        "\n",
        "ans = theoreticalSpec('VSHSYQKLAWRFHYF')  \n",
        "for i in ans:\n",
        "  print(i,end =' ')"
      ],
      "metadata": {
        "id": "i2fCI5e6z1qn",
        "colab": {
          "base_uri": "https://localhost:8080/"
        },
        "outputId": "3a6dfd02-c0cf-42ec-a264-522df235ce93"
      },
      "execution_count": null,
      "outputs": [
        {
          "output_type": "stream",
          "name": "stdout",
          "text": [
            "0 71 87 87 99 113 128 128 137 137 147 147 156 158 158 163 163 170 174 184 186 186 186 199 199 200 200 208 208 212 215 215 215 215 218 218 224 224 224 224 227 227 227 234 234 234 234 234 234 236 236 241 241 243 243 245 246 246 250 250 250 250 250 250 255 256 257 257 257 260 260 262 262 265 265 265 265 269 271 271 273 273 273 274 275 275 275 275 276 276 283 284 284 284 284 284 284 285 286 286 286 286 287 291 291 291 291 293 293 294 295 295 295 295 298 298 299 299 299 300 300 300 300 302 302 303 303 305 305 305 305 307 307 310 310 310 310 311 311 312 312 314 314 314 314 314 314 314 314 317 317 319 319 321 321 321 321 321 321 321 321 323 323 323 323 323 323 326 326 327 328 328 328 328 330 331 331 333 333 333 333 333 333 333 333 336 336 336 336 337 337 337 337 337 337 340 340 340 342 342 342 343 343 344 344 344 345 346 346 346 346 347 347 347 347 347 347 349 349 349 349 349 349 349 349 352 352 352 352 352 352 352 352 355 355 355 355 355 355 355 356 356 356 358 359 359 360 361 361 362 362 362 362 362 362 362 362 362 362 362 362 363 363 363 363 364 364 364 364 364 364 365 368 369 370 370 370 371 371 371 371 371 371 371 371 371 371 371 371 371 371 371 371 372 372 373 373 373 374 374 374 374 374 374 375 375 378 378 378 378 378 378 378 378 378 378 378 378 380 380 380 380 381 381 381 381 381 381 382 382 383 383 383 383 383 383 385 385 385 385 385 385 386 386 386 387 387 387 387 387 387 387 387 387 388 388 388 388 390 390 390 390 390 390 390 390 390 390 392 392 392 392 393 393 393 394 394 394 394 394 394 397 397 397 397 397 397 397 397 397 397 397 397 397 397 397 398 399 399 399 399 399 399 399 399 401 401 401 401 401 401 401 402 402 402 402 403 403 404 404 404 404 404 404 404 404 404 404 406 406 406 406 406 406 407 408 408 408 408 408 408 409 409 409 409 410 410 410 410 410 410 411 411 412 412 412 412 412 412 412 412 412 413 413 413 413 413 413 413 413 413 413 413 414 414 415 415 416 416 418 418 418 418 418 418 419 419 420 420 420 420 420 420 420 420 420 420 420 420 420 420 421 421 421 421 421 421 422 422 422 422 423 423 423 423 423 423 423 423 423 423 423 423 424 424 425 426 427 427 427 427 427 427 427 427 428 428 428 428 428 428 428 428 429 429 429 430 430 430 430 431 431 431 431 431 431 431 432 432 432 432 432 432 433 433 433 433 433 433 433 433 434 434 434 434 434 434 435 435 435 435 436 436 436 436 436 436 436 436 436 436 436 436 437 437 438 438 438 438 438 438 438 438 439 439 439 439 439 439 440 440 440 440 440 441 442 442 442 442 442 442 442 442 442 442 442 442 442 442 442 443 443 443 444 445 445 445 445 446 446 446 446 446 446 446 446 447 447 447 447 447 447 447 447 447 447 447 447 448 448 448 449 449 449 449 449 449 449 449 449 449 449 449 449 449 449 449 450 450 450 451 451 451 451 451 451 451 451 451 451 451 451 451 451 451 451 452 452 454 454 454 454 454 454 454 454 455 455 455 456 456 456 456 456 456 457 457 457 457 457 458 458 458 458 458 458 458 458 458 458 458 458 458 458 458 459 459 459 459 459 460 460 460 461 461 461 461 461 461 461 461 461 461 461 461 461 461 461 461 461 461 461 461 462 462 462 462 462 462 463 463 463 463 464 464 464 465 465 465 465 465 465 465 465 465 465 465 465 466 466 466 466 467 467 468 468 468 468 468 468 468 468 468 468 468 468 468 468 468 468 469 470 470 470 470 470 470 470 470 470 470 470 470 470 470 470 470 470 470 470 470 470 470 472 472 472 472 472 472 473 473 473 473 473 473 473 474 474 474 474 474 474 474 474 475 475 475 475 475 475 475 475 475 475 475 475 477 477 477 477 477 477 477 477 477 477 477 477 477 477 477 477 477 477 477 477 477 477 477 477 478 479 479 479 479 479 479 480 480 480 480 480 480 480 480 480 480 480 481 481 481 481 481 481 482 483 483 483 483 483 483 483 483 483 484 484 484 484 484 484 484 484 484 484 484 484 484 484 484 484 484 484 484 484 484 484 484 484 485 485 486 486 486 486 486 486 486 486 486 486 486 486 486 486 486 487 487 487 487 487 487 488 488 489 489 489 489 489 489 489 489 489 489 489 489 490 490 490 490 490 490 491 491 491 491 491 491 491 491 491 491 491 491 491 491 492 492 492 492 492 492 492 492 493 493 493 493 493 493 493 493 493 493 494 494 494 494 494 494 495 495 496 496 496 496 496 496 496 496 496 496 496 496 496 496 496 496 496 496 496 497 497 498 498 498 498 498 498 499 499 499 499 499 499 499 499 499 499 499 499 499 499 499 499 499 499 499 499 499 499 499 499 499 499 500 500 500 500 500 500 500 500 500 500 500 500 500 500 500 500 501 501 501 501 502 502 502 502 502 502 502 502 503 503 503 503 503 503 503 503 503 503 503 503 505 505 505 505 505 505 505 505 505 505 506 506 506 506 506 506 506 507 507 507 507 507 507 507 507 507 507 507 507 507 507 508 508 508 508 508 508 508 508 508 508 508 508 508 508 509 509 509 509 509 509 509 509 509 509 509 509 509 509 509 509 510 510 510 510 510 510 510 510 510 510 510 510 510 511 511 511 511 511 511 511 511 511 511 511 511 511 512 512 512 512 512 512 512 512 513 513 513 514 514 514 514 514 514 514 515 515 515 515 515 515 515 515 515 515 515 515 515 515 515 515 515 515 515 515 516 516 516 517 517 517 517 517 517 517 517 518 518 518 518 518 518 518 518 518 518 518 518 518 518 518 518 518 518 518 518 518 518 518 518 518 518 519 519 519 519 519 519 519 519 519 519 519 520 520 520 520 520 520 520 520 520 520 521 521 521 521 521 522 522 522 522 522 522 522 522 522 522 522 522 522 522 522 522 523 523 523 523 523 523 523 523 524 524 524 524 525 525 525 525 525 525 525 525 525 525 525 525 525 525 525 525 525 525 525 525 525 525 525 525 525 525 525 526 526 526 526 526 526 526 527 527 527 527 527 527 527 527 527 527 527 527 527 527 527 527 527 527 527 527 527 527 528 528 528 528 529 529 529 529 529 529 529 529 529 529 530 530 530 530 530 530 530 530 531 531 531 531 531 532 532 532 532 532 532 532 532 532 532 532 532 532 532 533 533 533 533 533 533 533 533 533 533 533 533 534 534 534 534 534 534 534 534 534 534 534 534 534 534 534 534 534 534 534 534 534 534 534 534 534 534 534 534 534 534 534 534 535 535 535 535 535 535 535 535 536 536 536 536 536 536 536 536 536 536 536 536 536 536 537 537 537 537 537 537 537 537 537 537 537 537 537 537 538 538 538 538 538 538 538 538 538 538 538 538 538 538 538 539 539 539 539 539 539 540 540 540 540 541 541 541 541 541 541 541 541 541 541 541 541 541 541 541 541 541 541 541 541 541 541 541 541 541 541 541 541 541 541 541 542 542 542 543 543 543 543 543 543 543 543 543 543 544 544 544 544 544 544 544 544 544 544 544 544 544 545 545 545 545 545 545 545 545 546 546 546 546 546 546 546 546 546 546 546 546 546 546 546 546 546 546 546 546 547 547 547 548 548 548 548 548 548 548 548 548 548 548 548 548 548 548 548 548 548 548 548 548 548 548 548 548 548 548 548 548 548 549 549 549 549 549 549 549 549 549 549 549 549 549 550 550 550 550 550 550 550 550 550 550 550 550 550 550 550 550 550 551 551 551 551 551 551 551 551 551 551 551 551 551 551 551 552 552 552 552 553 553 553 553 553 553 553 553 553 553 553 553 553 553 553 554 555 555 555 555 555 555 555 555 555 555 555 555 555 555 555 555 555 555 555 555 555 555 555 556 556 556 556 556 556 556 556 557 557 557 557 557 557 557 557 557 557 557 557 557 557 557 557 557 557 557 557 557 557 557 557 557 557 557 557 557 557 557 558 558 558 558 558 558 559 559 559 559 559 559 559 559 559 560 560 560 560 560 560 560 560 560 560 560 560 560 560 560 560 560 560 560 560 560 560 560 560 560 560 560 560 560 560 561 561 561 561 561 561 561 562 562 562 562 562 562 562 562 562 562 562 562 562 562 563 563 563 564 564 564 564 564 564 564 564 564 564 564 564 564 564 564 564 564 564 564 564 564 564 564 564 564 564 564 564 564 564 565 565 565 565 565 565 565 565 565 565 566 566 566 566 566 566 566 566 566 566 567 567 567 567 567 567 567 567 567 567 567 567 567 567 567 567 567 567 567 567 567 567 567 567 567 568 568 568 568 568 568 568 568 568 568 568 569 569 569 569 569 569 569 569 569 569 569 569 570 570 570 570 570 570 570 570 570 570 570 570 570 570 570 570 570 570 570 570 571 571 571 571 571 571 571 571 571 571 571 571 571 571 571 571 571 571 571 572 572 572 572 572 573 573 573 573 573 573 573 573 573 573 573 573 573 573 573 573 573 574 574 574 574 574 574 574 574 574 574 574 574 574 574 574 574 574 574 574 574 575 575 575 575 575 575 575 575 575 575 575 575 575 575 575 575 575 575 576 576 576 576 576 576 576 576 576 576 576 576 576 576 576 576 576 576 576 576 576 576 577 577 577 577 577 577 577 577 577 577 577 578 578 578 578 578 578 578 578 578 578 579 579 579 579 579 579 579 579 579 579 579 579 579 579 579 579 579 579 579 579 579 579 579 580 580 580 580 580 580 580 580 580 580 581 581 581 581 581 581 581 581 581 581 582 582 582 582 582 582 582 582 582 582 583 583 583 583 583 583 583 583 583 583 583 583 583 583 583 583 583 583 583 583 583 583 583 583 583 583 583 583 583 583 583 583 583 583 583 583 583 584 584 584 584 584 584 584 584 584 584 584 584 585 585 585 585 585 585 585 585 585 585 585 585 585 585 586 586 586 586 586 586 586 586 586 586 586 586 586 586 586 586 586 586 586 586 586 586 586 586 586 586 586 586 586 586 586 587 587 587 587 587 587 587 587 587 587 587 588 588 588 588 588 588 588 588 588 588 589 589 589 589 589 589 589 589 589 589 589 589 589 589 589 589 589 589 589 589 590 590 590 590 590 590 590 590 590 590 590 590 590 590 590 590 590 590 590 590 590 590 591 591 591 591 591 591 591 591 591 591 592 592 592 592 592 592 592 592 592 592 592 592 592 592 593 593 593 593 593 593 593 593 593 593 593 593 593 593 593 594 594 594 594 594 594 594 594 594 594 594 594 594 594 594 594 594 594 594 594 595 595 595 595 595 595 595 595 595 595 595 595 595 595 595 596 596 596 596 596 596 596 596 596 596 596 596 596 596 596 596 596 596 596 596 596 596 596 596 596 596 596 596 596 597 597 597 597 597 597 597 597 598 598 598 598 598 598 598 598 598 598 598 598 598 598 598 598 598 598 598 598 598 598 598 598 598 598 598 598 598 598 598 598 598 598 598 598 598 598 598 598 598 598 598 599 599 599 599 599 599 599 599 599 599 599 599 599 599 599 599 599 600 600 600 600 600 601 601 601 601 601 601 601 601 601 601 601 601 601 602 602 602 602 602 602 602 602 602 602 602 602 602 602 602 602 602 602 602 602 603 603 603 603 603 603 603 603 603 603 603 603 603 603 604 604 604 604 604 604 604 604 604 605 605 605 605 605 605 605 605 605 605 605 605 605 605 605 605 605 605 605 605 605 605 605 605 605 605 605 605 605 605 605 605 605 605 605 605 605 605 605 605 605 605 605 605 606 606 606 606 606 606 606 606 606 606 606 606 607 607 607 607 607 607 607 607 607 607 607 607 607 607 607 607 607 607 607 607 608 608 608 608 608 608 608 608 608 608 608 608 608 608 608 608 609 609 609 609 609 609 609 609 609 609 609 609 609 609 609 609 609 609 609 609 609 609 609 609 609 610 610 610 610 610 610 610 610 610 610 610 610 611 611 611 611 611 611 611 612 612 612 612 612 612 612 612 612 612 612 612 612 612 612 612 612 612 612 612 612 612 612 612 612 612 612 612 612 612 612 612 612 612 612 612 612 612 612 613 613 613 613 613 613 613 613 613 613 614 614 614 614 614 614 614 614 614 614 614 614 614 614 614 614 614 614 614 614 614 614 614 614 614 614 614 614 614 614 614 614 614 614 614 614 614 614 614 614 615 615 615 615 615 615 615 615 615 615 615 615 615 616 616 616 616 616 616 617 617 617 617 617 617 617 617 617 617 617 617 617 617 617 617 617 617 617 617 617 617 617 617 617 617 617 617 617 617 617 617 618 618 618 618 618 618 618 618 618 619 619 619 619 619 619 619 619 619 619 619 619 619 619 619 619 619 619 620 620 620 620 620 620 620 620 620 620 620 620 620 620 620 620 621 621 621 621 621 621 621 621 621 621 621 621 621 621 621 621 621 621 621 621 621 621 621 621 621 621 621 621 621 621 621 621 621 621 621 622 622 622 622 622 622 622 622 622 622 622 622 622 622 622 622 622 622 623 623 623 623 623 623 623 623 623 623 624 624 624 624 624 624 624 624 624 624 624 624 624 624 624 624 624 624 624 624 624 624 624 624 624 624 624 624 624 624 624 624 624 624 624 624 624 624 624 624 624 624 624 624 624 624 624 624 625 625 625 625 625 625 625 625 626 626 626 626 626 626 626 626 626 626 626 626 626 626 626 626 626 626 626 627 627 627 627 627 627 627 627 627 627 627 627 627 627 628 628 628 628 628 628 628 628 628 628 628 628 628 628 628 628 628 628 628 628 628 628 628 628 628 628 628 628 628 628 628 628 628 628 628 628 628 628 629 629 629 629 629 629 630 630 630 630 630 630 630 630 630 630 630 630 630 631 631 631 631 631 631 631 631 631 631 631 631 631 631 631 631 631 631 631 631 631 631 631 631 631 631 631 631 631 631 631 631 631 631 631 631 632 632 632 632 632 632 632 633 633 633 633 633 633 633 633 633 633 633 633 633 633 633 633 633 633 633 633 633 633 633 633 633 633 633 633 633 633 633 633 633 633 633 633 633 633 633 633 633 633 633 633 633 633 633 633 634 634 634 634 635 635 635 635 635 635 635 635 635 635 635 635 635 635 635 635 635 635 635 635 635 635 635 635 635 635 635 635 636 636 636 636 636 636 636 636 636 636 636 636 636 636 636 636 636 636 636 636 636 636 636 636 636 637 637 637 637 637 637 637 637 637 637 637 637 637 637 637 637 637 637 637 637 637 637 637 637 637 637 638 638 638 638 638 638 638 638 638 638 638 638 638 638 638 638 638 638 638 638 638 638 638 639 639 639 639 639 639 639 639 639 639 639 639 639 640 640 640 640 640 640 640 640 640 640 640 640 640 640 640 640 640 640 640 640 640 640 640 640 640 640 640 640 640 640 640 640 640 640 640 640 640 640 641 641 641 641 642 642 642 642 642 642 642 642 642 642 642 642 642 642 642 642 642 642 642 642 642 642 643 643 643 643 643 643 643 643 643 643 643 643 643 643 643 643 643 643 643 643 643 643 643 643 644 644 644 644 644 644 644 644 644 644 644 644 644 644 644 644 644 644 644 644 644 645 645 645 645 645 645 645 645 645 645 645 645 645 645 645 645 646 646 646 646 646 646 646 646 646 646 646 646 646 646 646 646 646 646 646 646 646 646 646 646 646 646 646 646 646 646 646 646 647 647 647 647 647 647 647 647 647 647 647 647 647 647 647 647 647 647 647 647 647 647 647 647 647 647 647 647 647 647 647 647 647 647 647 647 647 647 647 647 647 647 647 647 647 647 647 647 648 648 648 648 648 648 648 648 648 648 648 648 648 648 649 649 649 649 649 649 649 649 649 649 649 649 649 649 649 649 649 650 650 650 650 650 650 650 650 650 650 650 650 650 650 650 650 650 650 650 650 650 651 651 651 651 651 651 651 651 651 651 651 651 651 651 651 651 651 651 652 652 652 652 652 652 652 652 652 652 652 652 652 652 652 652 652 652 652 652 652 652 652 652 652 652 653 653 653 653 653 653 653 653 653 653 653 653 653 653 653 654 654 654 654 654 654 654 654 654 654 654 654 654 654 654 654 654 654 654 654 654 654 654 654 654 654 654 654 654 654 654 654 654 654 654 654 655 655 655 655 655 655 655 655 655 655 655 655 655 655 655 655 655 655 655 655 655 655 655 655 655 655 655 655 655 655 655 655 655 655 656 656 656 656 656 656 656 656 656 656 656 656 656 656 656 656 656 656 656 656 656 656 656 656 656 656 656 656 656 657 657 657 657 657 657 657 657 657 657 657 657 657 657 657 657 657 658 658 658 658 658 658 658 658 658 658 658 658 658 658 659 659 659 659 659 659 659 659 659 659 659 659 659 659 659 659 659 659 659 659 659 659 659 659 659 659 660 660 660 660 660 660 660 660 660 660 660 660 660 661 661 661 661 661 661 661 661 661 661 661 661 661 661 661 661 661 661 661 661 661 661 661 661 661 661 662 662 662 662 662 662 662 662 662 662 662 662 662 662 662 662 662 662 662 662 662 662 662 662 662 662 662 662 662 662 662 662 662 662 662 662 662 662 662 662 662 662 662 662 662 662 662 663 663 663 663 663 663 663 663 663 663 663 663 663 663 663 663 663 663 663 663 663 663 663 663 663 663 663 663 663 663 663 664 664 664 664 664 664 664 664 664 664 664 664 664 664 664 664 664 664 664 665 665 665 665 665 665 665 665 665 665 665 665 665 665 665 665 665 665 665 665 665 665 665 665 666 666 666 666 666 666 666 666 666 666 666 666 666 666 666 666 666 666 666 666 666 666 666 666 666 666 666 666 666 667 667 667 667 667 667 667 667 667 667 667 667 667 668 668 668 668 668 668 668 668 668 668 668 669 669 669 669 669 669 669 669 669 669 669 669 669 669 669 669 669 669 669 669 669 669 669 669 669 669 669 669 669 669 669 669 669 669 669 670 670 670 670 670 670 670 670 670 670 670 670 670 670 670 670 670 670 670 670 670 670 670 670 670 670 670 670 670 670 670 670 670 670 670 670 670 671 671 671 671 671 671 671 671 671 671 671 671 671 671 671 671 671 671 671 671 671 671 671 671 671 671 671 672 672 672 672 672 672 672 672 672 672 672 672 672 672 672 672 672 672 672 672 672 672 672 672 672 672 672 672 672 673 673 673 673 673 673 673 673 673 673 673 673 673 673 673 673 673 673 673 673 673 673 673 673 673 673 674 674 674 674 674 674 674 674 674 674 674 674 674 674 674 674 674 674 674 674 674 674 674 674 674 674 674 674 674 674 674 674 674 674 675 675 675 675 675 675 675 675 675 675 675 675 675 675 675 676 676 676 676 676 676 676 676 676 676 676 676 676 676 676 676 676 676 676 676 676 676 677 677 677 677 677 677 677 677 677 677 677 677 677 677 677 677 677 677 677 677 678 678 678 678 678 678 678 678 678 678 678 678 678 678 678 678 678 678 678 678 678 678 678 678 678 678 678 678 678 678 678 678 678 678 678 678 679 679 679 679 679 679 679 679 679 679 679 679 679 679 679 679 679 679 680 680 680 680 680 680 680 680 680 680 680 680 680 680 680 680 680 680 680 680 680 681 681 681 681 681 681 681 681 681 681 681 681 681 681 681 681 681 681 681 681 681 681 681 681 681 681 681 681 681 681 681 681 681 681 681 681 681 681 681 681 681 681 682 682 682 682 682 682 682 682 682 682 682 682 682 682 682 682 682 682 682 683 683 683 683 683 683 683 683 683 683 683 683 683 683 683 683 683 683 683 683 683 683 683 683 683 683 683 683 683 683 683 683 683 683 683 683 683 683 684 684 684 684 684 684 684 684 684 684 684 685 685 685 685 685 685 685 685 685 685 685 685 685 685 685 685 685 685 685 685 685 685 685 685 685 685 685 685 685 685 685 685 685 685 685 685 685 685 685 685 685 685 685 685 685 685 685 685 685 685 685 685 685 685 685 685 685 685 685 686 686 686 686 686 686 686 686 686 686 686 686 686 686 686 686 686 686 686 687 687 687 687 687 687 687 687 687 687 688 688 688 688 688 688 688 688 688 688 688 688 688 688 688 688 688 688 688 688 688 688 688 688 688 688 688 688 688 688 688 688 688 688 688 688 688 688 688 688 688 688 688 688 688 688 688 688 689 689 689 689 689 689 689 689 689 689 689 689 689 689 689 689 689 689 690 690 690 690 690 690 690 690 690 690 690 690 690 690 690 690 690 690 690 690 690 690 690 690 690 690 690 690 690 690 691 691 691 691 691 691 691 691 691 691 691 692 692 692 692 692 692 692 692 692 692 692 692 692 692 692 692 692 692 692 692 692 692 692 692 692 692 692 692 692 692 692 692 692 692 692 692 692 692 692 693 693 693 693 693 693 693 693 693 693 693 693 693 693 693 693 693 693 693 693 693 693 693 693 694 694 694 694 694 694 694 694 694 694 694 694 694 694 694 694 694 694 694 694 694 694 694 694 694 695 695 695 695 695 695 695 695 695 695 695 695 695 695 695 695 695 695 695 695 695 695 695 695 695 695 695 695 695 695 695 695 695 695 695 695 695 695 695 695 695 696 696 696 696 696 696 696 696 696 696 696 696 696 696 696 696 696 696 696 696 696 696 696 696 696 697 697 697 697 697 697 697 697 697 697 697 697 697 697 697 697 697 697 697 697 697 697 697 697 697 697 697 697 697 697 697 697 697 697 697 697 697 697 697 697 697 697 697 697 697 698 698 698 698 698 698 698 698 698 698 698 698 698 698 698 698 698 698 699 699 699 699 699 699 699 699 699 699 699 699 699 699 699 699 699 699 699 699 699 699 699 699 699 699 699 699 699 699 700 700 700 700 700 700 700 700 700 700 700 700 700 700 700 700 701 701 701 701 701 701 701 701 701 701 701 701 701 701 701 701 701 701 701 701 701 701 701 701 701 701 701 701 701 701 701 701 701 701 701 701 701 701 702 702 702 702 702 702 702 702 702 702 702 702 702 702 702 702 702 702 702 702 702 702 702 702 702 702 702 702 702 702 703 703 703 703 703 703 703 703 703 703 703 703 703 703 703 704 704 704 704 704 704 704 704 704 704 704 704 704 704 704 704 704 704 704 704 704 704 704 704 704 704 704 704 704 704 704 704 704 704 704 704 704 704 704 704 704 704 704 704 704 704 704 704 704 704 704 704 704 704 704 704 704 704 704 704 704 704 704 704 704 704 704 705 705 705 705 705 705 705 705 705 705 705 705 705 706 706 706 706 706 706 706 706 706 706 706 706 706 706 706 706 706 706 706 707 707 707 707 707 707 707 707 707 707 707 707 707 707 707 707 707 707 707 707 707 707 707 707 707 707 707 707 707 707 707 707 707 708 708 708 708 708 708 708 708 708 708 708 708 708 708 708 708 708 708 708 708 708 708 708 708 708 708 709 709 709 709 709 709 709 709 709 709 709 709 709 709 709 709 709 709 709 709 709 709 709 709 709 709 710 710 710 710 710 710 710 710 710 710 711 711 711 711 711 711 711 711 711 711 711 711 711 711 711 711 711 711 711 711 711 711 711 711 711 711 711 711 711 711 711 711 711 711 711 711 711 711 711 711 711 711 711 711 711 711 711 711 711 711 711 711 711 711 711 711 711 711 711 711 711 711 711 711 711 711 711 711 711 711 711 711 711 711 711 711 711 712 712 712 712 712 712 712 712 712 712 712 712 712 712 712 712 712 712 712 713 713 713 713 713 713 713 713 713 713 713 713 713 713 713 713 713 713 713 713 713 713 713 713 713 713 713 713 713 713 713 713 713 713 713 713 713 713 713 714 714 714 714 714 714 714 714 714 714 714 714 714 714 714 714 714 714 714 714 714 714 714 714 714 714 714 714 714 715 715 715 715 715 715 715 715 715 715 715 715 715 715 715 715 715 715 715 715 716 716 716 716 716 716 716 716 716 716 716 716 716 716 716 716 716 716 716 716 716 716 716 716 716 717 717 717 717 717 717 717 717 717 717 717 717 717 717 717 717 717 718 718 718 718 718 718 718 718 718 718 718 718 718 718 718 718 718 718 718 718 718 718 718 718 718 718 718 718 718 718 718 718 718 718 718 718 718 718 718 718 718 718 718 718 718 718 718 718 719 719 719 719 719 719 719 719 719 719 719 719 719 719 719 720 720 720 720 720 720 720 720 720 720 720 720 720 720 720 720 720 720 720 720 720 720 720 720 720 720 720 720 720 720 720 720 720 720 720 720 720 720 720 720 720 720 720 720 720 720 720 720 720 720 720 720 720 720 720 720 720 720 720 720 720 720 720 721 721 721 721 721 721 721 721 721 721 721 721 721 721 721 721 721 721 721 721 722 722 722 722 722 722 722 722 722 722 722 722 722 722 722 722 722 722 722 722 722 722 722 722 722 722 722 722 722 722 723 723 723 723 723 723 723 723 723 723 723 723 723 723 723 723 723 723 723 723 723 723 723 723 723 723 723 723 723 723 723 723 723 723 723 723 723 723 723 723 723 723 723 723 723 723 723 724 724 724 724 724 724 724 724 724 724 724 724 724 724 724 724 724 724 724 724 724 724 724 725 725 725 725 725 725 725 725 725 725 725 725 725 725 725 725 725 725 726 726 726 726 726 726 726 726 726 726 726 726 726 726 726 726 726 726 726 726 726 726 726 726 726 726 726 726 726 726 726 726 726 726 726 726 727 727 727 727 727 727 727 727 727 727 727 727 727 727 727 727 727 727 727 727 727 727 727 727 727 727 727 727 727 727 727 727 727 727 727 727 727 727 727 727 727 727 727 727 727 727 727 727 727 727 727 727 727 727 727 728 728 728 728 728 728 728 728 728 728 728 729 729 729 729 729 729 729 729 729 729 729 729 729 729 729 729 729 729 729 729 729 729 729 729 730 730 730 730 730 730 730 730 730 730 730 730 730 730 730 730 730 730 730 730 730 730 730 730 730 730 730 730 730 730 730 730 730 730 730 730 730 730 730 730 730 730 730 730 730 730 730 730 731 731 731 731 731 731 731 731 731 731 731 731 731 731 731 731 731 731 731 731 731 731 731 731 731 732 732 732 732 732 732 732 732 732 732 732 732 732 732 732 732 732 732 732 732 732 732 732 732 732 732 732 732 733 733 733 733 733 733 733 733 733 733 733 733 733 733 733 733 733 733 733 733 733 733 733 733 733 733 733 733 733 733 733 733 733 733 733 733 733 733 733 733 733 733 733 733 733 733 733 733 733 733 733 734 734 734 734 734 734 734 734 734 734 734 734 734 734 734 734 734 734 734 734 734 734 734 734 734 734 734 734 734 734 734 734 734 734 734 735 735 735 735 735 735 735 735 735 735 735 735 735 735 735 735 735 735 735 735 735 735 735 735 735 735 735 735 735 736 736 736 736 736 736 736 736 736 736 736 736 736 736 736 736 736 736 736 736 736 736 736 736 736 736 736 737 737 737 737 737 737 737 737 737 737 737 737 737 737 737 737 737 737 737 737 737 737 737 737 737 737 737 737 737 737 737 737 737 737 737 737 737 737 737 737 737 737 737 738 738 738 738 738 738 738 738 738 738 738 738 738 738 738 738 738 738 738 738 738 738 739 739 739 739 739 739 739 739 739 739 739 739 739 739 739 739 739 739 739 739 739 739 739 739 739 739 739 739 739 739 739 739 739 739 739 739 739 740 740 740 740 740 740 740 740 740 740 740 740 740 740 740 740 740 740 740 740 740 740 740 740 741 741 741 741 741 741 741 741 741 741 741 741 741 741 741 741 741 741 741 741 741 741 741 741 741 741 741 741 741 741 741 741 741 741 742 742 742 742 742 742 742 742 742 742 742 742 742 742 742 742 742 742 742 742 742 742 742 742 742 742 742 742 742 742 742 742 742 742 742 742 742 742 742 742 742 742 742 742 742 742 742 742 742 742 742 742 743 743 743 743 743 743 743 743 743 743 743 743 743 743 743 743 743 743 743 743 743 743 743 743 743 743 743 743 743 743 743 743 743 744 744 744 744 744 744 744 744 744 744 744 744 744 744 744 744 745 745 745 745 745 745 745 745 745 745 745 745 745 745 745 745 745 745 745 745 745 745 745 745 745 745 745 745 745 745 745 745 745 745 745 745 745 745 745 745 746 746 746 746 746 746 746 746 746 746 746 746 746 746 746 746 746 746 746 746 746 746 746 746 746 746 746 746 746 746 746 746 746 746 746 746 746 746 746 746 746 746 746 746 746 746 746 746 746 746 746 746 746 746 747 747 747 747 747 747 747 747 747 747 747 747 747 747 747 748 748 748 748 748 748 748 748 748 748 748 748 748 748 748 748 748 748 748 748 748 748 748 748 749 749 749 749 749 749 749 749 749 749 749 749 749 749 749 749 749 749 749 749 749 749 749 749 749 749 749 749 749 749 749 749 749 749 749 749 749 749 749 749 749 749 749 749 749 749 749 749 749 749 749 750 750 750 750 750 750 750 750 750 750 750 750 750 750 750 750 750 750 750 750 750 750 750 750 750 750 750 750 750 750 750 750 751 751 751 751 751 751 751 751 751 751 751 751 751 751 751 751 751 751 751 751 751 751 751 751 751 751 751 752 752 752 752 752 752 752 752 752 752 752 752 752 752 752 752 752 752 752 752 752 752 752 752 752 752 752 752 752 752 752 752 752 752 752 752 752 752 752 752 752 752 752 752 752 752 752 752 752 752 752 752 752 752 753 753 753 753 753 753 753 753 753 753 753 753 753 753 753 753 753 753 753 753 753 753 753 753 753 753 753 753 753 754 754 754 754 754 754 754 754 754 754 754 754 754 754 754 754 754 754 754 754 754 754 754 754 754 754 754 754 754 754 754 754 754 754 754 754 754 754 754 755 755 755 755 755 755 755 755 755 755 755 755 755 755 755 755 755 755 755 756 756 756 756 756 756 756 756 756 756 756 756 756 756 756 756 756 756 756 756 756 756 756 756 756 756 756 756 756 756 756 756 756 756 756 756 756 756 756 756 756 756 756 756 756 757 757 757 757 757 757 757 757 757 757 757 757 757 757 757 757 757 757 757 757 757 757 757 757 757 757 757 757 758 758 758 758 758 758 758 758 758 758 758 758 758 758 758 758 758 758 758 758 758 758 758 758 759 759 759 759 759 759 759 759 759 759 759 759 759 759 759 759 759 759 759 759 759 759 759 759 759 759 759 759 759 759 759 759 759 759 759 759 759 759 759 759 759 759 759 759 759 759 759 759 759 759 760 760 760 760 760 760 760 760 760 760 760 760 760 760 760 760 760 760 760 760 760 760 761 761 761 761 761 761 761 761 761 761 761 761 761 761 761 761 761 761 761 761 761 761 761 761 761 761 761 761 761 761 761 761 761 761 761 761 761 761 761 761 761 761 761 761 761 761 761 761 761 761 761 761 761 761 761 761 761 761 761 761 761 761 761 761 761 761 761 761 761 761 761 761 761 761 761 761 761 761 761 761 761 761 761 761 761 761 762 762 762 762 762 762 762 762 762 762 762 762 762 762 762 762 762 762 762 763 763 763 763 763 763 763 763 763 763 763 763 763 763 763 763 763 763 763 763 763 763 763 764 764 764 764 764 764 764 764 764 764 764 764 764 764 764 764 764 764 764 764 764 764 764 764 764 764 764 764 765 765 765 765 765 765 765 765 765 765 765 765 765 765 765 765 765 765 765 765 765 765 765 765 765 765 765 765 765 765 765 765 765 765 765 765 765 765 765 765 765 765 765 765 765 765 765 766 766 766 766 766 766 766 766 766 766 766 766 766 766 766 766 766 766 766 766 766 767 767 767 767 767 767 767 767 767 767 767 767 767 767 767 767 767 767 767 767 767 767 768 768 768 768 768 768 768 768 768 768 768 768 768 768 768 768 768 768 768 768 768 768 768 768 768 768 768 768 768 768 768 768 768 768 768 768 768 768 768 768 768 768 768 768 768 768 768 768 768 768 768 768 768 768 768 768 768 768 768 768 768 768 768 768 768 768 768 768 768 768 769 769 769 769 769 769 769 769 769 769 769 769 769 769 769 769 769 769 769 769 769 769 769 769 769 769 769 770 770 770 770 770 770 770 770 770 770 770 770 770 770 770 770 770 770 770 770 770 770 770 770 770 770 770 770 770 770 770 770 770 770 770 770 770 770 770 770 770 770 770 770 770 770 770 770 771 771 771 771 771 771 771 771 771 771 771 771 771 771 771 771 771 771 771 771 771 771 771 771 771 771 771 771 771 771 772 772 772 772 772 772 772 772 772 772 772 772 772 772 772 772 772 772 772 772 772 772 772 772 772 772 772 772 772 772 772 772 772 772 772 772 772 772 772 772 772 772 772 772 772 772 772 773 773 773 773 773 773 773 773 773 773 773 773 773 773 773 773 773 773 773 773 773 773 773 773 773 773 774 774 774 774 774 774 774 774 774 774 774 774 774 774 774 774 774 774 774 774 775 775 775 775 775 775 775 775 775 775 775 775 775 775 775 775 775 775 775 775 775 775 775 775 775 775 775 775 775 775 775 775 775 775 775 775 775 775 775 775 775 775 775 775 775 775 775 775 775 775 775 775 775 775 775 775 775 775 775 775 775 775 775 775 775 775 775 775 775 776 776 776 776 776 776 776 776 776 776 776 776 776 776 776 776 776 776 776 776 776 776 776 777 777 777 777 777 777 777 777 777 777 777 777 777 777 777 777 777 777 777 777 777 777 777 777 777 777 777 777 777 777 777 777 777 777 777 777 777 777 777 777 777 777 777 778 778 778 778 778 778 778 778 778 778 778 778 778 778 778 778 778 778 778 778 778 778 778 778 778 778 778 778 778 778 779 779 779 779 779 779 779 779 779 779 779 779 779 779 779 779 779 779 779 779 779 779 779 779 779 779 780 780 780 780 780 780 780 780 780 780 780 780 780 780 780 780 780 780 780 780 780 780 780 780 780 780 780 780 780 780 780 780 780 780 780 780 780 780 780 780 780 780 780 780 780 780 780 780 780 780 780 780 780 780 780 780 780 780 780 781 781 781 781 781 781 781 781 781 781 781 781 781 781 781 782 782 782 782 782 782 782 782 782 782 782 782 782 782 782 782 782 782 782 782 782 782 782 782 782 782 782 782 782 782 782 782 782 782 782 782 782 782 782 782 782 782 782 782 782 782 782 782 782 782 782 782 782 782 782 783 783 783 783 783 783 783 783 783 783 783 783 783 783 783 783 783 783 783 783 783 783 783 783 783 783 783 783 783 783 783 783 783 784 784 784 784 784 784 784 784 784 784 784 784 784 784 784 784 784 784 784 784 784 784 784 784 784 784 784 784 784 784 784 784 784 784 784 784 784 784 784 784 784 784 784 784 784 784 784 784 784 784 784 784 784 784 784 784 784 784 784 784 784 784 784 784 784 784 784 784 784 784 784 785 785 785 785 785 785 785 785 785 785 785 785 785 785 785 785 785 785 785 785 785 785 785 785 785 785 786 786 786 786 786 786 786 786 786 786 786 786 786 786 786 786 786 786 786 787 787 787 787 787 787 787 787 787 787 787 787 787 787 787 787 787 787 787 787 787 787 787 787 787 787 787 787 787 787 787 787 787 787 787 787 787 787 787 787 787 787 787 787 787 787 787 787 787 787 787 787 787 787 787 787 787 788 788 788 788 788 788 788 788 788 788 788 788 788 788 788 788 788 788 788 788 788 789 789 789 789 789 789 789 789 789 789 789 789 789 789 789 789 789 789 789 789 789 789 789 789 789 789 789 789 789 789 789 789 789 789 789 789 789 789 789 789 789 789 789 789 789 789 790 790 790 790 790 790 790 790 790 790 790 790 790 790 790 790 790 790 790 790 790 790 790 790 790 790 791 791 791 791 791 791 791 791 791 791 791 791 791 791 791 791 791 791 791 791 791 791 791 791 791 791 791 791 791 791 791 791 791 791 791 791 791 791 791 791 791 791 791 791 791 791 791 791 791 791 791 791 791 791 791 791 791 791 791 791 791 791 791 791 791 791 791 791 791 791 791 791 791 791 792 792 792 792 792 792 792 792 792 792 792 792 792 792 792 792 792 792 792 792 792 792 793 793 793 793 793 793 793 793 793 793 793 793 793 793 793 793 793 793 793 793 793 793 793 793 793 793 793 793 793 793 793 793 793 793 794 794 794 794 794 794 794 794 794 794 794 794 794 794 794 794 794 794 794 794 794 794 794 794 794 794 794 794 794 794 794 794 794 794 794 794 794 794 794 794 794 794 794 794 794 794 794 794 794 794 794 794 794 795 795 795 795 795 795 795 795 795 795 795 795 795 795 795 795 795 795 795 795 795 795 795 796 796 796 796 796 796 796 796 796 796 796 796 796 796 796 796 796 796 796 796 796 796 796 796 796 796 796 796 796 796 796 796 796 796 796 796 796 796 796 796 796 796 797 797 797 797 797 797 797 797 797 797 797 797 797 797 797 797 797 797 797 797 798 798 798 798 798 798 798 798 798 798 798 798 798 798 798 798 798 798 798 798 798 798 798 798 798 798 798 798 798 798 798 798 798 798 798 798 798 798 798 798 798 798 798 798 798 798 798 798 798 798 798 798 798 798 798 798 798 798 798 798 798 798 798 798 798 798 798 798 798 799 799 799 799 799 799 799 799 799 799 799 799 799 799 799 799 799 799 799 799 799 799 799 799 799 799 799 799 799 799 799 799 799 799 799 799 799 799 799 800 800 800 800 800 800 800 800 800 800 800 800 800 800 800 800 800 800 800 800 800 800 800 800 800 800 800 800 800 800 800 800 800 800 800 800 800 800 800 800 800 800 800 800 800 800 800 800 801 801 801 801 801 801 801 801 801 801 801 801 801 801 801 801 801 801 801 801 801 801 801 801 801 801 801 801 801 801 801 801 801 801 801 801 801 801 801 801 802 802 802 802 802 802 802 802 802 802 802 802 802 802 802 802 802 802 802 802 802 802 802 802 802 802 802 802 802 802 802 802 802 802 802 802 803 803 803 803 803 803 803 803 803 803 803 803 803 803 803 803 803 803 803 803 803 803 803 803 803 803 803 803 803 803 803 803 803 803 803 803 803 803 803 803 803 803 803 803 803 803 803 803 803 803 803 803 803 804 804 804 804 804 804 804 804 804 804 804 804 804 804 804 804 805 805 805 805 805 805 805 805 805 805 805 805 805 805 805 805 805 805 805 805 805 805 805 805 805 805 805 805 805 805 805 806 806 806 806 806 806 806 806 806 806 806 806 806 806 806 806 806 806 806 806 806 806 806 806 806 806 806 806 806 806 806 806 806 806 806 806 806 806 806 806 806 806 807 807 807 807 807 807 807 807 807 807 807 807 807 807 807 807 807 807 807 807 807 807 807 807 807 807 807 807 807 807 807 807 807 807 807 807 807 807 807 807 807 807 807 807 807 808 808 808 808 808 808 808 808 808 808 808 808 808 808 808 808 808 808 808 808 808 808 808 808 808 808 808 808 808 808 808 808 808 808 808 808 808 808 808 809 809 809 809 809 809 809 809 809 809 809 809 809 809 809 809 809 809 809 809 809 809 809 809 809 809 809 809 809 809 809 809 809 809 809 809 809 809 809 809 809 809 809 809 809 809 809 810 810 810 810 810 810 810 810 810 810 810 810 810 810 810 810 810 810 810 810 810 810 810 810 810 810 810 810 810 810 810 810 810 810 810 810 810 810 810 810 810 810 810 810 810 810 810 810 810 810 810 810 810 810 810 810 810 810 810 810 810 810 810 810 810 810 810 810 811 811 811 811 811 811 811 811 811 811 811 811 811 811 811 811 811 811 811 811 811 811 811 811 811 811 811 811 811 811 811 811 812 812 812 812 812 812 812 812 812 812 812 812 812 812 812 812 812 812 812 812 812 812 812 813 813 813 813 813 813 813 813 813 813 813 813 813 813 813 813 813 813 813 813 813 813 813 813 813 813 813 813 813 813 813 813 813 813 813 813 813 813 813 813 813 813 813 813 813 813 814 814 814 814 814 814 814 814 814 814 814 814 814 814 814 814 814 814 814 814 814 814 814 814 814 814 814 814 814 814 814 814 814 814 814 814 814 814 814 814 815 815 815 815 815 815 815 815 815 815 815 815 815 815 815 815 815 815 815 815 815 815 815 815 815 815 815 816 816 816 816 816 816 816 816 816 816 816 816 816 816 816 816 816 816 816 816 816 816 816 816 816 816 816 816 816 816 816 816 816 816 816 816 816 817 817 817 817 817 817 817 817 817 817 817 817 817 817 817 817 817 817 817 817 817 817 817 817 817 817 817 817 817 817 817 817 817 817 817 817 817 817 817 817 817 817 817 817 817 817 817 817 817 817 817 817 817 817 817 817 817 817 817 817 817 817 817 817 817 818 818 818 818 818 818 818 818 818 818 818 818 818 818 818 818 818 818 818 818 818 818 818 818 818 818 818 818 818 818 818 818 818 818 818 818 818 818 818 818 818 818 818 818 818 818 818 818 818 819 819 819 819 819 819 819 819 819 819 819 819 819 819 819 819 819 819 819 819 819 819 819 819 819 819 819 819 819 819 819 819 819 819 819 819 819 819 819 819 819 819 819 820 820 820 820 820 820 820 820 820 820 820 820 820 820 820 820 820 820 820 820 820 820 820 820 820 820 820 820 820 820 820 820 820 820 820 820 820 820 820 820 820 821 821 821 821 821 821 821 821 821 821 821 821 821 821 821 821 821 821 821 821 821 821 821 821 821 821 821 821 821 821 821 821 822 822 822 822 822 822 822 822 822 822 822 822 822 822 822 822 822 822 822 822 822 822 822 822 822 822 822 822 822 822 822 822 822 822 822 822 822 822 822 822 822 822 822 822 823 823 823 823 823 823 823 823 823 823 823 823 823 823 823 823 823 823 823 823 823 823 823 823 823 823 823 823 823 823 823 823 824 824 824 824 824 824 824 824 824 824 824 824 824 824 824 824 824 824 824 824 824 824 824 824 824 824 824 824 824 824 824 824 824 824 824 824 824 824 825 825 825 825 825 825 825 825 825 825 825 825 825 825 825 825 825 825 825 825 825 825 825 825 825 825 825 825 825 825 825 825 825 825 825 825 825 825 825 825 825 825 825 825 825 825 825 825 825 825 825 825 825 825 825 825 825 825 825 825 825 825 825 826 826 826 826 826 826 826 826 826 826 826 826 826 826 826 826 826 826 826 826 826 826 826 826 826 826 826 826 826 826 826 826 826 826 826 826 826 826 826 826 826 826 826 826 826 827 827 827 827 827 827 827 827 827 827 827 827 827 827 827 827 827 827 827 827 827 827 827 827 827 827 827 827 827 827 828 828 828 828 828 828 828 828 828 828 828 828 828 828 828 828 828 828 828 828 828 828 828 828 828 828 828 828 828 828 828 828 828 828 828 828 829 829 829 829 829 829 829 829 829 829 829 829 829 829 829 829 829 829 829 829 829 829 829 829 829 829 829 829 829 829 829 829 829 829 829 829 829 829 829 829 829 829 829 829 829 829 829 830 830 830 830 830 830 830 830 830 830 830 830 830 830 830 830 830 830 830 830 830 830 830 830 830 830 830 830 830 830 830 830 830 830 830 830 830 830 830 830 831 831 831 831 831 831 831 831 831 831 831 831 831 831 831 831 831 831 832 832 832 832 832 832 832 832 832 832 832 832 832 832 832 832 832 832 832 832 832 832 832 832 832 832 832 832 832 832 832 832 832 832 832 832 832 832 832 832 832 832 832 832 832 832 832 832 832 832 832 832 832 832 832 832 832 832 832 832 832 832 832 832 832 832 832 832 832 832 832 832 832 832 832 832 832 832 832 832 832 832 832 833 833 833 833 833 833 833 833 833 833 833 833 833 833 833 833 833 833 833 833 833 833 833 833 833 833 833 833 833 833 833 833 833 833 833 833 833 833 833 833 833 833 833 833 833 833 833 833 833 833 833 834 834 834 834 834 834 834 834 834 834 834 834 834 834 834 834 834 834 834 834 834 834 834 834 834 834 834 834 834 834 835 835 835 835 835 835 835 835 835 835 835 835 835 835 835 835 835 835 835 835 835 835 835 835 835 835 835 835 835 835 835 835 835 835 835 835 835 836 836 836 836 836 836 836 836 836 836 836 836 836 836 836 836 836 836 836 836 836 836 836 836 836 836 836 836 836 836 836 836 836 836 836 836 836 836 836 836 836 836 836 836 836 837 837 837 837 837 837 837 837 837 837 837 837 837 837 837 837 837 837 837 837 837 837 837 837 837 837 837 837 837 837 837 837 837 837 837 837 837 838 838 838 838 838 838 838 838 838 838 838 838 838 838 838 838 838 838 838 838 838 838 838 838 838 838 838 838 839 839 839 839 839 839 839 839 839 839 839 839 839 839 839 839 839 839 839 839 839 839 839 839 839 839 839 839 839 839 839 839 839 839 839 839 839 839 839 839 839 839 839 839 839 839 839 839 839 839 839 839 839 839 839 839 839 839 839 839 839 839 839 839 839 840 840 840 840 840 840 840 840 840 840 840 840 840 840 840 840 840 840 840 840 840 840 840 840 840 840 840 840 840 840 840 841 841 841 841 841 841 841 841 841 841 841 841 841 841 841 841 841 841 841 841 841 841 841 841 841 841 841 841 841 841 841 841 841 841 841 841 841 841 841 841 841 841 841 841 841 841 841 841 841 841 841 841 841 841 841 841 841 841 841 841 841 841 841 841 841 841 841 841 841 841 841 841 841 842 842 842 842 842 842 842 842 842 842 842 842 842 842 842 842 842 842 842 842 842 842 842 842 842 842 842 842 842 842 842 842 842 843 843 843 843 843 843 843 843 843 843 843 843 843 843 843 843 843 843 843 843 843 843 843 843 843 843 843 843 843 843 843 844 844 844 844 844 844 844 844 844 844 844 844 844 844 844 844 844 844 844 844 844 844 844 844 844 844 844 844 844 844 844 844 844 844 844 844 844 844 844 844 844 844 844 844 844 844 844 844 845 845 845 845 845 845 845 845 845 845 845 845 845 845 845 845 845 845 845 845 845 845 845 845 845 845 845 846 846 846 846 846 846 846 846 846 846 846 846 846 846 846 846 846 846 846 846 846 846 846 846 846 846 846 846 846 846 846 846 846 846 846 846 846 846 846 846 846 846 846 846 846 846 846 846 846 846 846 846 846 846 846 846 846 847 847 847 847 847 847 847 847 847 847 847 847 847 847 847 847 847 847 847 848 848 848 848 848 848 848 848 848 848 848 848 848 848 848 848 848 848 848 848 848 848 848 848 848 848 848 848 848 848 848 848 848 848 848 848 848 848 848 848 848 848 848 848 848 848 848 848 848 848 848 848 848 848 848 848 848 848 848 848 848 848 848 848 848 848 848 848 848 848 848 848 848 848 848 848 848 848 848 848 848 848 848 848 848 848 848 848 848 848 848 848 848 848 848 848 848 848 848 848 848 849 849 849 849 849 849 849 849 849 849 849 849 849 849 849 849 849 849 849 849 849 849 849 849 849 849 849 849 849 850 850 850 850 850 850 850 850 850 850 850 850 850 850 850 850 850 850 850 850 850 850 850 850 850 850 850 850 850 850 851 851 851 851 851 851 851 851 851 851 851 851 851 851 851 851 851 851 851 851 851 851 851 851 851 851 851 851 851 851 851 851 851 851 851 851 851 851 851 851 851 851 851 851 851 851 851 851 851 851 851 851 851 851 851 851 851 851 851 851 851 851 851 851 851 851 851 851 851 851 852 852 852 852 852 852 852 852 852 852 852 852 852 852 852 852 852 852 852 852 852 852 852 852 852 852 852 852 852 852 852 853 853 853 853 853 853 853 853 853 853 853 853 853 853 853 853 853 853 853 853 853 853 853 853 853 853 853 853 853 854 854 854 854 854 854 854 854 854 854 854 854 854 854 854 854 854 854 854 854 854 854 854 854 854 854 855 855 855 855 855 855 855 855 855 855 855 855 855 855 855 855 855 855 855 855 855 855 855 855 855 855 855 855 855 855 855 855 855 855 855 855 855 855 855 855 855 855 855 855 855 855 855 855 855 855 855 855 855 855 855 855 855 855 855 855 855 855 855 855 855 855 855 855 855 855 855 855 855 855 855 856 856 856 856 856 856 856 856 856 856 856 856 856 856 856 856 856 856 856 856 856 856 856 856 856 856 856 856 856 856 856 857 857 857 857 857 857 857 857 857 857 857 857 857 857 857 857 857 857 857 857 857 857 857 857 857 857 857 857 857 857 857 857 857 857 857 857 857 857 857 857 857 857 857 857 857 857 857 858 858 858 858 858 858 858 858 858 858 858 858 858 858 858 858 858 858 858 858 858 858 858 858 858 858 858 858 858 858 858 858 858 858 858 858 858 858 858 858 858 858 858 858 858 858 858 858 858 858 858 858 858 858 858 858 858 858 858 858 858 858 858 858 858 858 859 859 859 859 859 859 859 859 859 859 859 859 859 859 859 859 859 859 859 859 859 859 859 859 859 859 859 859 859 859 859 859 859 859 859 859 860 860 860 860 860 860 860 860 860 860 860 860 860 860 860 860 860 860 860 860 860 860 860 860 860 860 860 860 860 860 860 860 860 860 860 860 860 860 860 860 860 860 860 860 860 860 860 860 860 860 860 860 860 860 860 860 860 860 860 860 860 860 860 861 861 861 861 861 861 861 861 861 861 861 861 861 861 861 861 861 861 861 861 861 861 861 861 861 861 861 861 861 862 862 862 862 862 862 862 862 862 862 862 862 862 862 862 862 862 862 862 862 862 862 862 862 862 862 862 862 862 862 862 862 862 862 862 862 862 862 862 862 862 862 863 863 863 863 863 863 863 863 863 863 863 863 863 863 863 863 863 863 863 863 863 863 863 863 863 863 863 863 863 863 864 864 864 864 864 864 864 864 864 864 864 864 864 864 864 864 864 864 864 864 864 864 864 864 864 864 864 864 864 864 864 864 864 864 864 864 864 864 864 864 864 864 864 864 864 864 864 864 864 864 865 865 865 865 865 865 865 865 865 865 865 865 865 865 865 865 865 865 865 865 865 865 865 865 865 865 865 865 865 865 865 865 865 865 865 865 865 865 865 865 865 865 865 865 865 865 865 865 865 865 866 866 866 866 866 866 866 866 866 866 866 866 866 866 866 866 866 866 866 866 866 866 866 866 866 866 866 867 867 867 867 867 867 867 867 867 867 867 867 867 867 867 867 867 867 867 867 867 867 867 867 867 867 867 867 867 867 867 867 867 867 867 867 867 867 867 867 867 867 867 867 867 867 867 867 867 867 867 867 867 867 867 867 867 867 867 867 867 867 867 867 867 867 867 867 867 867 867 867 867 867 867 867 867 867 867 867 867 867 867 867 867 867 867 867 867 867 867 867 867 867 867 867 868 868 868 868 868 868 868 868 868 868 868 868 868 868 868 868 868 869 869 869 869 869 869 869 869 869 869 869 869 869 869 869 869 869 869 869 869 869 869 869 869 869 869 869 869 869 869 869 869 869 869 869 869 869 869 869 869 869 869 869 869 869 869 869 869 869 869 869 870 870 870 870 870 870 870 870 870 870 870 870 870 870 870 870 870 870 870 870 870 870 870 870 870 870 870 870 870 870 870 870 870 870 870 870 870 870 870 870 870 870 870 870 870 870 870 870 870 870 871 871 871 871 871 871 871 871 871 871 871 871 871 871 871 871 871 871 871 871 871 871 871 871 871 871 871 871 871 871 871 871 871 871 871 871 871 871 871 871 871 871 871 871 871 871 871 871 871 871 871 871 871 872 872 872 872 872 872 872 872 872 872 872 872 872 872 872 872 872 872 872 872 872 872 872 873 873 873 873 873 873 873 873 873 873 873 873 873 873 873 873 873 873 873 873 873 873 873 873 873 873 873 874 874 874 874 874 874 874 874 874 874 874 874 874 874 874 874 874 874 874 874 874 874 874 874 874 874 874 874 874 874 874 874 874 874 874 874 874 874 874 874 874 874 874 874 874 874 874 874 874 874 874 874 874 874 874 874 874 874 874 874 874 874 874 874 874 874 874 874 874 874 874 874 874 874 874 874 874 874 874 874 874 874 874 874 874 874 874 874 874 874 874 874 874 874 874 874 874 874 874 874 874 874 874 874 874 875 875 875 875 875 875 875 875 875 875 875 875 875 875 875 875 875 875 875 876 876 876 876 876 876 876 876 876 876 876 876 876 876 876 876 876 876 876 876 876 876 876 876 876 876 876 876 876 876 876 876 876 876 876 876 876 876 876 876 876 876 876 876 876 876 876 876 876 876 876 876 877 877 877 877 877 877 877 877 877 877 877 877 877 877 877 877 877 877 877 877 877 877 877 877 877 877 877 877 877 877 877 877 877 877 877 877 877 877 877 878 878 878 878 878 878 878 878 878 878 878 878 878 878 878 878 878 878 878 878 878 878 878 878 878 878 878 878 878 878 878 878 878 878 878 878 878 878 878 878 878 878 878 878 878 878 878 878 878 878 879 879 879 879 879 879 879 879 879 879 879 879 879 879 879 879 879 879 879 879 879 879 879 879 879 879 879 879 879 879 879 879 879 879 879 879 879 879 879 879 880 880 880 880 880 880 880 880 880 880 880 880 880 880 880 880 880 880 880 880 880 880 880 880 880 880 880 880 880 880 880 880 880 880 880 880 880 880 880 880 880 880 880 880 881 881 881 881 881 881 881 881 881 881 881 881 881 881 881 881 881 881 881 881 881 881 881 881 881 881 881 881 881 881 881 881 881 881 881 881 881 881 881 881 881 881 881 881 881 881 881 881 881 881 881 881 881 881 881 882 882 882 882 882 882 882 882 882 882 882 882 882 882 882 882 882 882 882 882 882 882 882 882 882 882 882 882 882 882 882 882 882 882 882 882 882 882 883 883 883 883 883 883 883 883 883 883 883 883 883 883 883 883 883 883 883 883 883 883 883 883 883 883 883 883 883 883 883 883 883 883 883 883 883 883 883 883 883 883 883 883 883 883 883 883 883 883 883 883 883 883 883 883 883 883 883 883 883 883 883 883 883 884 884 884 884 884 884 884 884 884 884 884 884 884 884 884 884 884 884 884 884 884 884 884 884 884 884 884 884 884 884 884 884 884 884 885 885 885 885 885 885 885 885 885 885 885 885 885 885 885 885 885 885 885 885 885 885 885 885 885 885 885 885 885 885 885 885 885 885 885 885 885 885 885 885 885 885 885 885 885 885 886 886 886 886 886 886 886 886 886 886 886 886 886 886 886 886 886 886 886 886 886 886 886 886 886 886 886 886 886 886 886 886 886 886 886 886 886 886 886 886 886 886 886 886 886 886 886 886 886 887 887 887 887 887 887 887 887 887 887 887 887 887 887 887 887 887 887 887 887 887 887 887 887 887 887 887 887 887 887 887 887 887 887 887 887 887 887 887 887 888 888 888 888 888 888 888 888 888 888 888 888 888 888 888 888 888 888 888 888 888 888 888 888 888 888 888 888 888 888 888 888 888 888 888 888 888 888 888 889 889 889 889 889 889 889 889 889 889 889 889 889 889 889 889 889 889 889 889 889 889 889 889 889 889 889 889 889 889 889 889 889 889 889 889 889 889 889 889 889 889 889 889 889 889 889 889 889 889 889 889 889 889 889 889 889 889 889 889 889 889 889 889 889 889 889 889 889 889 889 889 889 889 890 890 890 890 890 890 890 890 890 890 890 890 890 890 890 890 890 890 890 890 890 890 890 890 890 890 890 890 890 890 890 890 890 890 890 890 890 890 890 890 890 890 890 890 890 890 890 890 890 890 890 890 890 890 890 890 890 890 890 890 890 890 891 891 891 891 891 891 891 891 891 891 891 891 891 891 891 891 891 891 891 891 891 891 892 892 892 892 892 892 892 892 892 892 892 892 892 892 892 892 892 892 892 892 892 892 892 892 892 892 892 892 892 893 893 893 893 893 893 893 893 893 893 893 893 893 893 893 893 893 893 893 893 893 893 893 893 893 893 893 893 893 893 893 893 893 893 893 893 893 893 893 893 893 893 893 893 893 893 893 893 893 893 893 893 893 893 893 893 893 893 893 893 893 893 893 893 893 893 893 893 893 893 893 894 894 894 894 894 894 894 894 894 894 894 894 894 894 894 894 894 894 894 894 894 894 894 894 894 894 894 895 895 895 895 895 895 895 895 895 895 895 895 895 895 895 895 895 895 895 895 895 895 895 895 895 895 895 895 895 895 895 895 895 895 895 895 895 896 896 896 896 896 896 896 896 896 896 896 896 896 896 896 896 896 896 896 896 896 896 896 896 896 896 896 896 896 896 896 896 896 896 896 896 896 896 896 896 896 896 896 896 896 896 896 896 896 896 896 896 896 896 896 896 896 896 896 896 896 896 897 897 897 897 897 897 897 897 897 897 897 897 897 897 897 897 897 897 897 897 897 897 897 897 897 897 897 897 897 897 897 897 897 897 897 897 897 897 897 897 897 897 897 897 897 897 897 897 897 897 897 897 897 897 897 897 897 897 897 897 897 897 898 898 898 898 898 898 898 898 898 898 898 898 898 898 898 898 898 898 898 898 898 898 898 898 898 898 898 898 898 898 898 898 898 898 898 898 898 898 898 898 898 898 898 898 898 898 898 898 898 898 898 898 898 898 898 899 899 899 899 899 899 899 899 899 899 899 899 899 899 899 899 899 899 899 899 899 899 899 899 899 899 899 899 899 899 899 899 899 899 899 899 899 899 899 900 900 900 900 900 900 900 900 900 900 900 900 900 900 900 900 900 900 900 900 900 900 900 900 900 900 900 900 900 900 900 900 900 900 900 900 900 900 900 900 900 900 900 900 900 900 900 901 901 901 901 901 901 901 901 901 901 901 901 901 901 901 901 901 901 901 901 901 901 901 901 901 901 901 901 901 901 901 901 901 901 901 901 901 901 902 902 902 902 902 902 902 902 902 902 902 902 902 902 902 902 902 902 902 902 902 902 902 902 902 902 902 902 902 902 902 902 902 902 902 902 902 902 902 902 902 902 903 903 903 903 903 903 903 903 903 903 903 903 903 903 903 903 903 903 903 903 903 903 903 903 903 903 903 903 903 903 903 903 903 903 903 903 903 903 903 903 903 903 904 904 904 904 904 904 904 904 904 904 904 904 904 904 904 904 904 904 904 904 904 904 904 904 904 904 904 904 904 904 904 904 904 904 904 904 904 904 904 904 904 904 904 904 904 904 904 904 904 904 904 904 904 904 905 905 905 905 905 905 905 905 905 905 905 905 905 905 905 905 905 905 905 905 905 905 905 905 905 905 905 905 905 905 905 905 905 905 905 905 905 905 905 905 905 905 905 905 905 905 905 905 905 905 905 905 905 905 905 905 905 906 906 906 906 906 906 906 906 906 906 906 906 906 906 906 906 906 906 906 906 906 906 906 906 906 906 906 906 906 906 906 906 906 906 906 906 906 906 906 906 906 906 906 906 906 906 906 906 906 906 906 907 907 907 907 907 907 907 907 907 907 907 907 907 907 907 907 907 907 907 907 907 907 907 907 907 907 907 907 907 907 907 907 907 907 908 908 908 908 908 908 908 908 908 908 908 908 908 908 908 908 908 908 908 908 908 908 908 908 908 908 908 908 908 908 908 908 908 908 908 908 908 908 908 908 908 908 908 908 908 908 908 908 908 908 908 908 908 908 908 908 908 908 908 908 908 908 908 908 908 909 909 909 909 909 909 909 909 909 909 909 909 909 909 909 909 909 909 909 909 909 909 909 909 909 909 909 909 909 909 909 909 909 909 909 909 909 909 909 909 909 909 909 909 909 909 909 909 909 910 910 910 910 910 910 910 910 910 910 910 910 910 910 910 910 910 910 910 910 910 910 910 910 910 910 910 910 910 910 910 910 910 910 911 911 911 911 911 911 911 911 911 911 911 911 911 911 911 911 911 911 911 911 911 911 911 911 912 912 912 912 912 912 912 912 912 912 912 912 912 912 912 912 912 912 912 912 912 912 912 912 912 912 912 912 912 912 912 912 912 912 912 912 912 912 912 912 912 912 912 912 912 912 912 912 912 912 912 912 912 912 912 912 912 912 912 912 912 912 912 912 912 912 912 912 912 912 912 912 912 912 912 912 912 912 912 912 912 912 913 913 913 913 913 913 913 913 913 913 913 913 913 913 913 913 913 913 913 913 913 913 913 913 913 913 913 913 913 913 913 913 913 913 913 913 913 913 913 913 913 913 913 914 914 914 914 914 914 914 914 914 914 914 914 914 914 914 914 914 914 914 914 914 914 914 914 914 914 914 914 915 915 915 915 915 915 915 915 915 915 915 915 915 915 915 915 915 915 915 915 915 915 915 915 915 915 915 915 915 915 915 915 915 915 915 915 915 915 915 915 915 915 915 915 915 915 915 915 915 915 915 915 915 915 915 915 915 915 915 915 915 915 915 915 915 915 915 915 916 916 916 916 916 916 916 916 916 916 916 916 916 916 916 916 916 916 916 916 916 916 916 916 916 916 916 916 916 916 916 916 916 916 916 916 916 916 916 916 916 917 917 917 917 917 917 917 917 917 917 917 917 917 917 917 917 917 917 917 917 917 917 917 917 917 917 917 917 917 917 917 917 917 917 917 917 917 917 917 917 917 917 917 917 917 917 917 917 917 917 917 917 917 917 917 917 917 917 917 917 917 917 917 917 917 917 917 917 917 917 917 918 918 918 918 918 918 918 918 918 918 918 918 918 918 918 919 919 919 919 919 919 919 919 919 919 919 919 919 919 919 919 919 919 919 919 919 919 919 919 919 919 919 919 919 919 919 919 919 919 919 919 919 919 919 919 919 919 919 919 919 919 919 919 919 919 919 919 919 919 919 919 919 919 919 919 919 919 919 919 919 919 919 919 919 919 919 919 919 919 919 919 919 919 919 919 919 919 919 919 919 919 920 920 920 920 920 920 920 920 920 920 920 920 920 920 920 920 920 920 920 920 920 920 920 920 920 920 920 920 920 920 920 921 921 921 921 921 921 921 921 921 921 921 921 921 921 921 921 921 921 921 921 921 921 921 921 921 921 921 921 921 921 921 921 921 921 921 921 921 921 921 921 922 922 922 922 922 922 922 922 922 922 922 922 922 922 922 922 922 922 922 922 922 922 922 922 922 922 922 922 922 922 922 922 922 922 922 922 922 922 922 922 922 922 922 922 922 922 922 922 922 922 922 922 922 922 922 923 923 923 923 923 923 923 923 923 923 923 923 923 923 923 923 923 923 923 923 923 923 923 923 923 923 923 923 923 923 923 923 923 923 923 923 923 923 923 923 924 924 924 924 924 924 924 924 924 924 924 924 924 924 924 924 924 924 924 924 924 924 924 924 924 924 924 924 924 924 924 924 924 924 924 924 924 924 924 924 924 924 924 924 924 924 924 924 924 924 924 924 924 924 924 924 924 924 924 924 924 924 924 924 924 924 924 924 924 924 925 925 925 925 925 925 925 925 925 925 925 925 925 925 925 925 925 925 925 925 925 925 925 925 925 925 925 925 926 926 926 926 926 926 926 926 926 926 926 926 926 926 926 926 926 926 926 926 926 926 926 926 926 926 926 926 926 926 926 926 926 926 926 926 926 926 926 926 926 926 926 926 926 926 926 926 926 926 926 926 926 926 926 927 927 927 927 927 927 927 927 927 927 927 927 927 927 927 927 927 927 927 927 927 927 927 927 927 927 927 927 927 927 927 927 927 927 927 927 927 927 927 928 928 928 928 928 928 928 928 928 928 928 928 928 928 928 928 928 928 928 928 928 928 928 928 928 928 928 928 928 928 928 928 928 928 928 928 928 928 928 928 928 928 928 928 928 928 928 928 928 928 928 928 928 928 928 928 928 928 928 928 928 928 928 928 928 928 928 928 928 928 929 929 929 929 929 929 929 929 929 929 929 929 929 929 929 929 929 929 929 929 929 929 929 929 929 929 929 929 929 929 929 929 929 929 929 929 929 929 930 930 930 930 930 930 930 930 930 930 930 930 930 930 930 930 930 930 930 930 930 930 930 930 930 930 930 930 930 931 931 931 931 931 931 931 931 931 931 931 931 931 931 931 931 931 931 931 931 931 931 931 931 931 931 931 931 931 931 931 931 931 931 931 931 931 931 931 931 931 931 931 931 931 931 931 931 931 931 931 931 931 931 931 931 931 931 931 931 931 931 931 931 931 931 931 931 931 931 931 931 931 931 931 931 931 931 931 931 931 931 931 931 931 931 931 932 932 932 932 932 932 932 932 932 932 932 932 932 932 932 932 932 932 932 932 932 932 932 932 932 932 932 932 932 932 932 932 932 932 932 932 933 933 933 933 933 933 933 933 933 933 933 933 933 933 933 933 933 933 933 933 933 933 933 933 933 933 933 933 933 933 933 933 933 933 933 933 933 933 933 933 933 933 933 933 934 934 934 934 934 934 934 934 934 934 934 934 934 934 934 934 934 934 934 934 934 934 934 934 934 934 934 934 934 934 934 934 934 934 934 934 935 935 935 935 935 935 935 935 935 935 935 935 935 935 935 935 935 935 935 935 935 935 935 935 935 935 935 935 935 935 935 935 935 935 935 935 935 935 935 935 935 935 935 935 935 935 935 935 935 935 935 935 935 935 935 935 935 935 935 935 935 935 935 935 935 935 935 935 936 936 936 936 936 936 936 936 936 936 936 936 936 936 936 936 936 936 936 936 936 936 936 936 936 936 936 936 936 936 936 936 936 936 936 936 936 936 936 936 936 936 937 937 937 937 937 937 937 937 937 937 937 937 937 937 937 937 937 937 937 937 937 937 937 937 937 937 937 937 937 937 937 937 938 938 938 938 938 938 938 938 938 938 938 938 938 938 938 938 938 938 938 938 938 938 938 938 938 938 938 938 938 938 938 938 938 938 938 938 938 938 938 938 938 938 938 938 938 938 938 938 938 938 938 938 938 938 938 938 938 938 938 938 938 938 938 938 938 938 938 938 938 938 938 938 938 938 938 938 938 938 938 938 938 938 938 938 938 938 938 938 938 938 938 938 938 938 938 938 938 938 939 939 939 939 939 939 939 939 939 939 939 939 939 939 939 939 939 939 939 939 939 939 939 939 939 939 939 940 940 940 940 940 940 940 940 940 940 940 940 940 940 940 940 940 940 940 940 940 940 940 940 940 940 940 940 940 940 940 940 940 940 940 940 940 940 940 940 940 940 940 940 940 940 940 940 941 941 941 941 941 941 941 941 941 941 941 941 941 941 941 941 941 941 941 941 941 941 941 941 941 941 941 941 941 941 941 941 941 941 941 942 942 942 942 942 942 942 942 942 942 942 942 942 942 942 942 942 942 942 942 942 942 942 942 942 942 942 942 942 942 942 942 942 942 942 942 942 942 942 942 942 942 942 942 942 943 943 943 943 943 943 943 943 943 943 943 943 943 943 943 943 943 943 943 943 943 943 943 943 943 943 943 943 943 943 943 943 943 943 943 943 943 943 943 943 943 943 943 943 943 943 943 943 943 943 943 944 944 944 944 944 944 944 944 944 944 944 944 944 944 944 944 944 944 944 944 944 944 944 944 944 944 944 945 945 945 945 945 945 945 945 945 945 945 945 945 945 945 945 945 945 945 945 945 945 945 945 945 945 945 945 945 945 945 945 945 945 945 945 945 945 945 945 945 945 945 945 945 945 945 945 945 945 945 945 945 945 945 945 945 945 945 945 945 945 945 945 945 945 945 945 945 945 945 945 945 945 945 945 945 945 945 945 945 945 945 945 945 945 945 945 945 945 946 946 946 946 946 946 946 946 946 946 946 946 946 946 946 946 946 946 946 946 946 946 946 946 946 946 946 946 946 946 946 946 946 946 946 946 946 946 946 947 947 947 947 947 947 947 947 947 947 947 947 947 947 947 947 947 947 947 947 947 947 947 947 947 947 947 947 947 947 947 947 947 947 947 947 947 947 947 947 947 947 947 947 947 947 947 947 947 947 947 947 947 947 947 947 947 947 947 947 947 947 947 947 947 947 947 947 947 947 947 947 947 947 947 947 947 947 947 947 947 947 947 947 947 947 947 947 947 947 947 947 947 948 948 948 948 948 948 948 948 948 948 948 948 948 948 948 948 948 948 948 948 948 948 948 948 948 948 948 948 948 949 949 949 949 949 949 949 949 949 949 949 949 949 949 949 949 949 949 949 949 949 949 949 949 949 949 949 949 950 950 950 950 950 950 950 950 950 950 950 950 950 950 950 950 950 950 950 950 950 950 950 950 950 950 950 950 950 950 950 950 950 950 950 950 950 950 950 950 950 950 950 950 950 950 950 950 950 950 950 950 950 950 951 951 951 951 951 951 951 951 951 951 951 951 951 951 951 951 951 951 951 951 951 951 951 951 951 951 951 951 951 951 951 951 951 951 951 951 952 952 952 952 952 952 952 952 952 952 952 952 952 952 952 952 952 952 952 952 952 952 952 952 952 952 952 952 952 952 952 952 952 952 952 952 952 952 952 952 952 952 952 952 952 953 953 953 953 953 953 953 953 953 953 953 953 953 953 953 953 953 953 953 953 953 953 953 953 953 953 953 953 953 953 953 953 953 953 953 953 953 953 953 953 954 954 954 954 954 954 954 954 954 954 954 954 954 954 954 954 954 954 954 954 954 954 954 954 954 954 954 954 954 954 954 954 954 954 954 954 954 954 954 954 954 954 954 954 954 954 954 954 954 954 954 954 954 954 954 954 954 954 954 954 954 954 954 954 954 954 954 954 954 954 954 954 954 954 954 954 954 954 954 954 954 954 954 954 954 954 954 954 954 954 954 954 954 954 954 954 954 954 954 955 955 955 955 955 955 955 955 955 955 955 955 955 955 955 955 955 955 955 955 955 955 955 955 955 955 955 955 955 955 955 955 956 956 956 956 956 956 956 956 956 956 956 956 956 956 956 956 956 956 956 956 956 956 956 956 956 956 956 956 956 956 956 956 956 956 956 956 956 956 956 956 956 956 956 956 956 956 956 956 956 956 957 957 957 957 957 957 957 957 957 957 957 957 957 957 957 957 957 957 957 957 957 957 957 957 957 957 957 957 957 957 957 957 957 957 957 957 957 957 957 957 957 957 957 957 957 957 957 957 957 957 957 957 957 957 957 957 958 958 958 958 958 958 958 958 958 958 958 958 958 958 958 958 958 958 958 958 958 958 958 958 958 958 958 958 958 958 958 958 958 958 958 958 958 959 959 959 959 959 959 959 959 959 959 959 959 959 959 959 959 959 959 959 959 959 959 959 959 959 959 959 959 959 960 960 960 960 960 960 960 960 960 960 960 960 960 960 960 960 960 960 960 960 960 960 960 960 960 960 960 960 960 960 960 960 960 960 960 960 960 960 960 960 960 961 961 961 961 961 961 961 961 961 961 961 961 961 961 961 961 961 961 961 961 961 961 961 961 961 961 961 961 961 961 961 961 961 961 961 961 961 961 961 961 961 961 961 961 961 961 961 961 961 961 961 961 961 961 961 961 961 961 961 961 961 961 961 961 961 961 961 961 961 961 961 961 961 961 961 961 961 961 961 961 961 961 961 961 961 962 962 962 962 962 962 962 962 962 962 962 962 962 962 962 962 962 962 962 962 962 962 962 962 962 962 962 962 962 962 962 962 962 962 962 962 962 963 963 963 963 963 963 963 963 963 963 963 963 963 963 963 963 963 963 963 963 963 963 963 963 963 963 963 963 963 963 963 963 963 963 963 963 963 963 963 963 963 963 963 963 963 963 963 963 963 964 964 964 964 964 964 964 964 964 964 964 964 964 964 964 964 964 964 964 964 964 964 964 964 964 964 964 964 964 964 964 964 964 964 964 964 964 964 964 964 964 964 964 964 964 964 964 964 964 964 964 964 964 964 964 964 964 965 965 965 965 965 965 965 965 965 965 965 965 965 965 965 965 965 965 965 965 965 965 965 965 965 965 965 965 965 965 965 965 965 965 965 965 965 965 965 965 965 965 965 966 966 966 966 966 966 966 966 966 966 966 966 966 966 966 966 966 966 966 966 966 966 966 966 966 966 966 966 966 966 966 966 966 966 966 966 966 966 966 966 966 966 966 966 966 966 966 966 966 966 966 966 966 966 966 966 966 966 966 967 967 967 967 967 967 967 967 967 967 967 967 967 967 967 967 967 967 967 967 967 967 967 967 967 967 967 967 967 967 967 967 967 967 967 967 968 968 968 968 968 968 968 968 968 968 968 968 968 968 968 968 968 968 968 968 968 968 968 968 968 968 968 968 968 968 968 968 968 968 968 968 968 968 969 969 969 969 969 969 969 969 969 969 969 969 969 969 969 969 969 969 969 969 969 969 969 969 969 969 969 969 969 969 969 969 969 969 969 969 969 969 969 969 969 969 969 969 969 969 969 969 969 969 969 969 969 969 969 969 969 969 969 969 969 969 969 969 969 969 970 970 970 970 970 970 970 970 970 970 970 970 970 970 970 970 970 970 970 970 970 970 970 970 970 970 970 970 970 970 970 970 970 970 970 970 970 970 970 970 970 970 970 970 970 970 970 970 970 970 970 970 970 970 970 970 970 971 971 971 971 971 971 971 971 971 971 971 971 971 971 971 971 971 971 971 971 971 971 971 971 971 971 971 971 971 971 971 971 971 971 971 972 972 972 972 972 972 972 972 972 972 972 972 972 972 972 972 972 972 972 972 972 972 972 972 972 972 972 972 972 972 972 972 972 972 972 972 972 972 972 972 972 972 972 972 972 972 972 972 973 973 973 973 973 973 973 973 973 973 973 973 973 973 973 973 973 973 973 973 973 973 973 973 973 973 973 973 973 973 973 973 973 973 973 973 973 973 973 973 973 973 973 973 973 973 973 973 973 973 973 973 973 973 973 973 973 973 973 973 973 973 973 973 973 973 973 973 973 974 974 974 974 974 974 974 974 974 974 974 974 974 974 974 974 974 974 974 974 974 974 974 974 974 974 974 974 974 974 974 974 974 974 974 975 975 975 975 975 975 975 975 975 975 975 975 975 975 975 975 975 975 975 975 975 975 975 975 975 975 975 975 975 975 975 975 975 975 975 976 976 976 976 976 976 976 976 976 976 976 976 976 976 976 976 976 976 976 976 976 976 976 976 976 976 976 976 976 976 976 976 976 976 976 976 976 976 976 976 976 976 976 976 976 976 976 976 976 976 976 976 976 976 976 976 976 976 976 976 976 976 976 976 976 976 976 976 976 977 977 977 977 977 977 977 977 977 977 977 977 977 977 977 977 977 977 977 977 977 977 977 977 977 977 977 977 977 977 977 977 977 977 977 977 977 977 977 977 977 977 977 977 977 977 977 977 978 978 978 978 978 978 978 978 978 978 978 978 978 978 978 978 978 978 978 978 978 978 978 978 978 978 978 978 978 978 978 978 978 978 978 979 979 979 979 979 979 979 979 979 979 979 979 979 979 979 979 979 979 979 979 979 979 979 979 979 979 979 979 979 979 979 979 979 979 979 979 979 979 979 979 979 979 979 979 979 979 979 979 979 979 979 979 979 979 979 979 979 980 980 980 980 980 980 980 980 980 980 980 980 980 980 980 980 980 980 980 980 980 980 980 980 980 980 980 980 980 980 980 980 980 980 980 980 980 980 980 980 980 980 980 980 980 980 980 980 980 980 980 980 980 980 980 980 980 980 980 980 980 980 980 980 980 980 981 981 981 981 981 981 981 981 981 981 981 981 981 981 981 981 981 981 981 981 981 981 981 981 981 981 981 981 981 981 981 981 981 981 981 981 981 981 982 982 982 982 982 982 982 982 982 982 982 982 982 982 982 982 982 982 982 982 982 982 982 982 982 982 982 982 982 982 982 982 982 982 982 982 983 983 983 983 983 983 983 983 983 983 983 983 983 983 983 983 983 983 983 983 983 983 983 983 983 983 983 983 983 983 983 983 983 983 983 983 983 983 983 983 983 983 983 983 983 983 983 983 983 983 983 983 983 983 983 983 983 983 983 984 984 984 984 984 984 984 984 984 984 984 984 984 984 984 984 984 984 984 984 984 984 984 984 984 984 984 984 984 984 984 984 984 984 984 984 984 984 984 984 984 984 984 985 985 985 985 985 985 985 985 985 985 985 985 985 985 985 985 985 985 985 985 985 985 985 985 985 985 985 985 985 985 985 985 985 985 985 985 985 985 985 985 985 985 985 985 985 985 985 985 985 985 985 985 985 985 985 985 985 986 986 986 986 986 986 986 986 986 986 986 986 986 986 986 986 986 986 986 986 986 986 986 986 986 986 986 986 986 986 986 986 986 986 986 986 986 986 986 986 986 986 986 986 986 986 986 986 986 987 987 987 987 987 987 987 987 987 987 987 987 987 987 987 987 987 987 987 987 987 987 987 987 987 987 987 987 987 987 987 987 987 987 987 987 987 988 988 988 988 988 988 988 988 988 988 988 988 988 988 988 988 988 988 988 988 988 988 988 988 988 988 988 988 988 988 988 988 988 988 988 988 988 988 988 988 988 988 988 988 988 988 988 988 988 988 988 988 988 988 988 988 988 988 988 988 988 988 988 988 988 988 988 988 988 988 988 988 988 988 988 988 988 988 988 988 988 988 988 988 988 989 989 989 989 989 989 989 989 989 989 989 989 989 989 989 989 989 989 989 989 989 989 989 989 989 989 989 989 989 989 989 989 989 989 989 989 989 989 989 989 989 990 990 990 990 990 990 990 990 990 990 990 990 990 990 990 990 990 990 990 990 990 990 990 990 990 990 990 990 990 991 991 991 991 991 991 991 991 991 991 991 991 991 991 991 991 991 991 991 991 991 991 991 991 991 991 991 991 991 991 991 991 991 991 991 991 991 992 992 992 992 992 992 992 992 992 992 992 992 992 992 992 992 992 992 992 992 992 992 992 992 992 992 992 992 992 992 992 992 992 992 992 992 992 992 992 992 992 992 992 992 992 992 992 992 992 992 992 992 992 992 992 992 993 993 993 993 993 993 993 993 993 993 993 993 993 993 993 993 993 993 993 993 993 993 993 993 993 993 993 993 993 993 993 993 993 993 993 993 993 993 993 993 993 993 993 993 993 993 993 993 993 993 994 994 994 994 994 994 994 994 994 994 994 994 994 994 994 994 994 994 994 994 994 994 994 994 994 994 994 994 994 994 994 994 995 995 995 995 995 995 995 995 995 995 995 995 995 995 995 995 995 995 995 995 995 995 995 995 995 995 995 995 995 995 995 995 995 995 995 995 995 995 995 995 995 995 995 995 995 995 995 995 995 995 995 995 995 995 995 995 995 995 995 995 995 995 995 995 995 995 995 995 995 995 995 995 995 995 995 995 995 995 995 995 995 995 995 995 995 995 995 995 995 995 995 995 995 995 995 995 995 995 995 996 996 996 996 996 996 996 996 996 996 996 996 996 996 996 996 996 996 996 996 996 996 996 996 996 996 996 996 996 996 996 996 996 996 996 996 996 996 996 996 997 997 997 997 997 997 997 997 997 997 997 997 997 997 997 997 997 997 997 997 997 997 997 997 997 997 997 997 997 997 997 997 997 997 997 997 997 997 997 997 997 997 997 997 997 998 998 998 998 998 998 998 998 998 998 998 998 998 998 998 998 998 998 998 998 998 998 998 998 998 998 998 998 998 998 998 998 998 998 998 998 999 999 999 999 999 999 999 999 999 999 999 999 999 999 999 999 999 999 999 999 999 999 999 999 999 999 999 999 999 999 999 999 999 999 999 999 999 999 999 999 999 999 999 999 999 999 999 999 999 999 999 999 999 999 1000 1000 1000 1000 1000 1000 1000 1000 1000 1000 1000 1000 1000 1000 1000 1000 1000 1000 1000 1000 1000 1000 1000 1000 1000 1000 1000 1000 1001 1001 1001 1001 1001 1001 1001 1001 1001 1001 1001 1001 1001 1001 1001 1001 1001 1001 1001 1001 1001 1001 1001 1001 1001 1001 1001 1001 1001 1002 1002 1002 1002 1002 1002 1002 1002 1002 1002 1002 1002 1002 1002 1002 1002 1002 1002 1002 1002 1002 1002 1002 1002 1002 1002 1002 1002 1002 1002 1002 1002 1002 1002 1002 1002 1002 1002 1002 1002 1002 1002 1002 1002 1002 1002 1002 1002 1002 1002 1002 1002 1002 1002 1002 1002 1002 1002 1002 1002 1002 1002 1002 1002 1002 1002 1002 1002 1002 1002 1002 1002 1002 1002 1002 1002 1002 1002 1002 1002 1002 1002 1002 1002 1002 1002 1002 1002 1002 1002 1002 1002 1002 1003 1003 1003 1003 1003 1003 1003 1003 1003 1003 1003 1003 1003 1003 1003 1003 1003 1003 1003 1003 1003 1003 1003 1003 1003 1003 1003 1003 1003 1003 1003 1003 1003 1003 1003 1003 1003 1003 1003 1004 1004 1004 1004 1004 1004 1004 1004 1004 1004 1004 1004 1004 1004 1004 1004 1004 1004 1004 1004 1004 1004 1004 1004 1004 1004 1004 1004 1004 1004 1004 1004 1004 1004 1004 1004 1004 1004 1004 1004 1004 1004 1004 1004 1004 1004 1004 1004 1004 1004 1004 1004 1004 1004 1004 1004 1004 1004 1004 1004 1004 1004 1004 1004 1004 1004 1004 1004 1004 1004 1004 1004 1004 1004 1004 1004 1004 1004 1004 1004 1004 1004 1004 1004 1004 1004 1004 1004 1004 1004 1005 1005 1005 1005 1005 1005 1005 1005 1005 1005 1005 1005 1005 1005 1005 1005 1005 1005 1005 1005 1005 1005 1005 1005 1005 1005 1005 1006 1006 1006 1006 1006 1006 1006 1006 1006 1006 1006 1006 1006 1006 1006 1006 1006 1006 1006 1006 1006 1006 1006 1006 1006 1006 1006 1006 1006 1006 1006 1006 1006 1006 1006 1006 1006 1006 1006 1006 1006 1006 1006 1006 1006 1006 1006 1006 1006 1006 1006 1007 1007 1007 1007 1007 1007 1007 1007 1007 1007 1007 1007 1007 1007 1007 1007 1007 1007 1007 1007 1007 1007 1007 1007 1007 1007 1007 1007 1007 1007 1007 1007 1007 1007 1007 1007 1007 1007 1007 1007 1007 1007 1007 1007 1007 1008 1008 1008 1008 1008 1008 1008 1008 1008 1008 1008 1008 1008 1008 1008 1008 1008 1008 1008 1008 1008 1008 1008 1008 1008 1008 1008 1008 1008 1008 1008 1008 1008 1008 1008 1009 1009 1009 1009 1009 1009 1009 1009 1009 1009 1009 1009 1009 1009 1009 1009 1009 1009 1009 1009 1009 1009 1009 1009 1009 1009 1009 1009 1009 1009 1009 1009 1009 1009 1009 1009 1009 1009 1009 1009 1009 1009 1009 1009 1009 1009 1009 1009 1010 1010 1010 1010 1010 1010 1010 1010 1010 1010 1010 1010 1010 1010 1010 1010 1010 1010 1010 1010 1010 1010 1010 1010 1010 1010 1010 1011 1011 1011 1011 1011 1011 1011 1011 1011 1011 1011 1011 1011 1011 1011 1011 1011 1011 1011 1011 1011 1011 1011 1011 1011 1011 1011 1011 1011 1011 1011 1011 1011 1011 1011 1011 1011 1011 1011 1011 1011 1011 1011 1011 1011 1011 1011 1011 1011 1011 1011 1011 1011 1011 1011 1011 1011 1011 1011 1011 1011 1011 1011 1011 1011 1011 1011 1011 1011 1011 1011 1011 1011 1011 1011 1011 1011 1011 1011 1011 1011 1011 1011 1011 1011 1011 1011 1011 1011 1011 1011 1011 1011 1011 1011 1011 1011 1011 1012 1012 1012 1012 1012 1012 1012 1012 1012 1012 1012 1012 1012 1012 1012 1012 1012 1012 1012 1012 1012 1012 1012 1012 1012 1012 1012 1012 1012 1012 1012 1012 1013 1013 1013 1013 1013 1013 1013 1013 1013 1013 1013 1013 1013 1013 1013 1013 1013 1013 1013 1013 1013 1013 1013 1013 1013 1013 1013 1013 1013 1013 1013 1013 1013 1013 1013 1013 1013 1013 1013 1013 1013 1013 1014 1014 1014 1014 1014 1014 1014 1014 1014 1014 1014 1014 1014 1014 1014 1014 1014 1014 1014 1014 1014 1014 1014 1014 1014 1014 1014 1014 1014 1014 1014 1014 1014 1014 1014 1014 1014 1014 1014 1014 1014 1014 1014 1014 1014 1014 1014 1014 1014 1014 1014 1014 1014 1014 1014 1014 1014 1014 1014 1014 1014 1014 1014 1014 1014 1014 1014 1014 1015 1015 1015 1015 1015 1015 1015 1015 1015 1015 1015 1015 1015 1015 1015 1015 1015 1015 1015 1015 1015 1015 1015 1015 1015 1015 1015 1015 1015 1015 1015 1015 1015 1015 1015 1015 1016 1016 1016 1016 1016 1016 1016 1016 1016 1016 1016 1016 1016 1016 1016 1016 1016 1016 1016 1016 1016 1016 1016 1016 1016 1016 1016 1016 1016 1016 1016 1016 1016 1016 1016 1016 1016 1016 1016 1016 1016 1016 1016 1016 1017 1017 1017 1017 1017 1017 1017 1017 1017 1017 1017 1017 1017 1017 1017 1017 1017 1017 1017 1017 1017 1017 1017 1017 1017 1017 1017 1017 1017 1017 1017 1017 1017 1017 1017 1017 1018 1018 1018 1018 1018 1018 1018 1018 1018 1018 1018 1018 1018 1018 1018 1018 1018 1018 1018 1018 1018 1018 1018 1018 1018 1018 1018 1018 1018 1018 1018 1018 1018 1018 1018 1018 1018 1018 1018 1018 1018 1018 1018 1018 1018 1018 1018 1018 1018 1018 1018 1018 1018 1018 1018 1018 1018 1018 1018 1018 1018 1018 1018 1018 1018 1018 1018 1018 1018 1018 1018 1018 1018 1018 1018 1018 1018 1018 1018 1018 1018 1018 1018 1018 1018 1018 1018 1019 1019 1019 1019 1019 1019 1019 1019 1019 1019 1019 1019 1019 1019 1019 1019 1019 1019 1019 1019 1019 1019 1019 1019 1019 1019 1019 1019 1019 1020 1020 1020 1020 1020 1020 1020 1020 1020 1020 1020 1020 1020 1020 1020 1020 1020 1020 1020 1020 1020 1020 1020 1020 1020 1020 1020 1020 1020 1020 1020 1020 1020 1020 1020 1020 1020 1020 1021 1021 1021 1021 1021 1021 1021 1021 1021 1021 1021 1021 1021 1021 1021 1021 1021 1021 1021 1021 1021 1021 1021 1021 1021 1021 1021 1021 1021 1021 1021 1021 1021 1021 1021 1021 1021 1021 1021 1021 1021 1021 1021 1021 1021 1021 1021 1021 1021 1021 1021 1021 1021 1021 1021 1021 1021 1021 1021 1021 1021 1021 1021 1021 1021 1021 1021 1021 1021 1021 1022 1022 1022 1022 1022 1022 1022 1022 1022 1022 1022 1022 1022 1022 1022 1022 1022 1022 1022 1022 1022 1022 1022 1022 1022 1022 1022 1022 1022 1022 1022 1022 1022 1022 1022 1022 1022 1022 1022 1023 1023 1023 1023 1023 1023 1023 1023 1023 1023 1023 1023 1023 1023 1023 1023 1023 1023 1023 1023 1023 1023 1023 1023 1023 1023 1023 1023 1023 1023 1023 1023 1023 1023 1023 1023 1023 1023 1023 1023 1023 1023 1023 1023 1023 1023 1023 1023 1023 1023 1023 1023 1023 1023 1023 1024 1024 1024 1024 1024 1024 1024 1024 1024 1024 1024 1024 1024 1024 1024 1024 1024 1024 1024 1024 1024 1024 1024 1024 1024 1024 1024 1024 1025 1025 1025 1025 1025 1025 1025 1025 1025 1025 1025 1025 1025 1025 1025 1025 1025 1025 1025 1025 1025 1025 1025 1025 1025 1025 1025 1025 1025 1025 1025 1025 1025 1025 1025 1025 1025 1025 1025 1025 1025 1025 1025 1025 1025 1025 1025 1025 1025 1025 1025 1025 1025 1025 1025 1025 1025 1025 1025 1025 1025 1025 1025 1025 1025 1025 1025 1025 1025 1025 1026 1026 1026 1026 1026 1026 1026 1026 1026 1026 1026 1026 1026 1026 1026 1026 1026 1026 1026 1026 1026 1026 1026 1026 1026 1026 1026 1026 1026 1026 1026 1026 1026 1026 1026 1026 1026 1026 1026 1026 1027 1027 1027 1027 1027 1027 1027 1027 1027 1027 1027 1027 1027 1027 1027 1027 1027 1027 1027 1027 1027 1027 1027 1027 1027 1027 1027 1027 1027 1027 1027 1027 1027 1027 1027 1027 1027 1027 1027 1027 1027 1027 1027 1027 1027 1027 1027 1027 1027 1027 1027 1027 1027 1027 1027 1028 1028 1028 1028 1028 1028 1028 1028 1028 1028 1028 1028 1028 1028 1028 1028 1028 1028 1028 1028 1028 1028 1028 1028 1028 1028 1028 1028 1028 1028 1028 1028 1028 1028 1028 1028 1028 1028 1028 1028 1029 1029 1029 1029 1029 1029 1029 1029 1029 1029 1029 1029 1029 1029 1029 1029 1029 1029 1029 1029 1029 1029 1029 1029 1029 1029 1029 1029 1029 1029 1029 1030 1030 1030 1030 1030 1030 1030 1030 1030 1030 1030 1030 1030 1030 1030 1030 1030 1030 1030 1030 1030 1030 1030 1030 1030 1030 1030 1030 1030 1030 1030 1030 1030 1030 1030 1030 1030 1030 1030 1030 1030 1030 1030 1030 1030 1030 1030 1030 1030 1030 1030 1030 1030 1030 1030 1030 1030 1030 1030 1030 1030 1030 1030 1030 1030 1030 1030 1030 1030 1030 1030 1030 1030 1030 1030 1030 1030 1030 1030 1030 1030 1030 1030 1030 1030 1030 1031 1031 1031 1031 1031 1031 1031 1031 1031 1031 1031 1031 1031 1031 1031 1032 1032 1032 1032 1032 1032 1032 1032 1032 1032 1032 1032 1032 1032 1032 1032 1032 1032 1032 1032 1032 1032 1032 1032 1032 1032 1032 1032 1032 1032 1032 1032 1032 1032 1032 1032 1032 1032 1032 1032 1032 1032 1032 1032 1032 1032 1032 1032 1032 1032 1032 1032 1032 1032 1032 1032 1032 1032 1032 1032 1032 1032 1032 1032 1032 1032 1032 1032 1032 1032 1032 1033 1033 1033 1033 1033 1033 1033 1033 1033 1033 1033 1033 1033 1033 1033 1033 1033 1033 1033 1033 1033 1033 1033 1033 1033 1033 1033 1033 1033 1033 1033 1033 1033 1033 1033 1033 1033 1033 1033 1033 1033 1034 1034 1034 1034 1034 1034 1034 1034 1034 1034 1034 1034 1034 1034 1034 1034 1034 1034 1034 1034 1034 1034 1034 1034 1034 1034 1034 1034 1034 1034 1034 1034 1034 1034 1034 1034 1034 1034 1034 1034 1034 1034 1034 1034 1034 1034 1034 1034 1034 1034 1034 1034 1034 1034 1034 1034 1034 1034 1034 1034 1034 1034 1034 1034 1034 1034 1034 1034 1035 1035 1035 1035 1035 1035 1035 1035 1035 1035 1035 1035 1035 1035 1035 1035 1035 1035 1035 1035 1035 1035 1035 1035 1035 1035 1035 1035 1036 1036 1036 1036 1036 1036 1036 1036 1036 1036 1036 1036 1036 1036 1036 1036 1036 1036 1036 1036 1036 1036 1036 1036 1036 1036 1036 1036 1036 1036 1036 1036 1036 1036 1036 1036 1036 1036 1036 1036 1036 1036 1036 1037 1037 1037 1037 1037 1037 1037 1037 1037 1037 1037 1037 1037 1037 1037 1037 1037 1037 1037 1037 1037 1037 1037 1037 1037 1037 1037 1037 1037 1037 1037 1037 1037 1037 1037 1037 1037 1037 1037 1037 1037 1037 1037 1037 1037 1037 1037 1037 1037 1037 1037 1037 1037 1037 1037 1037 1037 1037 1037 1037 1037 1037 1037 1037 1037 1037 1037 1037 1037 1037 1037 1037 1037 1037 1037 1037 1037 1037 1037 1037 1037 1037 1038 1038 1038 1038 1038 1038 1038 1038 1038 1038 1038 1038 1038 1038 1038 1038 1038 1038 1038 1038 1038 1038 1038 1038 1039 1039 1039 1039 1039 1039 1039 1039 1039 1039 1039 1039 1039 1039 1039 1039 1039 1039 1039 1039 1039 1039 1039 1039 1039 1039 1039 1039 1039 1039 1039 1039 1039 1039 1040 1040 1040 1040 1040 1040 1040 1040 1040 1040 1040 1040 1040 1040 1040 1040 1040 1040 1040 1040 1040 1040 1040 1040 1040 1040 1040 1040 1040 1040 1040 1040 1040 1040 1040 1040 1040 1040 1040 1040 1040 1040 1040 1040 1040 1040 1040 1040 1040 1041 1041 1041 1041 1041 1041 1041 1041 1041 1041 1041 1041 1041 1041 1041 1041 1041 1041 1041 1041 1041 1041 1041 1041 1041 1041 1041 1041 1041 1041 1041 1041 1041 1041 1041 1041 1041 1041 1041 1041 1041 1041 1041 1041 1041 1041 1041 1041 1041 1041 1041 1041 1041 1041 1041 1041 1041 1041 1041 1041 1041 1041 1041 1041 1041 1042 1042 1042 1042 1042 1042 1042 1042 1042 1042 1042 1042 1042 1042 1042 1042 1042 1042 1042 1042 1042 1042 1042 1042 1042 1042 1042 1042 1042 1042 1042 1042 1042 1042 1043 1043 1043 1043 1043 1043 1043 1043 1043 1043 1043 1043 1043 1043 1043 1043 1043 1043 1043 1043 1043 1043 1043 1043 1043 1043 1043 1043 1043 1043 1043 1043 1043 1043 1043 1043 1043 1043 1043 1043 1043 1043 1043 1043 1043 1043 1043 1043 1043 1043 1043 1044 1044 1044 1044 1044 1044 1044 1044 1044 1044 1044 1044 1044 1044 1044 1044 1044 1044 1044 1044 1044 1044 1044 1044 1044 1044 1044 1044 1044 1044 1044 1044 1044 1044 1044 1044 1044 1044 1044 1044 1044 1044 1044 1044 1044 1044 1044 1044 1044 1044 1044 1044 1044 1044 1044 1044 1044 1045 1045 1045 1045 1045 1045 1045 1045 1045 1045 1045 1045 1045 1045 1045 1045 1045 1045 1045 1045 1045 1045 1045 1045 1045 1045 1045 1045 1045 1045 1045 1045 1045 1045 1045 1045 1045 1045 1045 1045 1045 1045 1045 1045 1045 1045 1045 1045 1045 1045 1045 1045 1045 1045 1046 1046 1046 1046 1046 1046 1046 1046 1046 1046 1046 1046 1046 1046 1046 1046 1046 1046 1046 1046 1046 1046 1046 1046 1046 1046 1046 1046 1046 1046 1046 1046 1046 1046 1046 1046 1046 1046 1046 1046 1046 1046 1047 1047 1047 1047 1047 1047 1047 1047 1047 1047 1047 1047 1047 1047 1047 1047 1047 1047 1047 1047 1047 1047 1047 1047 1047 1047 1047 1047 1047 1047 1047 1047 1047 1047 1047 1047 1047 1047 1047 1047 1047 1047 1048 1048 1048 1048 1048 1048 1048 1048 1048 1048 1048 1048 1048 1048 1048 1048 1048 1048 1048 1048 1048 1048 1048 1048 1048 1048 1048 1048 1048 1048 1048 1048 1048 1048 1048 1048 1048 1048 1049 1049 1049 1049 1049 1049 1049 1049 1049 1049 1049 1049 1049 1049 1049 1049 1049 1049 1049 1049 1049 1049 1049 1049 1049 1049 1049 1049 1049 1049 1049 1049 1049 1049 1049 1049 1049 1049 1049 1049 1049 1049 1049 1049 1049 1049 1049 1050 1050 1050 1050 1050 1050 1050 1050 1050 1050 1050 1050 1050 1050 1050 1050 1050 1050 1050 1050 1050 1050 1050 1050 1050 1050 1050 1050 1050 1050 1050 1050 1050 1050 1050 1050 1050 1050 1050 1051 1051 1051 1051 1051 1051 1051 1051 1051 1051 1051 1051 1051 1051 1051 1051 1051 1051 1051 1051 1051 1051 1051 1051 1051 1051 1051 1051 1051 1051 1051 1051 1051 1051 1051 1051 1051 1051 1051 1051 1051 1051 1051 1051 1051 1051 1051 1051 1051 1051 1051 1051 1051 1051 1051 1052 1052 1052 1052 1052 1052 1052 1052 1052 1052 1052 1052 1052 1052 1052 1052 1052 1052 1052 1052 1052 1052 1052 1052 1052 1052 1052 1052 1052 1052 1052 1052 1052 1052 1052 1052 1052 1052 1052 1052 1052 1052 1052 1052 1052 1052 1052 1052 1052 1052 1052 1052 1052 1052 1052 1052 1052 1052 1052 1052 1052 1052 1053 1053 1053 1053 1053 1053 1053 1053 1053 1053 1053 1053 1053 1053 1053 1053 1053 1053 1053 1053 1053 1053 1053 1053 1053 1053 1053 1053 1053 1053 1053 1053 1053 1053 1053 1053 1053 1053 1053 1053 1053 1053 1053 1053 1053 1053 1053 1053 1053 1053 1053 1053 1053 1053 1053 1053 1053 1053 1053 1053 1053 1053 1054 1054 1054 1054 1054 1054 1054 1054 1054 1054 1054 1054 1054 1054 1054 1054 1054 1054 1054 1054 1054 1054 1054 1054 1054 1054 1054 1054 1054 1054 1054 1054 1054 1054 1054 1054 1054 1055 1055 1055 1055 1055 1055 1055 1055 1055 1055 1055 1055 1055 1055 1055 1055 1055 1055 1055 1055 1055 1055 1055 1055 1055 1055 1055 1056 1056 1056 1056 1056 1056 1056 1056 1056 1056 1056 1056 1056 1056 1056 1056 1056 1056 1056 1056 1056 1056 1056 1056 1056 1056 1056 1056 1056 1056 1056 1056 1056 1056 1056 1056 1056 1056 1056 1056 1056 1056 1056 1056 1056 1056 1056 1056 1056 1056 1056 1056 1056 1056 1056 1056 1056 1056 1056 1056 1056 1056 1056 1056 1056 1056 1056 1056 1056 1056 1056 1057 1057 1057 1057 1057 1057 1057 1057 1057 1057 1057 1057 1057 1057 1057 1057 1057 1057 1057 1057 1057 1057 1057 1057 1057 1057 1057 1057 1057 1058 1058 1058 1058 1058 1058 1058 1058 1058 1058 1058 1058 1058 1058 1058 1058 1058 1058 1058 1058 1058 1058 1059 1059 1059 1059 1059 1059 1059 1059 1059 1059 1059 1059 1059 1059 1059 1059 1059 1059 1059 1059 1059 1059 1059 1059 1059 1059 1059 1059 1059 1059 1059 1059 1059 1059 1059 1059 1059 1059 1059 1059 1059 1059 1059 1059 1059 1059 1059 1059 1059 1059 1059 1059 1059 1059 1059 1059 1059 1059 1059 1059 1059 1059 1060 1060 1060 1060 1060 1060 1060 1060 1060 1060 1060 1060 1060 1060 1060 1060 1060 1060 1060 1060 1060 1060 1060 1060 1060 1060 1060 1060 1060 1060 1060 1060 1060 1060 1060 1060 1060 1060 1060 1060 1060 1060 1060 1060 1060 1060 1060 1060 1060 1060 1060 1060 1060 1060 1060 1060 1060 1060 1060 1060 1060 1060 1060 1060 1060 1060 1060 1060 1060 1060 1060 1060 1060 1060 1061 1061 1061 1061 1061 1061 1061 1061 1061 1061 1061 1061 1061 1061 1061 1061 1061 1061 1061 1061 1061 1061 1061 1061 1061 1061 1061 1061 1061 1061 1061 1061 1061 1061 1061 1061 1061 1061 1061 1062 1062 1062 1062 1062 1062 1062 1062 1062 1062 1062 1062 1062 1062 1062 1062 1062 1062 1062 1062 1062 1062 1062 1062 1062 1062 1062 1062 1062 1062 1062 1062 1062 1062 1062 1062 1062 1062 1062 1062 1063 1063 1063 1063 1063 1063 1063 1063 1063 1063 1063 1063 1063 1063 1063 1063 1063 1063 1063 1063 1063 1063 1063 1063 1063 1063 1063 1063 1063 1063 1063 1063 1063 1063 1063 1063 1063 1063 1063 1063 1063 1063 1063 1063 1063 1063 1063 1063 1063 1064 1064 1064 1064 1064 1064 1064 1064 1064 1064 1064 1064 1064 1064 1064 1064 1064 1064 1064 1064 1064 1064 1064 1064 1064 1064 1064 1064 1064 1064 1064 1064 1064 1064 1064 1064 1064 1064 1064 1064 1064 1064 1064 1064 1064 1064 1065 1065 1065 1065 1065 1065 1065 1065 1065 1065 1065 1065 1065 1065 1065 1065 1065 1065 1065 1065 1065 1065 1065 1065 1065 1065 1065 1065 1065 1065 1065 1065 1065 1065 1066 1066 1066 1066 1066 1066 1066 1066 1066 1066 1066 1066 1066 1066 1066 1066 1066 1066 1066 1066 1066 1066 1066 1066 1066 1066 1066 1066 1066 1066 1066 1066 1066 1066 1066 1066 1066 1066 1066 1066 1066 1066 1066 1066 1066 1066 1066 1066 1066 1066 1066 1066 1066 1066 1066 1066 1066 1066 1066 1066 1066 1066 1066 1066 1066 1067 1067 1067 1067 1067 1067 1067 1067 1067 1067 1067 1067 1067 1067 1067 1067 1067 1067 1067 1067 1067 1067 1067 1067 1067 1067 1067 1067 1067 1067 1067 1067 1067 1067 1067 1067 1067 1067 1068 1068 1068 1068 1068 1068 1068 1068 1068 1068 1068 1068 1068 1068 1068 1068 1068 1068 1068 1068 1068 1068 1068 1068 1068 1068 1068 1068 1068 1068 1068 1068 1068 1068 1068 1068 1068 1068 1068 1068 1068 1068 1068 1068 1068 1068 1068 1068 1068 1068 1068 1068 1068 1068 1068 1069 1069 1069 1069 1069 1069 1069 1069 1069 1069 1069 1069 1069 1069 1069 1069 1069 1069 1069 1069 1069 1069 1069 1069 1069 1069 1069 1069 1069 1069 1069 1069 1069 1069 1069 1069 1069 1069 1069 1069 1069 1069 1069 1069 1070 1070 1070 1070 1070 1070 1070 1070 1070 1070 1070 1070 1070 1070 1070 1070 1070 1070 1070 1070 1070 1070 1070 1070 1070 1070 1070 1070 1070 1070 1070 1070 1070 1070 1070 1070 1070 1070 1070 1070 1071 1071 1071 1071 1071 1071 1071 1071 1071 1071 1071 1071 1071 1071 1071 1071 1071 1071 1071 1071 1071 1071 1071 1071 1071 1071 1071 1071 1071 1071 1071 1071 1071 1071 1071 1071 1071 1071 1071 1071 1071 1071 1071 1071 1071 1071 1071 1071 1071 1071 1072 1072 1072 1072 1072 1072 1072 1072 1072 1072 1072 1072 1072 1072 1072 1072 1072 1072 1072 1072 1072 1072 1072 1072 1072 1072 1072 1072 1072 1072 1072 1072 1072 1072 1072 1072 1072 1072 1072 1073 1073 1073 1073 1073 1073 1073 1073 1073 1073 1073 1073 1073 1073 1073 1073 1073 1073 1073 1073 1073 1073 1073 1073 1073 1073 1073 1073 1073 1073 1073 1073 1073 1073 1073 1073 1073 1073 1073 1073 1073 1073 1073 1073 1073 1073 1073 1073 1073 1073 1073 1073 1074 1074 1074 1074 1074 1074 1074 1074 1074 1074 1074 1074 1074 1074 1074 1074 1074 1074 1074 1075 1075 1075 1075 1075 1075 1075 1075 1075 1075 1075 1075 1075 1075 1075 1075 1075 1075 1075 1075 1075 1075 1075 1075 1075 1075 1075 1075 1075 1075 1075 1075 1075 1075 1075 1075 1075 1075 1075 1075 1075 1075 1075 1075 1075 1075 1075 1075 1075 1075 1075 1075 1075 1075 1075 1075 1075 1075 1075 1075 1075 1075 1075 1075 1075 1075 1075 1075 1075 1075 1075 1075 1075 1075 1075 1075 1075 1075 1075 1075 1075 1075 1075 1075 1075 1075 1075 1075 1075 1075 1075 1075 1075 1075 1075 1075 1075 1075 1075 1075 1075 1075 1075 1075 1075 1076 1076 1076 1076 1076 1076 1076 1076 1076 1076 1076 1076 1076 1076 1076 1076 1076 1076 1076 1076 1076 1076 1076 1076 1076 1076 1076 1077 1077 1077 1077 1077 1077 1077 1077 1077 1077 1077 1077 1077 1077 1077 1077 1077 1077 1077 1077 1077 1077 1077 1078 1078 1078 1078 1078 1078 1078 1078 1078 1078 1078 1078 1078 1078 1078 1078 1078 1078 1078 1078 1078 1078 1078 1078 1078 1078 1078 1078 1078 1078 1078 1078 1078 1078 1078 1078 1078 1078 1078 1078 1078 1078 1078 1078 1078 1078 1078 1078 1078 1078 1078 1078 1078 1079 1079 1079 1079 1079 1079 1079 1079 1079 1079 1079 1079 1079 1079 1079 1079 1079 1079 1079 1079 1079 1079 1079 1079 1079 1079 1079 1079 1079 1079 1079 1079 1079 1079 1079 1079 1079 1079 1079 1079 1079 1079 1079 1079 1079 1079 1079 1079 1079 1079 1080 1080 1080 1080 1080 1080 1080 1080 1080 1080 1080 1080 1080 1080 1080 1080 1080 1080 1080 1080 1080 1080 1080 1080 1080 1080 1080 1080 1080 1080 1080 1080 1080 1080 1080 1080 1080 1080 1080 1080 1080 1080 1080 1080 1080 1080 1080 1080 1080 1080 1080 1081 1081 1081 1081 1081 1081 1081 1081 1081 1081 1081 1081 1081 1081 1081 1081 1081 1082 1082 1082 1082 1082 1082 1082 1082 1082 1082 1082 1082 1082 1082 1082 1082 1082 1082 1082 1082 1082 1082 1082 1082 1082 1082 1082 1082 1082 1082 1082 1082 1082 1082 1082 1082 1082 1082 1082 1082 1082 1082 1082 1082 1082 1082 1082 1082 1082 1082 1082 1082 1082 1082 1082 1082 1082 1082 1082 1082 1082 1082 1082 1082 1082 1082 1082 1082 1082 1082 1082 1082 1082 1082 1082 1082 1082 1082 1082 1082 1082 1082 1082 1082 1082 1082 1082 1082 1082 1082 1082 1082 1082 1082 1082 1082 1083 1083 1083 1083 1083 1083 1083 1083 1083 1083 1083 1083 1083 1083 1083 1083 1083 1083 1083 1083 1083 1083 1083 1083 1083 1083 1083 1084 1084 1084 1084 1084 1084 1084 1084 1084 1084 1084 1084 1084 1084 1084 1084 1084 1084 1084 1084 1084 1084 1084 1084 1084 1084 1084 1084 1084 1084 1084 1084 1084 1084 1084 1084 1084 1084 1084 1084 1084 1084 1084 1084 1084 1084 1084 1084 1084 1084 1085 1085 1085 1085 1085 1085 1085 1085 1085 1085 1085 1085 1085 1085 1085 1085 1085 1085 1085 1085 1085 1085 1085 1085 1085 1085 1085 1085 1085 1085 1085 1085 1085 1085 1085 1085 1085 1085 1085 1085 1085 1085 1085 1085 1085 1085 1085 1085 1085 1085 1086 1086 1086 1086 1086 1086 1086 1086 1086 1086 1086 1086 1086 1086 1086 1086 1086 1086 1086 1086 1086 1086 1086 1086 1086 1086 1086 1086 1086 1086 1087 1087 1087 1087 1087 1087 1087 1087 1087 1087 1087 1087 1087 1087 1087 1087 1087 1087 1087 1087 1087 1087 1087 1087 1087 1087 1087 1087 1087 1087 1087 1087 1087 1087 1087 1087 1087 1087 1087 1087 1087 1087 1088 1088 1088 1088 1088 1088 1088 1088 1088 1088 1088 1088 1088 1088 1088 1088 1088 1088 1088 1088 1088 1088 1088 1088 1088 1088 1088 1088 1088 1089 1089 1089 1089 1089 1089 1089 1089 1089 1089 1089 1089 1089 1089 1089 1089 1089 1089 1089 1089 1089 1089 1089 1089 1089 1089 1089 1089 1089 1089 1089 1089 1089 1089 1089 1089 1089 1089 1089 1089 1089 1089 1089 1089 1089 1089 1089 1089 1089 1089 1089 1089 1089 1089 1089 1089 1089 1089 1089 1089 1089 1089 1089 1090 1090 1090 1090 1090 1090 1090 1090 1090 1090 1090 1090 1090 1090 1090 1090 1090 1090 1090 1090 1090 1090 1090 1090 1090 1090 1090 1090 1090 1090 1090 1090 1090 1090 1090 1090 1091 1091 1091 1091 1091 1091 1091 1091 1091 1091 1091 1091 1091 1091 1091 1091 1091 1091 1091 1091 1091 1091 1091 1091 1091 1091 1091 1091 1091 1091 1091 1091 1091 1091 1091 1091 1091 1091 1091 1091 1091 1091 1091 1091 1091 1091 1091 1091 1091 1091 1091 1091 1091 1091 1091 1091 1091 1091 1091 1091 1091 1091 1091 1091 1091 1091 1092 1092 1092 1092 1092 1092 1092 1092 1092 1092 1092 1092 1092 1092 1092 1092 1092 1092 1092 1092 1092 1092 1092 1092 1092 1092 1092 1092 1092 1092 1092 1092 1092 1092 1092 1092 1092 1092 1092 1092 1092 1092 1092 1092 1092 1092 1092 1093 1093 1093 1093 1093 1093 1093 1093 1093 1093 1093 1093 1093 1093 1093 1093 1093 1093 1093 1093 1093 1093 1093 1093 1093 1093 1093 1093 1093 1093 1093 1094 1094 1094 1094 1094 1094 1094 1094 1094 1094 1094 1094 1094 1094 1094 1094 1094 1094 1094 1094 1094 1094 1094 1094 1094 1094 1094 1094 1094 1094 1094 1094 1094 1094 1094 1094 1094 1094 1094 1094 1094 1094 1094 1094 1094 1094 1094 1094 1094 1094 1094 1094 1094 1094 1094 1094 1094 1094 1094 1094 1094 1094 1094 1094 1094 1094 1094 1094 1094 1094 1094 1094 1094 1094 1094 1095 1095 1095 1095 1095 1095 1095 1095 1095 1095 1095 1095 1095 1095 1095 1095 1095 1095 1095 1095 1095 1095 1095 1095 1095 1095 1096 1096 1096 1096 1096 1096 1096 1096 1096 1096 1096 1096 1096 1096 1096 1096 1096 1096 1096 1096 1096 1096 1096 1096 1096 1096 1096 1096 1096 1097 1097 1097 1097 1097 1097 1097 1097 1097 1097 1097 1097 1097 1097 1097 1097 1097 1097 1097 1097 1097 1097 1097 1097 1097 1097 1097 1097 1097 1097 1097 1098 1098 1098 1098 1098 1098 1098 1098 1098 1098 1098 1098 1098 1098 1098 1098 1098 1098 1098 1098 1098 1098 1098 1098 1098 1098 1098 1098 1098 1098 1098 1098 1098 1098 1098 1098 1098 1098 1098 1098 1098 1098 1098 1098 1098 1098 1098 1098 1098 1098 1098 1098 1098 1098 1098 1098 1098 1098 1098 1098 1098 1098 1098 1098 1098 1098 1098 1098 1098 1098 1099 1099 1099 1099 1099 1099 1099 1099 1099 1099 1099 1099 1099 1099 1099 1099 1099 1099 1099 1099 1099 1099 1099 1099 1099 1099 1099 1099 1099 1099 1100 1100 1100 1100 1100 1100 1100 1100 1100 1100 1100 1100 1100 1100 1100 1100 1100 1100 1100 1100 1100 1100 1100 1100 1100 1100 1100 1100 1100 1101 1101 1101 1101 1101 1101 1101 1101 1101 1101 1101 1101 1101 1101 1101 1101 1101 1101 1101 1101 1101 1101 1101 1101 1101 1101 1101 1101 1101 1101 1101 1101 1101 1101 1101 1101 1101 1101 1101 1101 1101 1101 1101 1101 1101 1101 1101 1101 1101 1101 1101 1101 1101 1101 1101 1101 1101 1101 1101 1101 1101 1101 1101 1101 1101 1101 1101 1101 1101 1101 1101 1101 1101 1101 1101 1101 1101 1101 1101 1101 1101 1101 1101 1101 1101 1101 1101 1101 1101 1101 1101 1101 1101 1101 1101 1101 1101 1101 1101 1101 1101 1102 1102 1102 1102 1102 1102 1102 1102 1102 1102 1102 1102 1102 1102 1102 1102 1102 1102 1102 1103 1103 1103 1103 1103 1103 1103 1103 1103 1103 1103 1103 1103 1103 1103 1103 1103 1103 1103 1103 1103 1103 1103 1103 1103 1103 1103 1103 1103 1103 1103 1103 1103 1103 1103 1103 1103 1103 1103 1103 1103 1103 1103 1103 1103 1103 1103 1103 1103 1103 1103 1103 1103 1103 1103 1103 1103 1104 1104 1104 1104 1104 1104 1104 1104 1104 1104 1104 1104 1104 1104 1104 1104 1104 1104 1104 1104 1104 1104 1104 1104 1104 1104 1104 1105 1105 1105 1105 1105 1105 1105 1105 1105 1105 1105 1105 1105 1105 1105 1105 1105 1105 1105 1105 1105 1105 1105 1105 1105 1105 1105 1105 1105 1105 1105 1105 1105 1105 1105 1105 1105 1105 1105 1105 1105 1105 1105 1105 1105 1105 1105 1105 1106 1106 1106 1106 1106 1106 1106 1106 1106 1106 1106 1106 1106 1106 1106 1106 1106 1106 1106 1106 1106 1106 1106 1106 1106 1106 1106 1106 1106 1106 1106 1107 1107 1107 1107 1107 1107 1107 1107 1107 1107 1107 1107 1107 1107 1107 1107 1107 1107 1107 1107 1107 1107 1107 1107 1107 1107 1107 1107 1107 1107 1107 1107 1107 1108 1108 1108 1108 1108 1108 1108 1108 1108 1108 1108 1108 1108 1108 1108 1108 1108 1108 1108 1108 1108 1108 1108 1108 1108 1108 1108 1108 1108 1108 1108 1108 1108 1108 1108 1108 1108 1108 1108 1108 1108 1108 1108 1108 1108 1108 1108 1108 1108 1108 1108 1108 1108 1108 1108 1108 1108 1108 1108 1108 1108 1108 1108 1108 1108 1108 1108 1108 1108 1108 1108 1108 1108 1109 1109 1109 1109 1109 1109 1109 1109 1109 1109 1109 1109 1109 1109 1109 1109 1109 1109 1109 1109 1109 1109 1109 1109 1109 1109 1109 1109 1109 1109 1109 1110 1110 1110 1110 1110 1110 1110 1110 1110 1110 1110 1110 1110 1110 1110 1110 1110 1110 1110 1110 1110 1110 1110 1110 1110 1110 1110 1110 1110 1110 1110 1110 1110 1110 1110 1110 1110 1110 1110 1110 1110 1110 1110 1110 1110 1110 1110 1110 1110 1110 1110 1110 1110 1110 1110 1110 1110 1110 1110 1110 1110 1110 1110 1110 1110 1111 1111 1111 1111 1111 1111 1111 1111 1111 1111 1111 1111 1111 1111 1111 1111 1111 1111 1111 1111 1111 1111 1111 1111 1111 1111 1111 1111 1112 1112 1112 1112 1112 1112 1112 1112 1112 1112 1112 1112 1112 1112 1112 1112 1112 1112 1112 1112 1112 1112 1112 1112 1112 1112 1112 1112 1112 1112 1112 1112 1112 1112 1112 1112 1112 1113 1113 1113 1113 1113 1113 1113 1113 1113 1113 1113 1113 1113 1113 1113 1113 1113 1113 1113 1113 1113 1113 1113 1113 1113 1113 1113 1113 1113 1113 1113 1113 1113 1113 1113 1113 1113 1113 1113 1113 1113 1113 1113 1113 1113 1114 1114 1114 1114 1114 1114 1114 1114 1114 1114 1114 1114 1114 1114 1114 1114 1114 1114 1114 1114 1114 1114 1114 1114 1114 1114 1114 1114 1114 1114 1114 1114 1114 1114 1114 1114 1114 1115 1115 1115 1115 1115 1115 1115 1115 1115 1115 1115 1115 1115 1115 1115 1115 1115 1115 1115 1115 1115 1115 1115 1115 1115 1115 1115 1115 1115 1115 1116 1116 1116 1116 1116 1116 1116 1116 1116 1116 1116 1116 1116 1116 1116 1116 1116 1116 1116 1116 1116 1116 1116 1116 1116 1116 1116 1116 1116 1116 1116 1116 1116 1116 1116 1116 1116 1116 1116 1116 1116 1116 1116 1116 1116 1116 1116 1116 1116 1116 1116 1117 1117 1117 1117 1117 1117 1117 1117 1117 1117 1117 1117 1117 1117 1117 1117 1117 1117 1117 1117 1117 1117 1117 1117 1117 1117 1117 1117 1117 1117 1117 1117 1117 1117 1117 1117 1117 1117 1117 1117 1117 1117 1117 1117 1117 1117 1117 1117 1117 1117 1117 1117 1117 1117 1117 1117 1117 1117 1117 1117 1117 1117 1117 1117 1117 1117 1117 1117 1117 1117 1117 1117 1117 1117 1117 1117 1117 1117 1117 1117 1117 1117 1117 1118 1118 1118 1118 1118 1118 1118 1118 1118 1118 1118 1118 1118 1118 1118 1118 1118 1118 1119 1119 1119 1119 1119 1119 1119 1119 1119 1119 1119 1119 1119 1119 1119 1119 1119 1119 1119 1119 1119 1119 1119 1119 1119 1119 1119 1119 1119 1119 1119 1119 1119 1119 1119 1119 1119 1119 1119 1119 1120 1120 1120 1120 1120 1120 1120 1120 1120 1120 1120 1120 1120 1120 1120 1120 1120 1120 1120 1120 1120 1120 1120 1120 1120 1120 1120 1120 1120 1120 1120 1120 1120 1120 1120 1120 1120 1120 1120 1120 1120 1120 1120 1120 1120 1120 1120 1121 1121 1121 1121 1121 1121 1121 1121 1121 1121 1121 1121 1121 1121 1121 1121 1121 1121 1121 1121 1121 1121 1121 1121 1121 1121 1121 1121 1121 1121 1121 1121 1121 1121 1121 1121 1122 1122 1122 1122 1122 1122 1122 1122 1122 1122 1122 1122 1122 1122 1122 1122 1122 1122 1122 1122 1122 1122 1122 1122 1122 1122 1122 1122 1122 1122 1123 1123 1123 1123 1123 1123 1123 1123 1123 1123 1123 1123 1123 1123 1123 1123 1123 1123 1123 1123 1123 1123 1123 1123 1123 1123 1123 1123 1123 1123 1123 1123 1123 1123 1123 1123 1123 1123 1123 1123 1123 1123 1123 1123 1123 1124 1124 1124 1124 1124 1124 1124 1124 1124 1124 1124 1124 1124 1124 1124 1124 1124 1124 1124 1124 1124 1124 1124 1124 1124 1124 1124 1124 1124 1124 1124 1124 1124 1124 1124 1124 1124 1124 1124 1124 1124 1124 1124 1124 1124 1124 1124 1124 1124 1124 1124 1124 1124 1124 1124 1124 1124 1124 1124 1124 1124 1124 1124 1125 1125 1125 1125 1125 1125 1125 1125 1125 1125 1125 1125 1125 1125 1125 1125 1125 1125 1125 1125 1125 1125 1125 1125 1125 1125 1125 1125 1125 1125 1125 1125 1125 1125 1125 1125 1125 1125 1126 1126 1126 1126 1126 1126 1126 1126 1126 1126 1126 1126 1126 1126 1126 1126 1126 1126 1126 1126 1126 1126 1126 1126 1126 1126 1126 1126 1126 1126 1126 1126 1127 1127 1127 1127 1127 1127 1127 1127 1127 1127 1127 1127 1127 1127 1127 1127 1127 1127 1127 1127 1127 1127 1127 1127 1127 1127 1127 1127 1127 1127 1127 1127 1127 1127 1127 1127 1127 1127 1127 1127 1127 1127 1127 1127 1128 1128 1128 1128 1128 1128 1128 1128 1128 1128 1128 1128 1128 1128 1128 1128 1128 1128 1128 1128 1128 1128 1128 1128 1128 1128 1128 1128 1128 1128 1128 1128 1129 1129 1129 1129 1129 1129 1129 1129 1129 1129 1129 1129 1129 1129 1129 1129 1129 1129 1129 1129 1129 1129 1129 1129 1129 1129 1129 1129 1129 1129 1129 1129 1129 1129 1129 1129 1129 1129 1129 1129 1129 1130 1130 1130 1130 1130 1130 1130 1130 1130 1130 1130 1130 1130 1130 1130 1130 1130 1130 1130 1130 1130 1130 1130 1130 1130 1130 1130 1130 1130 1130 1130 1130 1130 1130 1130 1130 1130 1130 1130 1130 1130 1130 1130 1131 1131 1131 1131 1131 1131 1131 1131 1131 1131 1131 1131 1131 1131 1131 1131 1131 1131 1131 1131 1131 1131 1131 1131 1131 1131 1131 1131 1131 1131 1131 1131 1131 1131 1131 1131 1131 1131 1131 1131 1131 1131 1131 1131 1131 1131 1131 1131 1131 1132 1132 1132 1132 1132 1132 1132 1132 1132 1132 1132 1132 1132 1132 1132 1132 1132 1132 1132 1132 1132 1132 1132 1132 1132 1132 1132 1132 1132 1132 1132 1132 1132 1132 1132 1132 1132 1132 1132 1132 1132 1132 1132 1132 1132 1132 1132 1132 1132 1132 1132 1132 1132 1132 1132 1132 1132 1132 1132 1132 1132 1132 1132 1132 1132 1133 1133 1133 1133 1133 1133 1133 1133 1133 1133 1133 1133 1133 1133 1133 1133 1133 1133 1133 1133 1133 1133 1133 1133 1133 1133 1133 1133 1133 1133 1133 1133 1133 1133 1133 1133 1133 1134 1134 1134 1134 1134 1134 1134 1134 1134 1134 1134 1134 1134 1134 1134 1134 1134 1134 1134 1134 1134 1134 1134 1134 1134 1134 1134 1135 1135 1135 1135 1135 1135 1135 1135 1135 1135 1135 1135 1135 1135 1135 1135 1135 1135 1135 1135 1135 1135 1135 1135 1135 1135 1135 1135 1135 1135 1135 1135 1135 1135 1135 1135 1135 1135 1135 1135 1136 1136 1136 1136 1136 1136 1136 1136 1136 1136 1136 1136 1136 1136 1136 1136 1136 1136 1136 1136 1136 1136 1136 1136 1136 1136 1136 1136 1136 1136 1136 1136 1136 1136 1136 1136 1136 1136 1136 1136 1136 1136 1136 1136 1136 1136 1137 1137 1137 1137 1137 1137 1137 1137 1137 1137 1137 1137 1137 1137 1137 1137 1137 1137 1137 1137 1137 1137 1137 1138 1138 1138 1138 1138 1138 1138 1138 1138 1138 1138 1138 1138 1138 1138 1138 1138 1138 1138 1138 1138 1138 1138 1138 1138 1138 1138 1138 1138 1138 1138 1138 1139 1139 1139 1139 1139 1139 1139 1139 1139 1139 1139 1139 1139 1139 1139 1139 1139 1139 1139 1139 1139 1139 1139 1139 1139 1139 1139 1139 1139 1139 1139 1139 1139 1139 1139 1139 1139 1139 1139 1139 1139 1139 1139 1139 1139 1139 1139 1139 1139 1139 1139 1139 1139 1139 1139 1139 1139 1139 1139 1139 1139 1139 1139 1139 1139 1139 1139 1139 1140 1140 1140 1140 1140 1140 1140 1140 1140 1140 1140 1140 1140 1140 1140 1140 1140 1140 1140 1140 1140 1140 1140 1140 1140 1140 1140 1140 1140 1140 1140 1140 1140 1140 1140 1140 1140 1140 1140 1140 1140 1140 1140 1140 1140 1140 1140 1141 1141 1141 1141 1141 1141 1141 1141 1141 1141 1141 1141 1141 1141 1141 1141 1141 1141 1141 1141 1141 1141 1141 1141 1141 1141 1141 1141 1141 1141 1141 1141 1141 1141 1141 1141 1141 1141 1141 1142 1142 1142 1142 1142 1142 1142 1142 1142 1142 1142 1142 1142 1142 1142 1142 1142 1142 1142 1142 1142 1142 1142 1142 1142 1142 1142 1142 1142 1142 1142 1142 1142 1142 1142 1142 1142 1142 1142 1142 1142 1142 1142 1142 1142 1143 1143 1143 1143 1143 1143 1143 1143 1143 1143 1143 1143 1143 1143 1143 1143 1143 1143 1143 1143 1143 1143 1143 1143 1143 1143 1143 1143 1143 1143 1143 1143 1143 1143 1143 1143 1143 1143 1143 1143 1143 1143 1144 1144 1144 1144 1144 1144 1144 1144 1144 1144 1144 1144 1144 1144 1144 1144 1144 1144 1144 1144 1144 1144 1144 1144 1144 1144 1144 1144 1144 1144 1144 1145 1145 1145 1145 1145 1145 1145 1145 1145 1145 1145 1145 1145 1145 1145 1145 1146 1146 1146 1146 1146 1146 1146 1146 1146 1146 1146 1146 1146 1146 1146 1146 1146 1146 1146 1146 1146 1146 1146 1146 1146 1146 1146 1146 1146 1146 1146 1146 1146 1146 1146 1146 1146 1146 1146 1146 1146 1146 1146 1146 1146 1146 1146 1146 1146 1146 1146 1146 1146 1147 1147 1147 1147 1147 1147 1147 1147 1147 1147 1147 1147 1147 1147 1147 1147 1147 1147 1147 1147 1147 1147 1147 1147 1147 1147 1147 1147 1147 1147 1147 1147 1147 1147 1147 1147 1148 1148 1148 1148 1148 1148 1148 1148 1148 1148 1148 1148 1148 1148 1148 1148 1148 1148 1148 1148 1148 1148 1148 1148 1148 1148 1148 1148 1148 1148 1148 1148 1148 1148 1148 1148 1148 1148 1148 1148 1149 1149 1149 1149 1149 1149 1149 1149 1149 1149 1149 1149 1149 1149 1149 1149 1149 1149 1149 1149 1149 1149 1149 1149 1149 1149 1149 1149 1149 1149 1149 1149 1149 1149 1149 1149 1149 1149 1149 1149 1149 1149 1149 1149 1149 1149 1149 1149 1150 1150 1150 1150 1150 1150 1150 1150 1150 1150 1150 1150 1150 1150 1150 1150 1150 1150 1150 1150 1150 1150 1150 1150 1150 1150 1150 1150 1150 1150 1150 1150 1150 1150 1150 1150 1150 1150 1150 1151 1151 1151 1151 1151 1151 1151 1151 1151 1151 1151 1151 1151 1151 1151 1151 1151 1151 1151 1151 1151 1151 1151 1151 1151 1151 1151 1151 1151 1151 1151 1151 1151 1151 1151 1151 1151 1151 1151 1151 1151 1151 1151 1151 1151 1151 1151 1151 1151 1151 1151 1151 1151 1151 1151 1151 1151 1151 1151 1151 1151 1151 1151 1151 1151 1151 1151 1151 1151 1152 1152 1152 1152 1152 1152 1152 1152 1152 1152 1152 1152 1152 1152 1152 1152 1152 1152 1152 1152 1153 1153 1153 1153 1153 1153 1153 1153 1153 1153 1153 1153 1153 1153 1153 1153 1153 1153 1153 1153 1153 1153 1153 1153 1153 1153 1153 1153 1153 1153 1153 1153 1153 1153 1153 1153 1153 1153 1153 1153 1153 1153 1154 1154 1154 1154 1154 1154 1154 1154 1154 1154 1154 1154 1154 1154 1154 1154 1154 1154 1154 1154 1154 1154 1154 1155 1155 1155 1155 1155 1155 1155 1155 1155 1155 1155 1155 1155 1155 1155 1155 1155 1155 1155 1155 1155 1155 1155 1155 1155 1155 1155 1155 1155 1155 1155 1155 1155 1155 1155 1155 1155 1155 1155 1155 1155 1155 1155 1155 1155 1155 1155 1155 1155 1155 1155 1155 1155 1156 1156 1156 1156 1156 1156 1156 1156 1156 1156 1156 1156 1156 1156 1156 1156 1156 1156 1156 1156 1156 1156 1156 1156 1156 1156 1156 1156 1156 1156 1156 1156 1156 1156 1157 1157 1157 1157 1157 1157 1157 1157 1157 1157 1157 1157 1157 1157 1157 1157 1157 1157 1157 1157 1157 1157 1158 1158 1158 1158 1158 1158 1158 1158 1158 1158 1158 1158 1158 1158 1158 1158 1158 1158 1158 1158 1158 1158 1158 1158 1158 1158 1158 1158 1158 1158 1158 1158 1158 1158 1158 1158 1158 1158 1158 1158 1158 1158 1158 1158 1158 1158 1158 1158 1158 1158 1158 1158 1158 1158 1158 1158 1158 1158 1158 1158 1158 1158 1158 1158 1158 1158 1158 1158 1158 1158 1158 1158 1158 1158 1159 1159 1159 1159 1159 1159 1159 1159 1159 1159 1159 1159 1159 1159 1159 1159 1159 1159 1159 1159 1159 1159 1159 1159 1159 1159 1160 1160 1160 1160 1160 1160 1160 1160 1160 1160 1160 1160 1160 1160 1160 1160 1160 1160 1160 1160 1160 1160 1160 1160 1160 1160 1160 1160 1160 1160 1160 1160 1160 1160 1160 1160 1160 1160 1160 1160 1160 1160 1160 1160 1160 1160 1161 1161 1161 1161 1161 1161 1161 1161 1161 1161 1161 1161 1161 1161 1161 1161 1161 1161 1161 1161 1161 1162 1162 1162 1162 1162 1162 1162 1162 1162 1162 1162 1162 1162 1162 1162 1162 1162 1162 1162 1162 1162 1162 1162 1162 1162 1162 1162 1162 1162 1162 1162 1162 1162 1162 1162 1162 1162 1162 1162 1162 1162 1162 1162 1162 1162 1162 1162 1162 1162 1162 1162 1162 1162 1162 1162 1162 1162 1163 1163 1163 1163 1163 1163 1163 1163 1163 1163 1163 1163 1163 1163 1163 1163 1163 1163 1163 1164 1164 1164 1164 1164 1164 1164 1164 1164 1164 1164 1164 1164 1164 1164 1164 1164 1164 1164 1164 1164 1164 1164 1164 1164 1164 1165 1165 1165 1165 1165 1165 1165 1165 1165 1165 1165 1165 1165 1165 1165 1165 1165 1165 1165 1165 1165 1165 1165 1165 1165 1165 1165 1165 1165 1165 1165 1165 1165 1165 1165 1165 1165 1165 1165 1165 1165 1165 1165 1165 1165 1165 1165 1165 1165 1165 1165 1165 1165 1165 1165 1165 1165 1165 1165 1165 1165 1165 1165 1165 1165 1165 1165 1165 1165 1165 1165 1166 1166 1166 1166 1166 1166 1166 1166 1166 1166 1166 1166 1166 1166 1166 1166 1166 1166 1166 1166 1166 1166 1166 1166 1166 1166 1166 1166 1166 1166 1166 1166 1166 1167 1167 1167 1167 1167 1167 1167 1167 1167 1167 1167 1167 1167 1167 1167 1167 1167 1167 1167 1167 1167 1167 1167 1167 1167 1167 1167 1167 1167 1167 1167 1167 1167 1167 1167 1167 1167 1167 1167 1167 1167 1167 1167 1167 1167 1167 1167 1167 1167 1167 1167 1167 1167 1167 1167 1168 1168 1168 1168 1168 1168 1168 1168 1168 1168 1168 1168 1168 1168 1168 1169 1169 1169 1169 1169 1169 1169 1169 1169 1169 1169 1169 1169 1169 1169 1169 1169 1169 1169 1169 1169 1169 1169 1169 1169 1169 1169 1169 1169 1169 1169 1169 1169 1169 1169 1169 1169 1169 1169 1169 1169 1169 1169 1169 1169 1169 1169 1169 1169 1169 1169 1169 1169 1169 1169 1169 1169 1169 1169 1170 1170 1170 1170 1170 1170 1170 1170 1170 1170 1170 1170 1170 1170 1170 1170 1170 1170 1170 1170 1170 1170 1170 1170 1170 1170 1171 1171 1171 1171 1171 1171 1171 1171 1171 1171 1171 1171 1171 1171 1171 1171 1171 1171 1171 1171 1171 1171 1171 1171 1171 1171 1171 1171 1171 1171 1172 1172 1172 1172 1172 1172 1172 1172 1172 1172 1172 1172 1172 1172 1172 1172 1172 1172 1172 1172 1172 1172 1172 1172 1172 1172 1172 1172 1172 1172 1172 1172 1172 1172 1172 1172 1172 1172 1172 1172 1172 1172 1172 1173 1173 1173 1173 1173 1173 1173 1173 1173 1173 1173 1173 1173 1173 1173 1173 1173 1173 1173 1173 1173 1173 1173 1174 1174 1174 1174 1174 1174 1174 1174 1174 1174 1174 1174 1174 1174 1174 1174 1174 1174 1174 1174 1174 1174 1174 1174 1174 1174 1174 1174 1174 1174 1174 1174 1174 1174 1174 1174 1174 1174 1174 1174 1174 1174 1174 1174 1174 1174 1174 1174 1174 1174 1174 1174 1174 1174 1174 1174 1174 1174 1174 1174 1174 1174 1174 1174 1174 1174 1174 1174 1174 1175 1175 1175 1175 1175 1175 1175 1175 1175 1175 1175 1175 1175 1175 1175 1175 1175 1175 1175 1175 1176 1176 1176 1176 1176 1176 1176 1176 1176 1176 1176 1176 1176 1176 1176 1176 1176 1176 1176 1176 1176 1176 1176 1176 1176 1176 1177 1177 1177 1177 1177 1177 1177 1177 1177 1177 1177 1177 1177 1177 1177 1177 1177 1177 1177 1177 1177 1177 1177 1177 1177 1177 1177 1177 1177 1177 1177 1177 1177 1177 1177 1177 1177 1177 1177 1177 1177 1177 1177 1177 1177 1177 1177 1178 1178 1178 1178 1178 1178 1178 1178 1178 1178 1178 1178 1178 1178 1178 1178 1178 1178 1178 1178 1178 1178 1178 1178 1178 1178 1178 1178 1178 1178 1179 1179 1179 1179 1179 1179 1179 1179 1179 1179 1179 1179 1179 1179 1179 1179 1179 1179 1179 1179 1179 1179 1179 1179 1179 1179 1179 1179 1179 1179 1179 1179 1179 1179 1179 1179 1179 1179 1179 1179 1179 1179 1179 1179 1179 1179 1179 1179 1180 1180 1180 1180 1180 1180 1180 1180 1180 1180 1180 1180 1180 1180 1180 1180 1180 1180 1180 1180 1180 1180 1180 1180 1180 1180 1180 1181 1181 1181 1181 1181 1181 1181 1181 1181 1181 1181 1181 1181 1181 1181 1181 1181 1181 1181 1181 1181 1181 1181 1181 1181 1181 1181 1181 1181 1181 1181 1181 1181 1181 1181 1181 1181 1181 1181 1181 1181 1181 1181 1181 1181 1181 1181 1181 1181 1181 1181 1181 1181 1181 1181 1181 1181 1181 1181 1181 1181 1181 1181 1181 1181 1181 1181 1181 1181 1181 1182 1182 1182 1182 1182 1182 1182 1182 1182 1182 1182 1182 1182 1182 1182 1182 1182 1182 1182 1182 1182 1182 1183 1183 1183 1183 1183 1183 1183 1183 1183 1183 1183 1183 1183 1183 1183 1183 1183 1183 1183 1183 1183 1184 1184 1184 1184 1184 1184 1184 1184 1184 1184 1184 1184 1184 1184 1184 1184 1184 1184 1184 1184 1184 1184 1184 1184 1184 1184 1184 1184 1184 1184 1184 1184 1184 1184 1184 1184 1184 1184 1184 1184 1184 1184 1184 1184 1184 1184 1184 1185 1185 1185 1185 1185 1185 1185 1185 1185 1185 1185 1185 1185 1185 1185 1185 1185 1185 1185 1185 1185 1185 1185 1185 1185 1185 1185 1185 1186 1186 1186 1186 1186 1186 1186 1186 1186 1186 1186 1186 1186 1186 1186 1186 1186 1186 1186 1186 1186 1186 1186 1187 1187 1187 1187 1187 1187 1187 1187 1187 1187 1187 1187 1187 1187 1187 1187 1187 1187 1187 1188 1188 1188 1188 1188 1188 1188 1188 1188 1188 1188 1188 1188 1188 1188 1188 1188 1188 1188 1188 1188 1188 1188 1188 1188 1188 1188 1188 1188 1188 1188 1188 1188 1188 1188 1188 1188 1188 1188 1188 1188 1188 1188 1188 1188 1188 1188 1188 1188 1188 1188 1188 1188 1188 1188 1188 1188 1188 1188 1188 1188 1188 1188 1188 1188 1188 1188 1188 1188 1188 1188 1188 1188 1188 1188 1188 1188 1188 1188 1188 1188 1188 1188 1188 1188 1188 1189 1189 1189 1189 1189 1189 1189 1189 1189 1189 1189 1189 1189 1189 1189 1189 1189 1189 1189 1189 1189 1189 1190 1190 1190 1190 1190 1190 1190 1190 1190 1190 1190 1190 1190 1190 1190 1190 1190 1190 1190 1190 1190 1190 1190 1190 1190 1190 1190 1190 1190 1190 1190 1190 1190 1190 1190 1190 1190 1190 1190 1190 1190 1190 1190 1190 1190 1190 1190 1190 1190 1190 1191 1191 1191 1191 1191 1191 1191 1191 1191 1191 1191 1191 1191 1191 1191 1191 1191 1191 1191 1191 1191 1191 1191 1191 1192 1192 1192 1192 1192 1192 1192 1192 1192 1192 1192 1192 1192 1192 1192 1192 1192 1192 1192 1192 1192 1192 1192 1192 1192 1192 1192 1192 1193 1193 1193 1193 1193 1193 1193 1193 1193 1193 1193 1193 1193 1193 1193 1193 1193 1193 1193 1193 1193 1193 1193 1193 1193 1193 1193 1193 1193 1193 1193 1193 1193 1193 1193 1193 1193 1193 1193 1193 1193 1193 1193 1193 1193 1194 1194 1194 1194 1194 1194 1194 1194 1194 1194 1194 1194 1194 1194 1194 1194 1194 1194 1194 1195 1195 1195 1195 1195 1195 1195 1195 1195 1195 1195 1195 1195 1195 1195 1195 1195 1195 1195 1195 1195 1195 1195 1195 1195 1195 1195 1195 1195 1195 1195 1195 1195 1195 1195 1195 1195 1195 1195 1196 1196 1196 1196 1196 1196 1196 1196 1196 1196 1196 1196 1196 1196 1196 1196 1196 1196 1196 1196 1196 1196 1196 1196 1196 1196 1196 1196 1196 1197 1197 1197 1197 1197 1197 1197 1197 1197 1197 1197 1197 1197 1197 1197 1197 1197 1197 1197 1197 1197 1197 1197 1197 1197 1197 1197 1197 1197 1197 1197 1197 1197 1197 1197 1197 1197 1197 1197 1197 1197 1197 1197 1197 1197 1197 1197 1197 1197 1197 1197 1197 1197 1197 1198 1198 1198 1198 1198 1198 1198 1198 1198 1198 1198 1198 1198 1198 1198 1198 1198 1198 1198 1198 1198 1198 1198 1198 1198 1198 1198 1199 1199 1199 1199 1199 1199 1199 1199 1199 1199 1199 1199 1199 1199 1199 1199 1199 1199 1199 1199 1199 1199 1199 1199 1199 1199 1199 1199 1199 1199 1199 1199 1200 1200 1200 1200 1200 1200 1200 1200 1200 1200 1200 1200 1200 1200 1200 1200 1200 1200 1200 1200 1200 1200 1200 1200 1200 1200 1200 1200 1200 1200 1200 1200 1200 1200 1200 1200 1200 1200 1200 1200 1200 1200 1200 1200 1200 1200 1200 1200 1200 1200 1200 1201 1201 1201 1201 1201 1201 1201 1201 1201 1201 1201 1201 1201 1201 1201 1201 1201 1201 1201 1201 1201 1201 1201 1201 1202 1202 1202 1202 1202 1202 1202 1202 1202 1202 1202 1202 1202 1202 1202 1203 1203 1203 1203 1203 1203 1203 1203 1203 1203 1203 1203 1203 1203 1203 1203 1203 1203 1203 1203 1203 1203 1203 1203 1203 1203 1203 1203 1203 1203 1203 1203 1203 1203 1203 1203 1203 1203 1203 1203 1203 1203 1203 1203 1203 1203 1203 1203 1203 1203 1203 1203 1203 1203 1204 1204 1204 1204 1204 1204 1204 1204 1204 1204 1204 1204 1204 1204 1204 1204 1204 1204 1204 1204 1204 1204 1204 1204 1204 1204 1204 1204 1204 1204 1204 1204 1204 1204 1204 1204 1204 1204 1204 1204 1205 1205 1205 1205 1205 1205 1205 1205 1205 1205 1205 1205 1205 1205 1205 1205 1206 1206 1206 1206 1206 1206 1206 1206 1206 1206 1206 1206 1206 1206 1206 1206 1206 1206 1206 1206 1206 1206 1206 1206 1206 1206 1206 1206 1206 1206 1206 1206 1206 1207 1207 1207 1207 1207 1207 1207 1207 1207 1207 1207 1207 1207 1207 1207 1207 1207 1207 1207 1207 1207 1207 1207 1207 1207 1207 1207 1207 1207 1207 1207 1207 1207 1207 1207 1207 1207 1207 1207 1207 1207 1207 1207 1207 1207 1207 1207 1207 1207 1207 1207 1207 1208 1208 1208 1208 1208 1208 1208 1208 1208 1208 1208 1208 1208 1208 1208 1208 1208 1208 1208 1208 1208 1208 1208 1208 1208 1208 1208 1208 1208 1208 1208 1208 1208 1208 1209 1209 1209 1209 1209 1209 1209 1209 1209 1209 1209 1209 1209 1209 1209 1209 1209 1209 1209 1209 1209 1209 1209 1209 1210 1210 1210 1210 1210 1210 1210 1210 1210 1210 1210 1210 1210 1210 1210 1210 1210 1210 1210 1210 1210 1210 1210 1210 1210 1210 1210 1210 1210 1210 1210 1210 1210 1210 1210 1210 1210 1211 1211 1211 1211 1211 1211 1211 1211 1211 1211 1211 1211 1211 1211 1211 1211 1211 1211 1211 1211 1211 1211 1212 1212 1212 1212 1212 1212 1212 1212 1212 1212 1212 1212 1212 1212 1212 1212 1212 1212 1212 1212 1212 1212 1212 1212 1212 1212 1212 1212 1212 1212 1212 1212 1212 1212 1212 1212 1212 1212 1212 1212 1212 1212 1212 1213 1213 1213 1213 1213 1213 1213 1213 1213 1213 1213 1213 1213 1213 1213 1213 1213 1213 1213 1213 1213 1213 1213 1213 1213 1213 1213 1214 1214 1214 1214 1214 1214 1214 1214 1214 1214 1214 1214 1214 1214 1214 1214 1214 1214 1214 1214 1214 1214 1214 1214 1214 1214 1214 1214 1214 1215 1215 1215 1215 1215 1215 1215 1215 1215 1215 1215 1215 1215 1215 1215 1215 1215 1215 1215 1215 1215 1215 1215 1215 1215 1215 1215 1215 1215 1215 1215 1215 1215 1215 1215 1216 1216 1216 1216 1216 1216 1216 1216 1216 1216 1216 1216 1216 1216 1216 1216 1216 1216 1216 1216 1216 1216 1216 1216 1216 1216 1216 1216 1216 1216 1216 1216 1216 1216 1216 1216 1216 1216 1216 1216 1216 1216 1216 1216 1216 1216 1216 1216 1216 1216 1216 1217 1217 1217 1217 1217 1217 1217 1217 1217 1217 1217 1217 1217 1217 1217 1217 1217 1217 1217 1217 1217 1217 1217 1217 1217 1217 1217 1217 1218 1218 1218 1218 1218 1218 1218 1218 1218 1218 1218 1218 1218 1218 1218 1218 1218 1218 1218 1218 1218 1218 1218 1218 1218 1219 1219 1219 1219 1219 1219 1219 1219 1219 1219 1219 1219 1219 1219 1219 1219 1219 1219 1219 1219 1219 1219 1219 1219 1219 1219 1219 1219 1219 1219 1219 1219 1219 1219 1219 1219 1219 1219 1219 1219 1219 1219 1219 1219 1219 1219 1219 1219 1220 1220 1220 1220 1220 1220 1220 1220 1220 1220 1220 1220 1220 1220 1220 1220 1220 1220 1220 1220 1220 1220 1220 1220 1221 1221 1221 1221 1221 1221 1221 1221 1221 1221 1221 1222 1222 1222 1222 1222 1222 1222 1222 1222 1222 1222 1222 1222 1222 1222 1222 1222 1222 1222 1222 1222 1222 1222 1222 1222 1222 1222 1222 1222 1222 1222 1222 1222 1222 1222 1222 1222 1222 1222 1222 1222 1222 1222 1222 1222 1222 1222 1222 1222 1222 1222 1222 1222 1222 1222 1223 1223 1223 1223 1223 1223 1223 1223 1223 1223 1223 1223 1223 1223 1223 1223 1223 1223 1223 1223 1223 1223 1223 1223 1223 1223 1223 1223 1223 1223 1223 1223 1223 1223 1223 1223 1224 1224 1224 1224 1224 1224 1224 1224 1224 1224 1224 1224 1224 1224 1224 1224 1224 1224 1225 1225 1225 1225 1225 1225 1225 1225 1225 1225 1225 1225 1225 1225 1225 1225 1225 1225 1225 1225 1225 1225 1225 1226 1226 1226 1226 1226 1226 1226 1226 1226 1226 1226 1226 1226 1226 1226 1226 1226 1226 1226 1226 1226 1226 1226 1226 1226 1226 1226 1226 1226 1226 1226 1226 1226 1226 1226 1226 1226 1226 1226 1226 1226 1226 1226 1226 1226 1226 1226 1227 1227 1227 1227 1227 1227 1227 1227 1227 1227 1227 1227 1227 1227 1227 1227 1227 1227 1227 1227 1227 1227 1227 1227 1227 1227 1227 1227 1227 1227 1228 1228 1228 1228 1228 1228 1228 1228 1228 1228 1228 1228 1228 1228 1228 1228 1228 1228 1228 1228 1229 1229 1229 1229 1229 1229 1229 1229 1229 1229 1229 1229 1229 1229 1229 1229 1229 1229 1229 1229 1229 1229 1229 1229 1229 1229 1229 1229 1229 1229 1229 1229 1229 1229 1229 1229 1229 1229 1229 1229 1229 1229 1229 1229 1229 1229 1229 1229 1229 1229 1229 1229 1229 1229 1229 1229 1229 1229 1229 1229 1229 1229 1229 1230 1230 1230 1230 1230 1230 1230 1230 1230 1230 1230 1230 1230 1230 1230 1231 1231 1231 1231 1231 1231 1231 1231 1231 1231 1231 1231 1231 1231 1231 1231 1231 1231 1231 1231 1231 1231 1231 1231 1231 1231 1231 1231 1231 1231 1231 1231 1231 1231 1231 1231 1231 1231 1231 1231 1231 1231 1231 1231 1231 1231 1231 1231 1232 1232 1232 1232 1232 1232 1232 1232 1232 1232 1232 1232 1232 1232 1232 1232 1232 1233 1233 1233 1233 1233 1233 1233 1233 1233 1233 1233 1233 1233 1233 1233 1233 1233 1233 1233 1233 1233 1233 1233 1233 1233 1234 1234 1234 1234 1234 1234 1234 1234 1234 1234 1234 1234 1234 1234 1234 1234 1234 1234 1234 1234 1235 1235 1235 1235 1235 1235 1235 1235 1235 1235 1235 1235 1235 1235 1235 1235 1235 1235 1235 1235 1235 1235 1235 1235 1235 1235 1235 1235 1235 1236 1236 1236 1236 1236 1236 1236 1236 1236 1236 1236 1236 1236 1236 1236 1236 1236 1236 1236 1236 1236 1236 1236 1236 1236 1236 1236 1236 1236 1236 1236 1236 1236 1236 1236 1236 1236 1236 1236 1237 1237 1237 1237 1237 1237 1237 1237 1237 1237 1237 1237 1237 1237 1237 1237 1237 1237 1237 1238 1238 1238 1238 1238 1238 1238 1238 1238 1238 1238 1238 1238 1238 1238 1238 1238 1238 1238 1238 1238 1238 1238 1238 1238 1238 1238 1238 1238 1238 1238 1238 1238 1238 1238 1238 1238 1238 1238 1238 1238 1238 1238 1238 1238 1238 1238 1238 1238 1238 1238 1238 1238 1238 1238 1238 1238 1238 1238 1238 1238 1238 1238 1238 1238 1238 1238 1238 1238 1238 1238 1238 1238 1238 1238 1238 1238 1239 1239 1239 1239 1239 1239 1239 1239 1239 1239 1240 1240 1240 1240 1240 1240 1240 1240 1240 1240 1240 1240 1240 1240 1240 1240 1240 1240 1240 1240 1240 1240 1240 1240 1240 1240 1241 1241 1241 1241 1241 1241 1241 1241 1241 1241 1241 1241 1241 1241 1241 1241 1241 1241 1241 1241 1241 1241 1241 1241 1241 1241 1242 1242 1242 1242 1242 1242 1242 1242 1242 1242 1242 1242 1242 1242 1242 1242 1242 1242 1242 1242 1242 1242 1242 1242 1242 1242 1242 1242 1242 1242 1242 1242 1242 1243 1243 1243 1243 1243 1243 1243 1243 1243 1243 1243 1243 1243 1243 1243 1243 1243 1243 1243 1244 1244 1244 1244 1244 1244 1244 1244 1244 1244 1244 1244 1244 1245 1245 1245 1245 1245 1245 1245 1245 1245 1245 1245 1245 1245 1245 1245 1245 1245 1245 1245 1245 1245 1245 1245 1245 1245 1245 1245 1245 1245 1245 1245 1245 1245 1245 1245 1245 1245 1245 1245 1245 1245 1245 1245 1245 1245 1245 1245 1245 1245 1245 1245 1245 1245 1245 1245 1245 1245 1245 1245 1245 1245 1245 1245 1245 1245 1245 1245 1246 1246 1246 1246 1246 1246 1246 1246 1246 1246 1246 1246 1246 1246 1246 1247 1247 1247 1247 1247 1247 1247 1247 1247 1247 1247 1247 1247 1247 1247 1247 1247 1247 1247 1247 1247 1247 1247 1247 1247 1247 1247 1247 1247 1247 1248 1248 1248 1248 1248 1248 1248 1248 1248 1248 1248 1248 1248 1248 1248 1248 1248 1248 1248 1248 1248 1248 1248 1248 1248 1248 1248 1248 1248 1248 1248 1248 1248 1248 1248 1248 1248 1248 1249 1249 1249 1249 1249 1249 1249 1249 1249 1249 1249 1249 1249 1249 1249 1249 1250 1250 1250 1250 1250 1250 1250 1250 1250 1250 1250 1250 1250 1250 1250 1250 1250 1250 1250 1250 1250 1250 1250 1250 1250 1250 1250 1250 1250 1250 1251 1251 1251 1251 1251 1251 1251 1251 1251 1251 1251 1251 1251 1251 1251 1251 1251 1251 1252 1252 1252 1252 1252 1252 1252 1252 1252 1252 1252 1252 1252 1252 1252 1252 1252 1252 1252 1252 1252 1252 1252 1252 1252 1252 1252 1252 1252 1252 1252 1252 1252 1252 1252 1252 1252 1252 1252 1252 1252 1252 1252 1252 1252 1253 1253 1253 1253 1253 1253 1253 1253 1253 1253 1253 1253 1253 1253 1253 1253 1253 1253 1253 1253 1253 1253 1253 1253 1253 1254 1254 1254 1254 1254 1254 1254 1254 1254 1254 1254 1254 1254 1254 1254 1254 1254 1254 1254 1254 1254 1254 1254 1254 1254 1254 1254 1254 1254 1254 1254 1254 1254 1254 1254 1254 1254 1254 1254 1254 1254 1255 1255 1255 1255 1255 1255 1255 1255 1255 1255 1255 1255 1255 1255 1255 1255 1255 1255 1255 1255 1255 1255 1255 1255 1255 1256 1256 1256 1256 1256 1256 1256 1256 1256 1256 1256 1256 1256 1256 1256 1256 1256 1256 1256 1256 1256 1256 1256 1256 1257 1257 1257 1257 1257 1257 1257 1257 1257 1257 1257 1257 1257 1257 1257 1257 1257 1257 1257 1257 1257 1257 1257 1257 1257 1257 1257 1257 1257 1257 1257 1257 1257 1257 1257 1257 1257 1257 1257 1258 1258 1258 1258 1258 1258 1258 1258 1258 1258 1258 1259 1259 1259 1259 1259 1259 1259 1259 1259 1259 1259 1259 1259 1259 1259 1259 1259 1259 1259 1259 1259 1259 1259 1259 1259 1259 1259 1259 1259 1259 1260 1260 1260 1260 1260 1260 1260 1260 1260 1260 1260 1260 1260 1260 1260 1260 1260 1260 1261 1261 1261 1261 1261 1261 1261 1261 1261 1261 1261 1261 1261 1261 1261 1261 1261 1261 1261 1261 1261 1261 1261 1261 1261 1261 1261 1261 1261 1261 1261 1261 1261 1261 1261 1261 1261 1261 1261 1261 1261 1261 1261 1261 1261 1261 1261 1261 1262 1262 1262 1262 1262 1262 1262 1262 1262 1262 1263 1263 1263 1263 1263 1263 1263 1263 1263 1263 1263 1263 1263 1263 1263 1263 1263 1263 1263 1264 1264 1264 1264 1264 1264 1264 1264 1264 1264 1264 1264 1264 1264 1264 1264 1264 1264 1264 1264 1264 1264 1264 1264 1264 1264 1264 1264 1264 1264 1264 1264 1264 1264 1264 1264 1264 1264 1264 1264 1264 1264 1264 1264 1264 1264 1264 1264 1264 1264 1264 1264 1264 1264 1264 1264 1264 1264 1264 1265 1265 1265 1265 1265 1265 1265 1265 1265 1265 1265 1266 1266 1266 1266 1266 1266 1266 1266 1266 1266 1266 1266 1266 1266 1266 1266 1266 1266 1266 1266 1266 1266 1266 1266 1266 1266 1266 1266 1266 1266 1266 1266 1266 1266 1266 1266 1266 1266 1267 1267 1267 1267 1267 1267 1267 1267 1267 1267 1267 1267 1267 1267 1267 1267 1267 1267 1267 1268 1268 1268 1268 1268 1268 1268 1268 1268 1268 1268 1268 1268 1268 1268 1268 1268 1268 1268 1268 1268 1268 1268 1268 1268 1268 1268 1268 1268 1268 1268 1268 1268 1268 1268 1268 1268 1268 1268 1268 1268 1268 1269 1269 1269 1269 1269 1269 1269 1269 1269 1269 1269 1269 1269 1269 1269 1269 1269 1269 1269 1269 1269 1270 1270 1270 1270 1270 1270 1270 1270 1270 1270 1270 1270 1270 1270 1270 1270 1270 1270 1271 1271 1271 1271 1271 1271 1271 1271 1271 1271 1271 1271 1271 1271 1271 1271 1271 1271 1271 1271 1271 1271 1271 1271 1271 1271 1271 1271 1271 1271 1271 1271 1271 1271 1271 1271 1272 1272 1272 1272 1272 1272 1272 1272 1272 1272 1272 1272 1272 1272 1272 1272 1272 1272 1272 1272 1273 1273 1273 1273 1273 1273 1273 1273 1273 1273 1273 1273 1273 1273 1273 1273 1273 1273 1273 1273 1273 1273 1274 1274 1274 1274 1274 1274 1274 1274 1274 1274 1274 1274 1274 1274 1274 1275 1275 1275 1275 1275 1275 1275 1275 1275 1275 1275 1275 1275 1275 1275 1275 1275 1275 1275 1275 1275 1275 1275 1275 1275 1275 1275 1275 1275 1275 1275 1275 1275 1275 1276 1276 1276 1276 1276 1276 1276 1276 1276 1276 1276 1276 1276 1276 1276 1276 1276 1276 1276 1276 1276 1276 1276 1276 1276 1276 1277 1277 1277 1277 1277 1277 1277 1277 1277 1277 1277 1277 1277 1277 1277 1277 1277 1277 1277 1277 1277 1277 1277 1277 1277 1277 1277 1277 1277 1278 1278 1278 1278 1278 1278 1278 1278 1278 1278 1278 1278 1278 1278 1278 1278 1278 1278 1278 1278 1278 1278 1278 1278 1278 1278 1278 1279 1279 1279 1279 1279 1279 1279 1279 1279 1279 1279 1279 1279 1279 1279 1279 1279 1279 1279 1279 1279 1279 1279 1279 1279 1279 1279 1279 1279 1279 1279 1279 1279 1279 1279 1279 1279 1280 1280 1280 1280 1280 1280 1280 1280 1280 1280 1280 1280 1280 1280 1280 1280 1280 1280 1280 1280 1280 1280 1280 1280 1280 1280 1280 1280 1280 1280 1280 1280 1280 1280 1280 1281 1281 1281 1281 1281 1281 1281 1281 1281 1281 1281 1282 1282 1282 1282 1282 1282 1282 1282 1282 1282 1282 1282 1282 1283 1283 1283 1283 1283 1283 1283 1283 1283 1283 1283 1283 1283 1283 1283 1283 1283 1283 1283 1283 1283 1283 1283 1283 1283 1283 1283 1283 1283 1284 1284 1284 1284 1284 1284 1284 1284 1284 1284 1284 1284 1284 1284 1284 1284 1284 1284 1284 1284 1284 1284 1284 1284 1285 1285 1285 1285 1285 1285 1285 1285 1285 1285 1285 1285 1285 1285 1285 1285 1285 1285 1285 1286 1286 1286 1286 1286 1286 1286 1286 1286 1286 1286 1286 1286 1286 1286 1286 1286 1286 1286 1286 1286 1286 1286 1286 1286 1286 1286 1286 1286 1286 1286 1287 1287 1287 1287 1287 1287 1287 1287 1287 1287 1287 1287 1287 1287 1287 1287 1287 1287 1287 1287 1287 1287 1287 1287 1287 1287 1287 1287 1287 1287 1287 1287 1287 1287 1287 1287 1287 1287 1287 1287 1287 1287 1287 1287 1287 1287 1287 1288 1288 1288 1288 1288 1288 1288 1288 1288 1288 1288 1288 1288 1288 1288 1288 1288 1288 1288 1288 1288 1288 1288 1288 1288 1288 1289 1289 1289 1289 1289 1289 1289 1289 1289 1289 1289 1289 1289 1290 1290 1290 1290 1290 1290 1290 1290 1290 1290 1290 1290 1290 1290 1290 1290 1290 1290 1290 1290 1290 1290 1290 1290 1290 1290 1291 1291 1291 1291 1291 1291 1291 1291 1291 1291 1291 1291 1291 1291 1292 1292 1292 1292 1292 1292 1292 1292 1292 1292 1292 1292 1292 1292 1292 1292 1292 1293 1293 1293 1293 1293 1293 1293 1293 1293 1293 1293 1293 1293 1293 1293 1293 1293 1293 1293 1293 1293 1293 1293 1293 1293 1293 1293 1293 1293 1294 1294 1294 1294 1294 1294 1294 1294 1294 1294 1294 1294 1294 1294 1294 1294 1294 1294 1294 1294 1294 1294 1294 1294 1294 1294 1294 1294 1294 1294 1294 1294 1294 1294 1295 1295 1295 1295 1295 1295 1295 1295 1295 1295 1295 1295 1295 1295 1295 1295 1295 1295 1295 1295 1295 1295 1295 1295 1295 1295 1295 1295 1295 1295 1295 1295 1295 1295 1295 1295 1296 1296 1296 1296 1296 1296 1296 1296 1296 1296 1296 1296 1296 1296 1296 1297 1297 1297 1297 1297 1297 1297 1297 1297 1297 1297 1297 1297 1297 1297 1297 1297 1297 1297 1297 1297 1297 1297 1297 1297 1297 1298 1298 1298 1298 1298 1298 1298 1298 1298 1298 1298 1298 1298 1298 1298 1298 1298 1298 1299 1299 1299 1299 1299 1299 1299 1299 1299 1299 1299 1299 1299 1299 1299 1299 1299 1299 1299 1299 1299 1300 1300 1300 1300 1300 1300 1300 1300 1300 1300 1300 1300 1300 1300 1300 1300 1300 1301 1301 1301 1301 1301 1301 1301 1301 1301 1301 1301 1301 1301 1301 1302 1302 1302 1302 1302 1302 1302 1302 1302 1302 1302 1302 1302 1302 1302 1302 1302 1302 1302 1302 1302 1302 1302 1302 1302 1302 1302 1302 1302 1302 1302 1302 1302 1302 1302 1302 1302 1302 1302 1302 1302 1302 1302 1302 1302 1302 1302 1302 1303 1303 1303 1303 1303 1303 1303 1303 1303 1303 1303 1303 1303 1303 1303 1303 1303 1303 1303 1303 1303 1303 1303 1303 1303 1303 1303 1303 1303 1303 1303 1303 1304 1304 1304 1304 1304 1304 1304 1304 1304 1304 1304 1304 1304 1304 1304 1304 1305 1305 1305 1305 1305 1305 1305 1305 1305 1305 1305 1305 1305 1305 1305 1305 1305 1305 1305 1305 1305 1306 1306 1306 1306 1306 1306 1306 1306 1306 1306 1306 1306 1306 1306 1306 1306 1306 1306 1306 1306 1306 1306 1306 1306 1307 1307 1307 1307 1307 1307 1307 1307 1307 1307 1307 1307 1307 1307 1307 1307 1307 1307 1307 1307 1307 1307 1308 1308 1308 1308 1309 1309 1309 1309 1309 1309 1309 1309 1309 1309 1309 1309 1309 1309 1309 1309 1309 1309 1309 1309 1309 1309 1309 1309 1309 1309 1309 1309 1309 1309 1309 1309 1309 1309 1309 1309 1309 1309 1310 1310 1310 1310 1310 1310 1310 1310 1310 1310 1310 1310 1310 1311 1311 1311 1311 1311 1311 1311 1311 1311 1311 1311 1311 1311 1311 1311 1311 1311 1311 1311 1311 1311 1311 1311 1312 1312 1312 1312 1312 1312 1312 1312 1312 1312 1312 1312 1312 1312 1312 1312 1312 1312 1312 1312 1312 1312 1312 1312 1312 1312 1313 1313 1313 1313 1313 1313 1313 1313 1313 1313 1313 1313 1313 1313 1313 1313 1313 1313 1313 1313 1313 1313 1313 1313 1313 1314 1314 1314 1314 1314 1314 1314 1314 1314 1314 1314 1314 1314 1314 1314 1314 1314 1314 1314 1314 1314 1314 1314 1314 1314 1314 1314 1314 1315 1315 1315 1315 1316 1316 1316 1316 1316 1316 1316 1316 1316 1316 1316 1316 1316 1316 1316 1316 1316 1316 1316 1316 1316 1316 1316 1316 1316 1316 1316 1316 1316 1316 1316 1316 1316 1316 1316 1316 1316 1316 1316 1316 1316 1316 1316 1316 1316 1316 1316 1316 1317 1317 1317 1317 1317 1317 1317 1318 1318 1318 1318 1318 1318 1318 1318 1318 1318 1318 1318 1318 1318 1318 1318 1318 1318 1318 1318 1318 1318 1318 1318 1318 1318 1318 1318 1318 1318 1318 1318 1318 1318 1318 1318 1319 1319 1319 1319 1319 1319 1319 1319 1319 1319 1319 1319 1319 1320 1320 1320 1320 1320 1320 1321 1321 1321 1321 1321 1321 1321 1321 1321 1321 1321 1321 1321 1321 1321 1321 1321 1321 1321 1321 1321 1321 1321 1321 1321 1321 1321 1321 1321 1321 1321 1321 1321 1321 1321 1321 1321 1321 1322 1322 1322 1322 1322 1322 1322 1322 1322 1322 1322 1322 1322 1322 1323 1323 1323 1323 1323 1323 1323 1323 1323 1323 1323 1323 1323 1323 1323 1323 1323 1323 1323 1324 1324 1324 1324 1324 1324 1324 1324 1325 1325 1325 1325 1325 1325 1325 1325 1325 1325 1325 1325 1325 1325 1325 1325 1325 1325 1325 1325 1325 1325 1325 1325 1325 1325 1325 1325 1325 1325 1325 1325 1325 1325 1325 1325 1325 1325 1325 1325 1325 1325 1325 1325 1325 1325 1325 1325 1326 1326 1326 1326 1326 1326 1326 1326 1326 1326 1327 1327 1327 1327 1327 1327 1327 1327 1327 1327 1327 1327 1327 1327 1327 1327 1327 1327 1328 1328 1328 1328 1328 1328 1328 1328 1328 1328 1328 1328 1328 1328 1328 1328 1328 1328 1328 1328 1328 1328 1328 1328 1328 1328 1328 1328 1328 1328 1328 1328 1328 1328 1328 1329 1329 1329 1329 1329 1329 1329 1329 1329 1329 1329 1329 1329 1329 1329 1329 1330 1330 1330 1330 1330 1330 1330 1330 1330 1330 1330 1330 1330 1330 1330 1330 1330 1330 1331 1331 1331 1331 1331 1331 1331 1331 1331 1332 1332 1332 1332 1332 1332 1332 1332 1332 1332 1332 1332 1332 1332 1332 1332 1332 1332 1332 1332 1332 1332 1332 1332 1332 1332 1332 1332 1332 1332 1332 1332 1333 1333 1333 1333 1333 1333 1334 1334 1334 1334 1334 1334 1334 1334 1334 1334 1334 1334 1334 1335 1335 1335 1335 1335 1335 1335 1335 1335 1335 1335 1335 1335 1335 1335 1335 1335 1335 1335 1335 1335 1335 1335 1335 1335 1335 1335 1335 1335 1335 1335 1335 1335 1335 1335 1335 1335 1335 1335 1335 1336 1336 1336 1336 1336 1336 1336 1336 1336 1336 1337 1337 1337 1337 1337 1337 1337 1337 1337 1337 1337 1337 1337 1337 1337 1337 1337 1337 1337 1337 1337 1337 1337 1337 1337 1337 1337 1337 1337 1337 1337 1337 1337 1337 1337 1337 1337 1337 1337 1338 1338 1338 1338 1338 1338 1338 1339 1339 1339 1339 1339 1339 1339 1339 1339 1339 1339 1339 1340 1340 1340 1340 1340 1340 1340 1340 1340 1340 1340 1340 1340 1340 1340 1340 1340 1340 1340 1340 1340 1340 1340 1340 1340 1341 1341 1341 1341 1341 1341 1341 1341 1341 1341 1341 1341 1341 1341 1341 1341 1342 1342 1342 1342 1342 1342 1342 1342 1342 1342 1342 1342 1342 1342 1342 1342 1342 1342 1342 1342 1343 1343 1343 1343 1343 1343 1343 1343 1343 1343 1343 1343 1344 1344 1344 1344 1344 1344 1344 1344 1344 1344 1344 1344 1344 1344 1344 1344 1344 1344 1344 1344 1344 1344 1344 1344 1344 1344 1344 1344 1344 1344 1344 1344 1344 1344 1344 1344 1344 1344 1344 1344 1344 1344 1344 1344 1345 1345 1345 1345 1345 1345 1345 1345 1345 1346 1346 1346 1346 1346 1346 1346 1346 1346 1346 1346 1346 1346 1346 1347 1347 1347 1347 1347 1347 1347 1347 1347 1347 1347 1347 1347 1347 1347 1347 1347 1347 1347 1347 1348 1348 1348 1348 1348 1348 1348 1348 1348 1348 1348 1348 1348 1349 1349 1349 1349 1349 1350 1350 1350 1350 1350 1350 1350 1350 1350 1350 1350 1350 1350 1350 1350 1350 1350 1351 1351 1351 1351 1351 1351 1351 1351 1351 1351 1351 1351 1351 1351 1351 1351 1351 1351 1351 1351 1351 1351 1351 1351 1351 1351 1351 1351 1351 1351 1351 1351 1351 1351 1351 1351 1351 1351 1351 1351 1351 1351 1351 1352 1352 1352 1352 1352 1352 1352 1352 1353 1353 1353 1353 1353 1353 1353 1353 1353 1353 1353 1353 1353 1353 1353 1353 1353 1353 1353 1353 1353 1353 1353 1353 1353 1353 1353 1353 1353 1354 1354 1354 1354 1354 1354 1354 1354 1354 1354 1354 1354 1354 1354 1354 1355 1355 1355 1355 1355 1355 1355 1355 1355 1355 1355 1355 1355 1355 1355 1355 1355 1355 1355 1355 1356 1356 1356 1356 1356 1356 1356 1356 1356 1356 1356 1356 1356 1356 1356 1357 1357 1357 1357 1357 1357 1357 1357 1357 1357 1357 1357 1357 1357 1358 1358 1358 1358 1358 1358 1358 1358 1358 1358 1359 1359 1359 1359 1359 1359 1359 1359 1359 1359 1359 1359 1359 1359 1359 1359 1359 1359 1359 1359 1359 1359 1360 1360 1360 1360 1360 1360 1360 1360 1360 1360 1360 1360 1360 1360 1360 1360 1360 1360 1360 1360 1361 1361 1361 1361 1361 1361 1361 1361 1361 1361 1362 1362 1362 1362 1362 1362 1362 1362 1362 1362 1362 1363 1363 1363 1363 1363 1363 1363 1363 1363 1363 1363 1363 1363 1363 1363 1363 1363 1363 1363 1363 1363 1363 1363 1363 1363 1363 1363 1363 1363 1363 1363 1364 1364 1364 1364 1364 1364 1364 1364 1364 1364 1364 1364 1364 1364 1365 1365 1365 1365 1365 1365 1365 1365 1365 1365 1365 1365 1366 1366 1366 1366 1366 1366 1366 1366 1366 1366 1366 1366 1366 1366 1366 1366 1366 1366 1366 1366 1366 1366 1366 1366 1366 1366 1366 1366 1366 1366 1366 1366 1366 1366 1366 1366 1366 1367 1367 1367 1367 1367 1367 1367 1367 1367 1367 1368 1368 1368 1368 1368 1368 1368 1368 1368 1368 1369 1369 1369 1369 1369 1369 1369 1369 1369 1369 1370 1370 1370 1370 1370 1370 1370 1370 1370 1370 1370 1370 1370 1370 1370 1370 1370 1370 1370 1370 1370 1370 1370 1371 1371 1371 1371 1371 1371 1371 1371 1371 1371 1372 1372 1372 1372 1372 1372 1372 1372 1372 1372 1372 1373 1373 1373 1373 1373 1373 1373 1373 1373 1373 1373 1373 1373 1373 1373 1373 1373 1373 1373 1373 1373 1373 1374 1374 1374 1374 1374 1374 1374 1374 1374 1374 1374 1374 1374 1374 1374 1374 1374 1374 1375 1375 1375 1375 1375 1375 1375 1375 1375 1375 1375 1375 1375 1375 1375 1375 1375 1375 1375 1375 1376 1376 1376 1376 1376 1376 1376 1376 1376 1376 1376 1376 1376 1376 1376 1376 1376 1377 1377 1377 1377 1377 1378 1378 1378 1378 1378 1378 1378 1378 1378 1378 1378 1378 1378 1378 1378 1378 1378 1378 1378 1379 1379 1379 1379 1379 1379 1379 1379 1379 1379 1379 1379 1379 1379 1379 1379 1379 1379 1379 1379 1380 1380 1380 1380 1380 1380 1380 1380 1380 1380 1380 1380 1381 1381 1381 1381 1381 1381 1381 1381 1381 1381 1381 1382 1382 1382 1382 1382 1382 1382 1382 1382 1382 1382 1382 1382 1382 1382 1382 1382 1382 1382 1382 1382 1382 1382 1382 1382 1383 1383 1383 1383 1383 1383 1383 1383 1383 1383 1384 1384 1384 1384 1384 1384 1384 1384 1384 1384 1385 1385 1385 1385 1385 1385 1385 1385 1385 1385 1385 1385 1385 1385 1385 1385 1385 1385 1385 1385 1385 1385 1385 1385 1385 1385 1385 1385 1385 1385 1386 1386 1386 1387 1387 1387 1387 1387 1387 1387 1387 1387 1387 1387 1387 1387 1387 1388 1388 1388 1388 1388 1388 1388 1389 1389 1389 1389 1389 1389 1389 1389 1389 1389 1389 1389 1389 1389 1389 1389 1389 1389 1389 1389 1389 1389 1389 1389 1389 1389 1389 1389 1389 1389 1390 1390 1390 1390 1390 1390 1390 1390 1390 1391 1391 1391 1391 1391 1391 1392 1392 1392 1392 1392 1392 1392 1392 1392 1392 1392 1392 1392 1392 1392 1392 1392 1392 1392 1392 1392 1392 1392 1392 1392 1392 1392 1392 1392 1392 1392 1393 1393 1393 1393 1393 1393 1393 1393 1394 1394 1394 1394 1394 1394 1394 1394 1394 1394 1394 1394 1394 1394 1394 1394 1394 1394 1394 1394 1394 1394 1394 1395 1396 1396 1396 1396 1396 1396 1396 1396 1396 1396 1396 1396 1396 1396 1396 1397 1397 1397 1397 1398 1398 1398 1398 1398 1398 1398 1398 1398 1398 1398 1398 1398 1398 1398 1399 1399 1399 1399 1399 1399 1399 1399 1399 1399 1399 1399 1399 1399 1399 1399 1399 1400 1400 1400 1400 1400 1400 1400 1400 1400 1400 1400 1400 1400 1401 1401 1401 1401 1401 1401 1401 1401 1401 1401 1401 1401 1401 1401 1401 1401 1401 1401 1401 1401 1401 1401 1401 1401 1401 1401 1401 1401 1401 1401 1402 1402 1402 1403 1403 1403 1403 1403 1403 1403 1403 1403 1403 1403 1403 1403 1403 1403 1403 1403 1403 1403 1403 1404 1404 1404 1404 1404 1404 1404 1404 1405 1405 1405 1405 1405 1405 1405 1405 1405 1405 1405 1405 1405 1406 1406 1406 1406 1406 1406 1406 1406 1406 1406 1407 1407 1407 1408 1408 1408 1408 1408 1408 1408 1408 1408 1408 1408 1408 1408 1408 1408 1408 1408 1408 1408 1408 1408 1408 1408 1408 1408 1408 1408 1408 1408 1408 1408 1409 1409 1409 1409 1410 1410 1410 1410 1410 1410 1411 1411 1411 1411 1411 1411 1411 1411 1411 1411 1411 1411 1411 1411 1411 1412 1412 1412 1412 1412 1412 1412 1412 1412 1412 1412 1412 1412 1412 1413 1413 1413 1413 1413 1413 1413 1413 1413 1413 1413 1413 1413 1413 1414 1414 1414 1414 1414 1414 1414 1414 1415 1415 1415 1415 1415 1415 1415 1415 1415 1415 1415 1415 1415 1415 1415 1415 1415 1415 1415 1415 1415 1415 1415 1415 1415 1415 1415 1415 1415 1415 1415 1415 1416 1416 1416 1416 1416 1416 1416 1416 1416 1416 1416 1416 1417 1417 1417 1417 1417 1417 1417 1417 1417 1417 1417 1417 1417 1417 1418 1418 1418 1418 1418 1419 1419 1419 1419 1419 1419 1419 1419 1420 1420 1420 1420 1420 1420 1420 1420 1420 1420 1421 1421 1421 1421 1422 1422 1422 1422 1422 1422 1422 1422 1422 1422 1422 1422 1422 1422 1422 1422 1422 1422 1422 1422 1422 1422 1423 1423 1423 1423 1423 1423 1423 1424 1424 1424 1424 1424 1424 1424 1424 1424 1424 1424 1424 1424 1424 1424 1424 1424 1424 1424 1424 1424 1424 1424 1424 1424 1424 1424 1425 1425 1425 1425 1426 1426 1426 1426 1426 1426 1426 1426 1427 1427 1427 1427 1427 1427 1427 1427 1427 1427 1427 1427 1427 1427 1427 1427 1428 1428 1428 1428 1428 1429 1429 1429 1429 1429 1429 1429 1429 1429 1429 1430 1430 1430 1430 1430 1430 1430 1430 1430 1430 1430 1431 1431 1431 1431 1431 1431 1431 1431 1431 1431 1431 1431 1431 1431 1431 1431 1431 1431 1431 1431 1431 1431 1431 1431 1431 1431 1432 1432 1432 1432 1432 1432 1432 1432 1433 1433 1433 1434 1434 1434 1434 1434 1434 1434 1434 1434 1434 1434 1434 1434 1434 1434 1434 1434 1434 1434 1434 1435 1435 1435 1435 1435 1435 1435 1436 1436 1436 1437 1437 1437 1437 1437 1437 1437 1437 1438 1438 1438 1438 1438 1438 1438 1438 1438 1438 1438 1438 1438 1439 1439 1439 1439 1439 1439 1439 1439 1439 1439 1439 1439 1439 1440 1440 1440 1440 1440 1440 1440 1440 1440 1440 1440 1440 1440 1440 1440 1440 1441 1441 1441 1441 1441 1441 1441 1441 1441 1441 1441 1441 1441 1441 1442 1442 1442 1442 1442 1442 1442 1442 1442 1442 1442 1442 1442 1442 1443 1443 1443 1443 1443 1443 1443 1444 1444 1444 1444 1444 1444 1444 1444 1444 1444 1446 1446 1446 1446 1446 1446 1446 1446 1446 1446 1446 1446 1447 1447 1447 1447 1447 1447 1447 1447 1448 1448 1448 1448 1449 1449 1449 1449 1449 1449 1449 1449 1449 1449 1449 1449 1449 1449 1449 1449 1450 1450 1450 1450 1450 1450 1450 1450 1450 1450 1450 1450 1450 1450 1450 1450 1450 1450 1450 1450 1450 1450 1450 1450 1450 1450 1451 1451 1451 1451 1451 1451 1452 1452 1453 1453 1453 1453 1453 1453 1453 1453 1453 1453 1453 1453 1453 1453 1453 1453 1453 1453 1453 1454 1454 1455 1455 1455 1455 1455 1455 1456 1456 1456 1456 1456 1456 1456 1456 1456 1456 1457 1457 1457 1457 1457 1457 1457 1457 1458 1458 1458 1458 1458 1458 1458 1458 1458 1458 1458 1458 1458 1458 1459 1459 1459 1459 1459 1459 1460 1460 1460 1460 1460 1460 1460 1460 1460 1460 1460 1460 1461 1461 1462 1462 1462 1462 1462 1462 1463 1463 1463 1463 1463 1463 1463 1463 1463 1463 1463 1463 1463 1463 1463 1464 1464 1465 1465 1465 1465 1465 1465 1465 1465 1465 1465 1465 1465 1465 1465 1465 1465 1465 1465 1465 1465 1465 1465 1465 1465 1466 1466 1466 1466 1466 1466 1466 1466 1466 1467 1468 1468 1468 1468 1468 1468 1469 1469 1469 1469 1469 1469 1469 1469 1469 1469 1469 1470 1470 1470 1470 1470 1470 1471 1472 1472 1472 1472 1472 1472 1472 1472 1472 1472 1472 1472 1472 1472 1472 1472 1472 1472 1472 1472 1472 1472 1472 1472 1474 1474 1474 1474 1474 1474 1474 1474 1474 1474 1474 1474 1475 1475 1475 1475 1475 1475 1475 1475 1476 1476 1476 1476 1476 1476 1476 1477 1477 1477 1477 1477 1477 1479 1479 1479 1479 1479 1479 1479 1479 1479 1479 1479 1479 1479 1479 1479 1479 1479 1479 1479 1479 1479 1479 1480 1481 1481 1481 1481 1481 1481 1481 1481 1481 1481 1481 1481 1481 1481 1481 1481 1482 1482 1483 1483 1483 1483 1484 1484 1484 1484 1484 1484 1484 1484 1484 1484 1484 1484 1485 1485 1485 1486 1486 1486 1486 1487 1487 1487 1487 1487 1487 1488 1488 1488 1488 1488 1488 1488 1488 1488 1488 1488 1488 1488 1488 1488 1488 1488 1488 1488 1488 1489 1489 1489 1490 1490 1490 1490 1490 1491 1491 1491 1491 1491 1491 1491 1491 1491 1491 1491 1491 1491 1491 1491 1492 1492 1492 1492 1492 1493 1493 1493 1493 1493 1493 1494 1494 1494 1495 1495 1495 1495 1495 1495 1495 1495 1497 1497 1498 1498 1498 1498 1498 1498 1498 1498 1498 1498 1498 1498 1498 1498 1498 1498 1499 1499 1499 1500 1500 1500 1500 1500 1500 1500 1500 1500 1500 1500 1500 1500 1500 1500 1500 1501 1501 1501 1502 1502 1502 1502 1502 1502 1502 1502 1502 1502 1502 1502 1503 1503 1503 1503 1503 1503 1503 1503 1504 1504 1504 1504 1505 1506 1506 1506 1507 1507 1507 1507 1507 1507 1507 1507 1507 1507 1507 1507 1507 1507 1507 1508 1509 1509 1509 1509 1509 1510 1510 1510 1510 1510 1510 1511 1511 1511 1511 1511 1511 1511 1511 1512 1512 1513 1513 1513 1513 1513 1513 1513 1513 1513 1513 1513 1513 1514 1514 1514 1514 1515 1515 1515 1515 1515 1515 1516 1516 1516 1516 1516 1516 1516 1516 1517 1517 1517 1517 1517 1517 1518 1518 1518 1518 1518 1518 1518 1519 1519 1519 1519 1520 1520 1520 1521 1521 1521 1521 1521 1521 1521 1521 1522 1522 1522 1522 1522 1522 1522 1522 1523 1524 1525 1525 1526 1526 1526 1526 1526 1526 1526 1526 1526 1526 1526 1526 1527 1527 1527 1527 1528 1528 1528 1528 1528 1528 1529 1529 1529 1529 1529 1529 1529 1529 1529 1529 1529 1529 1529 1529 1530 1530 1531 1531 1531 1531 1531 1531 1533 1533 1534 1534 1535 1535 1536 1536 1536 1536 1536 1536 1536 1536 1536 1536 1536 1537 1537 1537 1537 1537 1537 1537 1537 1537 1538 1538 1539 1539 1539 1539 1539 1539 1540 1540 1540 1540 1541 1541 1541 1541 1541 1541 1542 1543 1543 1543 1543 1543 1543 1545 1545 1545 1545 1545 1545 1545 1545 1545 1545 1546 1546 1547 1547 1547 1547 1548 1548 1548 1548 1548 1548 1548 1550 1550 1550 1550 1550 1550 1550 1550 1551 1552 1552 1552 1552 1552 1552 1552 1552 1552 1552 1552 1552 1552 1552 1552 1555 1555 1555 1555 1555 1555 1556 1556 1556 1557 1557 1557 1557 1559 1559 1559 1559 1559 1559 1559 1559 1559 1559 1561 1561 1561 1561 1562 1562 1562 1562 1562 1562 1562 1562 1562 1563 1563 1563 1564 1564 1564 1564 1564 1564 1566 1566 1566 1566 1566 1566 1567 1567 1568 1568 1568 1568 1568 1568 1569 1569 1569 1569 1571 1571 1571 1571 1571 1571 1571 1571 1571 1571 1571 1571 1574 1574 1575 1575 1575 1575 1575 1575 1576 1576 1576 1577 1577 1578 1578 1578 1578 1578 1578 1578 1578 1578 1578 1578 1578 1578 1578 1578 1578 1579 1579 1579 1580 1581 1584 1585 1585 1585 1585 1585 1585 1586 1586 1586 1586 1587 1587 1587 1587 1587 1587 1587 1587 1587 1587 1587 1587 1588 1588 1589 1590 1590 1591 1593 1593 1593 1594 1594 1594 1594 1594 1594 1594 1597 1597 1597 1597 1597 1597 1597 1597 1600 1600 1600 1600 1600 1600 1600 1600 1602 1602 1602 1602 1602 1602 1603 1603 1603 1603 1604 1605 1605 1605 1606 1606 1607 1607 1607 1609 1609 1609 1612 1612 1612 1612 1612 1612 1613 1613 1613 1613 1616 1616 1616 1616 1616 1616 1616 1616 1618 1618 1619 1621 1621 1621 1621 1622 1623 1623 1626 1626 1626 1626 1626 1626 1628 1628 1628 1628 1628 1628 1628 1628 1630 1630 1632 1632 1635 1635 1635 1635 1635 1635 1635 1635 1637 1637 1638 1638 1639 1639 1639 1639 1642 1642 1644 1644 1644 1644 1646 1646 1647 1647 1649 1649 1649 1649 1650 1650 1650 1651 1651 1654 1654 1654 1654 1655 1656 1656 1658 1658 1658 1658 1662 1663 1663 1663 1663 1664 1665 1665 1665 1665 1665 1665 1666 1673 1673 1674 1674 1674 1674 1675 1676 1676 1676 1678 1678 1680 1684 1684 1684 1684 1687 1687 1689 1689 1692 1692 1692 1693 1694 1699 1699 1699 1699 1699 1699 1703 1703 1704 1706 1706 1708 1708 1713 1713 1715 1715 1715 1715 1715 1715 1722 1722 1722 1725 1725 1725 1725 1731 1731 1734 1734 1734 1734 1737 1741 1741 1749 1749 1750 1750 1763 1763 1763 1765 1775 1779 1786 1786 1791 1791 1793 1802 1802 1812 1812 1821 1821 1836 1850 1862 1862 1878 1949 "
          ]
        }
      ]
    },
    {
      "cell_type": "markdown",
      "source": [
        "**BA4D:Compute the Number of Peptides of Given Total Mass**"
      ],
      "metadata": {
        "id": "V4MwxRUk7vfX"
      }
    },
    {
      "cell_type": "code",
      "source": [
        "def totalPeptide(totalMass):\n",
        "  masses = set([57, 71, 87, 97, 99, 101, 103, 113, 113, 114, 115, 128, 128, 129, 131, 137, 147, 156, 163, 186])\n",
        "  table =[0]*(totalMass+1)\n",
        "  table[0] = 1\n",
        "  for i in range(totalMass+1):\n",
        "    for mass in masses:\n",
        "      if i>=mass:\n",
        "        table[i] += table[i-mass] \n",
        "  return table[-1] ,table    \n",
        "\n",
        "\n",
        "res,table = totalPeptide(1024)\n",
        "print(res)\n",
        "print(table)\n",
        "\n",
        "\n",
        "\n",
        "\n"
      ],
      "metadata": {
        "colab": {
          "base_uri": "https://localhost:8080/"
        },
        "id": "O-I8lvM673ob",
        "outputId": "921a4b37-5af0-4c79-9b5f-c7fc03cb7925"
      },
      "execution_count": null,
      "outputs": [
        {
          "output_type": "stream",
          "name": "stdout",
          "text": [
            "14712706211\n",
            "[1, 0, 0, 0, 0, 0, 0, 0, 0, 0, 0, 0, 0, 0, 0, 0, 0, 0, 0, 0, 0, 0, 0, 0, 0, 0, 0, 0, 0, 0, 0, 0, 0, 0, 0, 0, 0, 0, 0, 0, 0, 0, 0, 0, 0, 0, 0, 0, 0, 0, 0, 0, 0, 0, 0, 0, 0, 1, 0, 0, 0, 0, 0, 0, 0, 0, 0, 0, 0, 0, 0, 1, 0, 0, 0, 0, 0, 0, 0, 0, 0, 0, 0, 0, 0, 0, 0, 1, 0, 0, 0, 0, 0, 0, 0, 0, 0, 1, 0, 1, 0, 1, 0, 1, 0, 0, 0, 0, 0, 0, 0, 0, 0, 1, 2, 1, 0, 0, 0, 0, 0, 0, 0, 0, 0, 0, 0, 0, 3, 1, 0, 1, 0, 0, 0, 0, 0, 1, 0, 0, 0, 0, 1, 0, 2, 0, 0, 1, 0, 0, 0, 0, 0, 0, 2, 0, 3, 0, 4, 0, 2, 0, 0, 1, 0, 0, 0, 0, 2, 0, 4, 3, 4, 0, 3, 0, 0, 0, 0, 0, 0, 0, 0, 0, 4, 7, 7, 0, 4, 0, 2, 0, 0, 0, 3, 0, 2, 0, 3, 5, 8, 5, 7, 0, 4, 0, 1, 0, 2, 0, 2, 5, 4, 8, 4, 13, 6, 5, 6, 0, 2, 0, 0, 0, 2, 8, 3, 15, 11, 16, 5, 11, 4, 0, 8, 0, 2, 0, 2, 3, 2, 17, 17, 26, 6, 17, 4, 6, 2, 0, 6, 8, 2, 8, 0, 20, 16, 39, 11, 31, 6, 18, 5, 3, 2, 11, 4, 12, 12, 23, 22, 38, 34, 41, 11, 29, 4, 11, 4, 3, 0, 15, 24, 29, 45, 51, 52, 52, 33, 41, 0, 33, 2, 14, 3, 18, 18, 31, 63, 80, 87, 59, 61, 51, 18, 42, 0, 30, 19, 22, 30, 24, 86, 79, 150, 82, 115, 62, 62, 44, 9, 42, 39, 32, 54, 50, 110, 92, 187, 124, 186, 92, 118, 65, 37, 42, 24, 42, 72, 90, 147, 151, 241, 187, 265, 124, 198, 66, 125, 62, 55, 33, 102, 96, 190, 218, 358, 288, 358, 226, 297, 83, 221, 60, 142, 99, 130, 121, 202, 315, 422, 504, 474, 399, 416, 228, 293, 55, 232, 152, 199, 232, 275, 437, 496, 728, 658, 688, 591, 429, 459, 152, 329, 136, 296, 308, 443, 637, 684, 1006, 882, 1098, 790, 778, 599, 423, 474, 227, 359, 457, 534, 884, 948, 1508, 1225, 1644, 1093, 1324, 757, 892, 634, 541, 580, 636, 696, 1114, 1293, 1997, 1920, 2327, 1716, 2050, 1154, 1422, 737, 1021, 924, 951, 1076, 1454, 1823, 2513, 2789, 3265, 2701, 3095, 1940, 2346, 975, 1694, 1025, 1557, 1567, 2163, 2610, 3371, 3974, 4418, 4262, 4376, 3156, 3588, 1934, 2678, 1298, 2210, 2148, 2898, 3861, 4536, 5958, 5939, 6672, 5935, 5344, 4922, 3559, 4073, 2437, 3371, 3023, 3866, 5150, 6115, 8540, 8525, 9957, 8533, 8736, 6982, 6033, 5529, 4224, 5364, 4456, 5695, 7008, 8374, 11447, 12079, 14599, 12439, 13841, 10292, 10325, 7302, 7416, 7046, 7038, 8269, 10145, 11821, 15840, 16785, 20603, 18404, 20885, 15352, 17054, 11057, 12524, 9122, 10934, 11536, 14162, 17227, 21614, 24649, 28458, 27752, 29702, 23698, 25715, 17703, 20469, 13619, 16977, 15980, 19779, 24015, 29345, 35770, 39922, 41728, 42488, 37282, 37687, 27591, 31172, 21308, 27494, 22577, 28979, 33009, 40318, 50138, 55855, 61877, 60762, 59145, 54977, 45161, 44360, 33891, 40510, 34009, 42722, 47300, 56253, 70596, 76812, 90272, 86578, 91358, 79646, 75057, 64640, 56312, 56296, 51386, 61671, 67192, 80989, 99167, 109230, 128426, 125369, 135707, 116337, 118240, 96673, 93279, 81249, 80129, 87069, 94799, 114972, 137279, 157302, 183093, 183329, 198519, 173033, 180772, 142246, 149575, 119278, 129243, 122868, 139961, 160210, 190670, 222928, 258351, 269040, 288567, 263085, 270794, 216116, 227881, 176971, 201645, 177744, 208260, 228256, 268259, 316687, 358516, 393155, 411850, 401455, 398352, 341046, 340995, 272765, 300205, 260042, 309211, 324445, 384153, 450564, 504499, 567998, 588401, 600823, 578962, 533929, 510415, 433177, 444682, 388944, 452512, 459470, 552397, 634089, 719092, 819285, 844887, 891571, 841226, 822533, 747180, 690743, 655730, 607638, 653547, 668154, 784465, 891235, 1021754, 1173142, 1218975, 1314522, 1236360, 1254492, 1096239, 1076375, 958404, 951947, 947363, 992703, 1122411, 1260532, 1455153, 1653918, 1764850, 1907195, 1835960, 1880507, 1648576, 1651858, 1415971, 1460993, 1371529, 1483054, 1606478, 1810229, 2079621, 2336025, 2547908, 2741184, 2715682, 2776134, 2499342, 2512733, 2140584, 2226128, 1997304, 2216811, 2282112, 2616972, 2958028, 3330505, 3682984, 3933498, 4010330, 4050095, 3786786, 3745724, 3291286, 3354232, 2995140, 3287185, 3281746, 3776706, 4190343, 4742887, 5313126, 5645977, 5924322, 5901521, 5738289, 5506259, 5063233, 4980160, 4571098, 4851347, 4803401, 5468468, 5952334, 6779350, 7579001, 8117498, 8674816, 8631957, 8644813, 8138242, 7760736, 7340961, 6982297, 7113765, 7112179, 7921165, 8537739, 9727420, 10786035, 11681054, 12580954, 12609734, 12889745, 12073637, 11871815, 10874700, 10682039, 10362532, 10626177, 11392073, 12353203, 13941796, 15421675, 16844281, 18165579, 18432476, 18998508, 17935147, 17928572, 16263017, 16289617, 15244199, 15911036, 16397063, 17933259, 19919785, 22063488, 24330478, 26152861, 27034385, 27808369, 26741200, 26682982, 24450389, 24557116, 22706862, 23807858, 23796925, 26178097, 28435345, 31639858, 34943949, 37623874, 39575132, 40614439, 39925624, 39516181, 36872190, 36640111, 34036402, 35433904, 34830610, 38333907, 40783731, 45598183, 50014309, 54113802, 57619103, 59133291, 59448243, 58366902, 55835702, 54378001, 51388886, 52298660, 51465261, 55891794, 58877270, 65797952, 71738597, 77988598, 83561588, 85957606, 87955436, 85977331, 84297081, 80695324, 77934805, 77049747, 76642837, 81275371, 85397552, 94822208, 102966737, 112663579, 120834279, 125271022, 129326152, 126734357, 126174146, 119823950, 117855664, 113878688, 114702319, 118292973, 124711451, 136437160, 148026438, 162457354, 174372897, 182672015, 189457793, 187202845, 187746461, 178172333, 177112335, 168693637, 171742884, 172622162, 183244809, 196464219, 213789263, 233667706, 251366704, 265870676, 276381975, 276684509, 278067582, 266059830, 264569621, 251121354, 255955508, 253101611, 269402648, 283763854, 309789201, 336248902, 362677877, 386151096, 401854839, 408205719, 409730479, 398017290, 393581871, 376035502, 380008454, 373471250, 395490903, 411037828, 449373059, 484014302, 524475709, 559764618, 584340761, 600290368, 602124252, 593899583, 583571238, 564435756, 563218996, 554644066, 580144262, 598489107, 651593747, 697132704, 758593961, 810020173, 850218702, 880472544, 884491086, 883519407, 863386522, 846479167, 833246025, 827285786, 850306207, 877226886, 944670940, 1007358428, 1095971104, 1170544175, 1236299343, 1287252950, 1299681261, 1310199473, 1278383835, 1266091139, 1233093921, 1234332592, 1246821643, 1290733057, 1370391586, 1461254393, 1583529048, 1691648574, 1796253855, 1875410491, 1908998815, 1934377262, 1895838908, 1887663662, 1829819867, 1839134729, 1832406955, 1902030775, 1989336676, 2125475249, 2287711459, 2448999211, 2607408991, 2728604697, 2800537521, 2845084806, 2810759474, 2804090770, 2722242363, 2735847357, 2703495657, 2804607577, 2894273106, 3096298714, 3304371087, 3549502213, 3780513738, 3969346444, 4103454369, 4175498382, 4164101296, 4150052734, 4055024684, 4058896657, 4005421967, 4132915967, 4229644709, 4514002753, 4779808229, 5145515930, 5475024236, 5772036812, 6001760699, 6121663871, 6161829306, 6130639704, 6040941743, 6008525843, 5949231887, 6083950035, 6206693070, 6583729181, 6933594852, 7462837436, 7925372714, 8391022842, 8756135919, 8968669485, 9095539972, 9052583398, 8990983783, 8891081466, 8846299676, 8952631163, 9135330923, 9600606645, 10087428237, 10825687376, 11483738177, 12194908070, 12753252702, 13129636439, 13386516180, 13359765113, 13354923566, 13162382781, 13157227650, 13185550287, 13476897718, 14003300513, 14712706211]\n"
          ]
        }
      ]
    },
    {
      "cell_type": "code",
      "source": [
        "import matplotlib.pyplot as plt\n",
        "import numpy as np\n",
        "import math\n",
        "\n",
        "masses = [i for i in range(1025)]\n",
        "way = []\n",
        "for i in range(1025):\n",
        "  if table[i]!= 0:\n",
        "    way.append(math.log10(table[i]))\n",
        "  else: way.append(0)\n",
        "plt.plot(masses,way)\n",
        "plt.show()"
      ],
      "metadata": {
        "colab": {
          "base_uri": "https://localhost:8080/",
          "height": 265
        },
        "id": "cOJDDRI2A9Gp",
        "outputId": "537fc588-9858-458c-cfc2-e5079f9f639f"
      },
      "execution_count": null,
      "outputs": [
        {
          "output_type": "display_data",
          "data": {
            "text/plain": [
              "<Figure size 432x288 with 1 Axes>"
            ],
            "image/png": "[encoded data removed]"
          },
          "metadata": {
            "needs_background": "light"
          }
        }
      ]
    },
    {
      "cell_type": "markdown",
      "source": [
        "**BA5A:Find the Minimum Number of Coins Needed to Make Change**"
      ],
      "metadata": {
        "id": "BxivcWaOAUCh"
      }
    },
    {
      "cell_type": "code",
      "source": [
        "def minCoins(amount,coins):\n",
        "  money = [0]*(amount+1)\n",
        "  for i in range(1,amount+1):\n",
        "    money[i] = float('inf')\n",
        "  for i in range(1,amount+1):\n",
        "    for j in coins:\n",
        "      if i>=j:\n",
        "        money[i] = min(money[i],money[i-j]+1)\n",
        "  return money[-1]      \n",
        "coins = [1,5,10,20,25,50]\n",
        "minCoins(40,coins)\n",
        "\n",
        "    "
      ],
      "metadata": {
        "colab": {
          "base_uri": "https://localhost:8080/"
        },
        "id": "sR-ke00Q9mSu",
        "outputId": "8eb958aa-e79d-463e-a13d-6dc1c0446ebe"
      },
      "execution_count": null,
      "outputs": [
        {
          "output_type": "execute_result",
          "data": {
            "text/plain": [
              "2"
            ]
          },
          "metadata": {},
          "execution_count": 117
        }
      ]
    },
    {
      "cell_type": "markdown",
      "source": [
        "**BA5C:Find a Longest Common Subsequence of Two Strings**"
      ],
      "metadata": {
        "id": "3AD5iZwkKTqB"
      }
    },
    {
      "cell_type": "code",
      "source": [
        "def lcs(s1,s2):\n",
        "  dp = [[0 for i in range(len(s1)+100)] for j in range(len(s2)+100)]\n",
        "  for i in range(1,len(s1)+1):\n",
        "    for j in range(1,len(s2)+1):\n",
        "      if s1[i-1] == s2[j-1]:\n",
        "        dp[i][j] = dp[i-1][j-1]+1\n",
        "      else:\n",
        "        dp[i][j] = max(dp[i-1][j],dp[i][j-1])\n",
        "\n",
        "  LCS = ''\n",
        "  i = len(s1)\n",
        "  j = len(s2)\n",
        "  while i>0 and j>0:\n",
        "    if dp[i][j] == dp[i-1][j]:\n",
        "      i = i-1\n",
        "    elif dp[i][j] == dp[i][j-1]:\n",
        "      j = j-1\n",
        "    else:\n",
        "      LCS += s1[i-1]\n",
        "      i = i-1\n",
        "      j = j-1   \n",
        "\n",
        "\n",
        "\n",
        "  return LCS[::-1]   \n",
        "\n",
        "lcs(\"GTAACAAGATTTCTGACGTCAAAGCACTCAAGATAAATATGGCTCCCTATCCCCTCCAATATACCAAAATGGCCTAACCTTGACCTGGAATTCATGTAACGGAATTTTAGATACCGGTCCCGAGATCCGATTTCGCAAAGTAACGGGTCGTATGATCGTCTCGGAAAGAGGGAACTTTCTGTAGCCGTGTATCAATTCCACGTTGGCCTGGAATGAATTATGTATATCGGGCATTTAGGAGTTCGGTAGCCAGTCTTGCGCTTTTGTTTCTATTATTGCGTACACAACAAAGCATGAAATCTGCCCAATTGGCCTTGCTACCTGTACCTTAGTGACAGTGTCCAATGAGCGAGTCCAGTTTTCTATACACAAGTTGCGGCGACGGCGCTCTACAAGTTCAAACTCGGGAAGAGTCTCCGCAGAATCTAAACGGCTAGCTAAATATATGTGCGTGCGCAGTAAAAGCAGAGTTAAGGGCGGGCAAATAATGTCCGAATCGATTGACCAAACTGAGCTGGATGTGATCAGTTTTGGTGGATGTTACCGTGCCTAATGGCTATATCGCGACGGGGTTCATTCTGTAAAAAACGAGGTAAATATAAATGATGCACGAGGATATTTCATCGTAGGAAGAAACATCATCCCACCGATCTCCACCCAGACGTCACCCAATGTACCGTCCAAAATCCCACGCTTTCGCAGAAGGGGATAAGCGAACATCGCTGCCCCTATTACGTATCACAATCGTCGGTAATGTAACGTCCCACTCCTGCAGTATAAAACGAATCTTGCGAATCAGTGGTCAAAAACCCCTTTGGAACCAGGTAGATGCCGGTTGCTAAACCAGTTTGAACCAACGATCATGGGCTGTATGTAACATTCACTTCGA\",\"TTAGTCTATTGCGTGTTCCACATGTAGGCAGCGCTCATGGACTGATGCGATGAACGCAAATTCTGGAAAACCTTTTGGTTTAGCACTCGGCTTGCGCGTAGATATGAATTAAGCGTAGTGTCCCCCCCCCGAACTTGAGGTGCCGCCGATAGCCAGTTAATACCAGACAAGTATCGAGTAAGGGGGCCCGAACTAAGGGGGCTGCGAGACTAATGACAAGTTTCCTTTTCTATTACATACGTTTGGTAGGAGAATTAGATTCCCCCGACCGATGCACGTTTACGCCTTAGGTTGAGTTATGTACAACTCCTGAGCCGTTAGAATGTCTATGGCGCCCACCATATGTAGACTGTGTGATGGACATTCTACTCCGCCATTCTTTATTTCTTTCATGGGTCGTTAAGCATCACCCGTCGGTGAAATCTTCGACAGAATCAACTGAGCTGGCGAAAGCCCAGCCAACGTACTTCATAAGAGAGACGACCTCACCGTGAGAAGCTTAATCTCCGATGGTGCAGACACGGGCCAGTTGAATGCAGCTGCAAAGACGTGTAGAGTGGACTCAAAAGTGAGGTAGCTAGGATAGTGTCAAGGCTACCGAAGTAGGACTATATTACGAACCGCACAACCGACAAGACAGCCGCGTGTAACGGGCCCTACTTGCAACAATTTTTGTCTAACACCCCCGCACGGCGGCCGCGAATCGAGCAGCGTCGGATGCCCGACTATGGAGTCGGTCGAGGTTCTCGCTGACCTATACTACGCGTTATGTCCCCGAAACTCTACAATGGTTCAAGAAAGTTAAGTTACACTCGGGTACGGTGTACTGAAGATATACTGATGCTATCGCCGTACCGAGAGGACACTGGGCTAGGGAAACGCTTGCAGACTATGACTTTG\")  \n"
      ],
      "metadata": {
        "colab": {
          "base_uri": "https://localhost:8080/",
          "height": 140
        },
        "id": "dmHNYP-HKYGX",
        "outputId": "f8907d10-f9a9-46a7-d890-e129c5bde543"
      },
      "execution_count": null,
      "outputs": [
        {
          "output_type": "execute_result",
          "data": {
            "text/plain": [
              "'TAGTTTTGCGTCACATGTAGGCACCTCAATATCAAAGCAATTCTGGAATTTTGGTTTAGATCGGTCCGAGATATGAATAAGCGTAGTGTCCGAAGAGGGCCGTAGCCGTTATCAATTCAGTGGCCGAATAAGGGGCTGGAGTTGACAGTTTCCTTTTTTTCTATTTGGTAAAAAGATTCCCCAATGCCTTTACGCCTTAGTGAGTGTCAATCGAGCCGTTTTCTATCACAAGTGCGGGAGGCTCTACATTCACTCGGGAAGATCCCCGTCGGTGAAATTTCGCAGAAAACGAGTGGCGAAAAGCCAACGATTCAAAGAGGAGATCAGTGGAGTTACTCCATGGTGCGACGGGGTTATCTGAAAACGGTAATATAAATGATGCAGGATATTCACTAGAAGAACATATACGACCCACCCGACGCACCCTGTACCTCCAAAATCCACCCGCAGGGGGATAAGCGTCGTGCCCCTATTCGTATCACAATCGCGTATGTCCCCACTCTCAGTTAAAAGAATTCATCGGGTACTTTGGAACTGATGCTTGCCGTACCAAGACATGGGCTGATGAACATACTTG'"
            ],
            "application/vnd.google.colaboratory.intrinsic+json": {
              "type": "string"
            }
          },
          "metadata": {},
          "execution_count": 145
        }
      ]
    },
    {
      "cell_type": "code",
      "source": [
        "file = open('text.txt','r+')\n",
        "l = file.readlines()\n",
        "li =[]\n",
        "for i in l:\n",
        "  if '\\n' in i:\n",
        "    li.append(i.replace('\\n',' '))\n",
        "  else:\n",
        "    li.append(i)  \n",
        "li  \n",
        "file.writelines(li) "
      ],
      "metadata": {
        "id": "quBcgLyxTCaT"
      },
      "execution_count": null,
      "outputs": []
    },
    {
      "cell_type": "code",
      "source": [
        "with open('text.txt','r') as f:\n",
        "  k,t = [int(x) for x in f.readline().split()]\n",
        "  strings = [x.replace('\\n','') for x in f.readlines()]\n",
        "print(k,t)  \n",
        "print(strings)\n",
        "\n",
        "\n",
        "with open('text2.txt','w') as out:\n",
        "  for i in strings:\n",
        "    out.write(i+'\\n')"
      ],
      "metadata": {
        "colab": {
          "base_uri": "https://localhost:8080/"
        },
        "id": "vPxSTsFQ2_Q1",
        "outputId": "e112fa23-3857-4bea-e8cc-cca1a7f7a205"
      },
      "execution_count": null,
      "outputs": [
        {
          "output_type": "stream",
          "name": "stdout",
          "text": [
            "8 5\n",
            "['CGCCCCTCTCGGGGGTGTTCAGTAAACGGCCA', 'GGGCGAGGTATGTGTAAGTGCCAAGGTGCCAG', 'TAGTACCGAGACCGAAAGAAGTATACAGGCGT', 'TAGATCAAGTTTCAGGTGCACGTCGGTGAACC', 'AATCCACCAGCTCCACGTGCAATGTTGGCCTA']\n"
          ]
        }
      ]
    }
  ]
}